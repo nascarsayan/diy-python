{
  "cells": [
    {
      "cell_type": "markdown",
      "metadata": {
        "id": "TPUEDGZl6yBq"
      },
      "source": [
        "# Day 1: Introduction to Python and Basic Concepts"
      ]
    },
    {
      "cell_type": "markdown",
      "metadata": {
        "id": "DXBXcAzp61r8"
      },
      "source": [
        "<a target=\"_blank\" href=\"https://colab.research.google.com/github/nascarsayan/diy-python/blob/master/day1.ipynb\">\n",
        "  <img src=\"https://colab.research.google.com/assets/colab-badge.svg\" alt=\"Open In Colab\"/>\n",
        "</a>"
      ]
    },
    {
      "cell_type": "markdown",
      "metadata": {
        "id": "uzGXk25B6yBu"
      },
      "source": [
        "## Session 1: Introduction to Python"
      ]
    },
    {
      "cell_type": "markdown",
      "metadata": {
        "id": "L1n_On_v6yBu"
      },
      "source": [
        "### 1.1 History and Features of Python"
      ]
    },
    {
      "cell_type": "markdown",
      "metadata": {
        "id": "IwbxO2Dw6yBu"
      },
      "source": [
        "Python was created by Guido van Rossum and was first released in 1991. It's known for its simplicity, readability, and versatility.\n",
        "Some key features include:\n",
        "- High-level language\n",
        "- Interpreted language\n",
        "- Dynamically typed\n",
        "- Large standard library\n",
        "- Community support"
      ]
    },
    {
      "cell_type": "markdown",
      "metadata": {
        "id": "WSGdk5HR6yBv"
      },
      "source": [
        "### 1.2 Installing Python and Setting Up the Environment"
      ]
    },
    {
      "cell_type": "markdown",
      "metadata": {
        "id": "IQ3desGb6yBv"
      },
      "source": [
        "To install Python, download it from the official website: https://www.python.org/downloads/\n",
        "Make sure to check the 'Add Python to PATH' option during installation.\n",
        "You can set up a virtual environment using the following commands:"
      ]
    },
    {
      "cell_type": "code",
      "execution_count": null,
      "metadata": {
        "id": "v3dGpptw6yBv"
      },
      "outputs": [],
      "source": [
        "# Create a virtual environment\n",
        "!python -m venv myenv"
      ]
    },
    {
      "cell_type": "code",
      "execution_count": null,
      "metadata": {
        "id": "gc9foEgy6yBw"
      },
      "outputs": [],
      "source": [
        "# Activate the virtual environment\n",
        "!source myenv/bin/activate  # On Windows, use `myenv\\Scripts\\activate`"
      ]
    },
    {
      "cell_type": "markdown",
      "metadata": {
        "id": "fdvVJpc_6yBw"
      },
      "source": [
        "### 1.3 Writing and Running Your First Python Script"
      ]
    },
    {
      "cell_type": "markdown",
      "metadata": {
        "id": "Z0s6XgNc6yBx"
      },
      "source": [
        "Let's create a simple Python script.\n",
        "Save the following code in a file named `hello.py`."
      ]
    },
    {
      "cell_type": "code",
      "execution_count": 1,
      "metadata": {
        "id": "_tehQHyp6yBx"
      },
      "outputs": [
        {
          "name": "stdout",
          "output_type": "stream",
          "text": [
            "Hello, Python!\n"
          ]
        }
      ],
      "source": [
        "# hello.py\n",
        "print(\"Hello, Python!\")"
      ]
    },
    {
      "cell_type": "markdown",
      "metadata": {
        "id": "Y3IqAzJs6yBx"
      },
      "source": [
        "You can run this script from the command line:"
      ]
    },
    {
      "cell_type": "code",
      "execution_count": null,
      "metadata": {
        "id": "XEtffYWc6yBx"
      },
      "outputs": [],
      "source": [
        "# Run the script\n",
        "!python hello.py"
      ]
    },
    {
      "cell_type": "markdown",
      "metadata": {
        "id": "RdUmjVyn6yBx"
      },
      "source": [
        "## Session 2: Basic Syntax"
      ]
    },
    {
      "cell_type": "markdown",
      "metadata": {
        "id": "-yqwNpVo6yBx"
      },
      "source": [
        "### 2.1 Python Syntax and Indentation"
      ]
    },
    {
      "cell_type": "markdown",
      "metadata": {
        "id": "QSB9lkcV6yBx"
      },
      "source": [
        "Python relies on indentation to define the scope of loops, functions, and classes.\n",
        "Let's see an example:"
      ]
    },
    {
      "cell_type": "code",
      "execution_count": null,
      "metadata": {
        "id": "ikLiIc9q6yBy"
      },
      "outputs": [],
      "source": [
        "if True:\n",
        "  print(\"This is indented correctly.\")\n",
        "else:\n",
        "  print(\"This will never run.\")"
      ]
    },
    {
      "cell_type": "markdown",
      "metadata": {
        "id": "bS0KFg-J6yBy"
      },
      "source": [
        "### 2.2 Variables and Data Types"
      ]
    },
    {
      "cell_type": "markdown",
      "metadata": {
        "id": "4eBrwy0K6yBy"
      },
      "source": [
        "Python supports several data types, including integers, floats, strings, and booleans."
      ]
    },
    {
      "cell_type": "code",
      "execution_count": 2,
      "metadata": {
        "id": "MxadsqJ96yBy"
      },
      "outputs": [
        {
          "name": "stdout",
          "output_type": "stream",
          "text": [
            "10 10.5 Hello, World! True\n"
          ]
        }
      ],
      "source": [
        "# Example variables\n",
        "integer_var = 10\n",
        "float_var = 10.5\n",
        "string_var = \"Hello, World!\"\n",
        "boolean_var = True\n",
        "\n",
        "print(integer_var, float_var, string_var, boolean_var)"
      ]
    },
    {
      "cell_type": "markdown",
      "metadata": {
        "id": "tQVfrVSL6yBy"
      },
      "source": [
        "### 2.3 Basic Input and Output"
      ]
    },
    {
      "cell_type": "markdown",
      "metadata": {
        "id": "LL4c21-b6yBy"
      },
      "source": [
        "You can take input from the user and display output using the `input()` and `print()` functions."
      ]
    },
    {
      "cell_type": "code",
      "execution_count": 4,
      "metadata": {
        "id": "njhkTN_u6yBy"
      },
      "outputs": [
        {
          "name": "stdout",
          "output_type": "stream",
          "text": [
            "Hello, Sayan!\n",
            "My name is Sayan!\n"
          ]
        }
      ],
      "source": [
        "# Taking user input\n",
        "user_name = input(\"Enter your name: \")\n",
        "print(\"Hello, \" + user_name + \"!\")\n",
        "\n",
        "print(f\"My name is {user_name}!\")"
      ]
    },
    {
      "cell_type": "markdown",
      "metadata": {
        "id": "dLqZrzx56yBy"
      },
      "source": [
        "## Session 3: Operators and Expressions"
      ]
    },
    {
      "cell_type": "markdown",
      "metadata": {
        "id": "mG3Yam6h6yBy"
      },
      "source": [
        "### 3.1 Arithmetic Operators"
      ]
    },
    {
      "cell_type": "markdown",
      "metadata": {
        "id": "aZkOgmvC6yBy"
      },
      "source": [
        "Python supports standard arithmetic operations such as addition, subtraction, multiplication, and division."
      ]
    },
    {
      "cell_type": "code",
      "execution_count": 7,
      "metadata": {
        "id": "dKtz1_S66yBz"
      },
      "outputs": [
        {
          "name": "stdout",
          "output_type": "stream",
          "text": [
            "Addition: 16\n",
            "Subtraction: 6\n",
            "Multiplication: 55\n",
            "Division: 2.2\n",
            "Division: 2\n"
          ]
        }
      ],
      "source": [
        "a = 11\n",
        "b = 5\n",
        "print(\"Addition:\", a + b)\n",
        "print(\"Subtraction:\", a - b)\n",
        "print(\"Multiplication:\", a * b)\n",
        "print(\"Division:\", a / b)\n",
        "print(\"Division:\", a // b)"
      ]
    },
    {
      "cell_type": "markdown",
      "metadata": {
        "id": "XUJcv38R6yBz"
      },
      "source": [
        "### 3.2 Comparison Operators"
      ]
    },
    {
      "cell_type": "markdown",
      "metadata": {
        "id": "VGm-5VgW6yBz"
      },
      "source": [
        "Comparison operators are used to compare two values."
      ]
    },
    {
      "cell_type": "code",
      "execution_count": 10,
      "metadata": {
        "id": "1S2uG6cr6yBz"
      },
      "outputs": [
        {
          "name": "stdout",
          "output_type": "stream",
          "text": [
            "Equal: False\n",
            "Equal: False\n",
            "Not equal: True\n",
            "Greater than: True\n",
            "Less than: False\n"
          ]
        }
      ],
      "source": [
        "print(\"Equal:\", a == b)\n",
        "print(f\"Equal: {a == b}\")\n",
        "print(\"Not equal:\", a != b)\n",
        "print(\"Greater than:\", a > b)\n",
        "print(\"Less than:\", a < b)"
      ]
    },
    {
      "cell_type": "markdown",
      "metadata": {
        "id": "MR-fxFj66yBz"
      },
      "source": [
        "### 3.3 Logical Operators"
      ]
    },
    {
      "cell_type": "markdown",
      "metadata": {
        "id": "8FALnXqU6yBz"
      },
      "source": [
        "Logical operators combine multiple conditions."
      ]
    },
    {
      "cell_type": "code",
      "execution_count": 11,
      "metadata": {
        "id": "PP7kEhrr6yBz"
      },
      "outputs": [
        {
          "name": "stdout",
          "output_type": "stream",
          "text": [
            "Logical AND: False\n",
            "Logical OR: True\n",
            "Logical NOT: False\n"
          ]
        }
      ],
      "source": [
        "c = True\n",
        "d = False\n",
        "print(\"Logical AND:\", c and d)\n",
        "print(\"Logical OR:\", c or d)\n",
        "print(\"Logical NOT:\", not c)"
      ]
    },
    {
      "cell_type": "markdown",
      "metadata": {
        "id": "PnLaoBvc6yBz"
      },
      "source": [
        "### 3.4 Assignment Operators"
      ]
    },
    {
      "cell_type": "markdown",
      "metadata": {
        "id": "75Y-LVDw6yBz"
      },
      "source": [
        "Assignment operators are used to assign values to variables."
      ]
    },
    {
      "cell_type": "code",
      "execution_count": 12,
      "metadata": {
        "id": "CHc6PFmO6yB0"
      },
      "outputs": [
        {
          "name": "stdout",
          "output_type": "stream",
          "text": [
            "Updated value of a: 16\n"
          ]
        }
      ],
      "source": [
        "a += 5  # Equivalent to a = a + 5\n",
        "print(\"Updated value of a:\", a)"
      ]
    },
    {
      "cell_type": "markdown",
      "metadata": {
        "id": "m1vwmHH06yB0"
      },
      "source": [
        "## Control Flow"
      ]
    },
    {
      "cell_type": "markdown",
      "metadata": {
        "id": "9FdTDd0_6yB0"
      },
      "source": [
        "### 4.1 Conditional Statements (if, elif, else)"
      ]
    },
    {
      "cell_type": "markdown",
      "metadata": {
        "id": "OkfJXC2U6yB0"
      },
      "source": [
        "Conditional statements allow you to execute different code blocks based on conditions."
      ]
    },
    {
      "cell_type": "code",
      "execution_count": 15,
      "metadata": {
        "id": "8baYXF3q6yB4"
      },
      "outputs": [
        {
          "name": "stdout",
          "output_type": "stream",
          "text": [
            "Negative number\n"
          ]
        }
      ],
      "source": [
        "num = int(input(\"Enter a number: \"))\n",
        "if num > 0:\n",
        "  print(\"Positive number\")\n",
        "elif num == 0:\n",
        "  print(\"Zero\")\n",
        "else:\n",
        "  print(\"Negative number\")"
      ]
    },
    {
      "cell_type": "markdown",
      "metadata": {
        "id": "OY8RVuJq6yB5"
      },
      "source": [
        "### 4.2 Loops (for, while)"
      ]
    },
    {
      "cell_type": "markdown",
      "metadata": {
        "id": "5SaHGewN6yB6"
      },
      "source": [
        "Loops allow you to repeat code multiple times."
      ]
    },
    {
      "cell_type": "code",
      "execution_count": null,
      "metadata": {
        "id": "gx6vxpFO6yB6"
      },
      "outputs": [],
      "source": [
        "# For loop example\n",
        "for i in range(1, 6):\n",
        "  print(\"Iteration\", i)"
      ]
    },
    {
      "cell_type": "code",
      "execution_count": 16,
      "metadata": {
        "id": "FAHbKJLx6yB6"
      },
      "outputs": [
        {
          "name": "stdout",
          "output_type": "stream",
          "text": [
            "Counter: 5\n",
            "Counter: 4\n",
            "Counter: 3\n",
            "Counter: 2\n",
            "Counter: 1\n"
          ]
        }
      ],
      "source": [
        "# While loop example\n",
        "counter = 5\n",
        "while counter > 0:\n",
        "  print(\"Counter:\", counter)\n",
        "  counter -= 1"
      ]
    },
    {
      "cell_type": "code",
      "execution_count": 17,
      "metadata": {},
      "outputs": [
        {
          "name": "stdout",
          "output_type": "stream",
          "text": [
            "Counter: 5\n",
            "Counter: 4\n",
            "Counter: 3\n",
            "Counter: 2\n",
            "Counter: 1\n"
          ]
        }
      ],
      "source": [
        "# While loop example\n",
        "counter = 5\n",
        "while True:\n",
        "  print(\"Counter:\", counter)\n",
        "  counter -= 1\n",
        "  if counter == 0:\n",
        "    break"
      ]
    },
    {
      "cell_type": "code",
      "execution_count": 25,
      "metadata": {},
      "outputs": [
        {
          "name": "stdout",
          "output_type": "stream",
          "text": [
            "Counter: 3\n",
            "Counter: 0\n"
          ]
        }
      ],
      "source": [
        "# While loop example\n",
        "counter = 5\n",
        "while True:\n",
        "  if counter % 3 != 0:\n",
        "    counter -= 1\n",
        "    continue\n",
        "  print(\"Counter:\", counter)\n",
        "  counter -= 1\n",
        "  if counter <= 0:\n",
        "    break"
      ]
    },
    {
      "cell_type": "markdown",
      "metadata": {
        "id": "eHIAwpIo6yB7"
      },
      "source": [
        "### 4.3 Break and Continue Statements"
      ]
    },
    {
      "cell_type": "markdown",
      "metadata": {
        "id": "M-TgJBD26yB7"
      },
      "source": [
        "Break and continue are used to control loop execution."
      ]
    },
    {
      "cell_type": "code",
      "execution_count": null,
      "metadata": {
        "id": "b0qvQQea6yB7"
      },
      "outputs": [],
      "source": [
        "# Break example\n",
        "for i in range(1, 6):\n",
        "  if i == 3:\n",
        "    break\n",
        "  print(\"Break example:\", i)"
      ]
    },
    {
      "cell_type": "code",
      "execution_count": null,
      "metadata": {
        "id": "IKDLiatT6yB8"
      },
      "outputs": [],
      "source": [
        "# Continue example\n",
        "for i in range(1, 6):\n",
        "  if i == 3:\n",
        "    continue\n",
        "  print(\"Continue example:\", i)"
      ]
    },
    {
      "cell_type": "code",
      "execution_count": null,
      "metadata": {},
      "outputs": [],
      "source": [
        "range()"
      ]
    },
    {
      "cell_type": "markdown",
      "metadata": {
        "id": "VeW6rg1M6yB8"
      },
      "source": [
        "## Assignment"
      ]
    },
    {
      "cell_type": "markdown",
      "metadata": {
        "id": "e-O9-JXX6yB8"
      },
      "source": [
        "1. Write a Python script that takes user input and performs basic arithmetic operations."
      ]
    },
    {
      "cell_type": "code",
      "execution_count": null,
      "metadata": {
        "id": "ke4R8J7O6yB8"
      },
      "outputs": [],
      "source": [
        "# Example solution\n",
        "num1 = int(input(\"Enter first number: \"))\n",
        "num2 = int(input(\"Enter second number: \"))\n",
        "print(\"Sum:\", num1 + num2)\n",
        "print(\"Difference:\", num1 - num2)\n",
        "print(\"Product:\", num1 * num2)\n",
        "print(\"Quotient:\", num1 / num2)"
      ]
    },
    {
      "cell_type": "markdown",
      "metadata": {
        "id": "7w9lOq8p6yB8"
      },
      "source": [
        "2. Create a program that uses conditional statements to print different messages based on user input."
      ]
    },
    {
      "cell_type": "code",
      "execution_count": null,
      "metadata": {
        "id": "yx3fwokS6yB9"
      },
      "outputs": [],
      "source": [
        "# Example solution\n",
        "age = int(input(\"Enter your age: \"))\n",
        "if age < 18:\n",
        "  print(\"You are a minor.\")\n",
        "elif age < 65:\n",
        "  print(\"You are an adult.\")\n",
        "else:\n",
        "  print(\"You are a senior citizen.\")"
      ]
    },
    {
      "cell_type": "markdown",
      "metadata": {
        "id": "4cVFiAc76yB9"
      },
      "source": [
        "3. Write a script to print numbers from 1 to 100 using a loop."
      ]
    },
    {
      "cell_type": "code",
      "execution_count": 32,
      "metadata": {},
      "outputs": [
        {
          "name": "stdout",
          "output_type": "stream",
          "text": [
            "a b c d e f g h i j k l m n o p q r s t u v w x y z \n",
            "a b c d e f g h i j k l m n o p q r s t u v w x y z "
          ]
        }
      ],
      "source": [
        "ch = 'a'\n",
        "while ch <= 'z':\n",
        "  print(ch, end=' ')\n",
        "  ch = chr(ord(ch) + 1)\n",
        "print()\n",
        "i = 0\n",
        "while i < 26:\n",
        "  print(chr(ord('a') + i), end=' ')\n",
        "  i += 1"
      ]
    },
    {
      "cell_type": "code",
      "execution_count": null,
      "metadata": {},
      "outputs": [],
      "source": [
        "[]"
      ]
    },
    {
      "cell_type": "code",
      "execution_count": null,
      "metadata": {
        "id": "Q0ZU7Bze6yB9"
      },
      "outputs": [],
      "source": [
        "# Example solution\n",
        "for i in range(1, 101):\n",
        "  print(i)"
      ]
    },
    {
      "cell_type": "code",
      "execution_count": 39,
      "metadata": {},
      "outputs": [
        {
          "name": "stdout",
          "output_type": "stream",
          "text": [
            "[0, 1, 2, 3, 4]\n",
            "[2, 3, 4]\n",
            "[2, 4]\n"
          ]
        }
      ],
      "source": [
        "print(list(range(5))) # implicit start is 0; las value not taken\n",
        "print(list(range(2, 5))) # 2, 3, 4\n",
        "print(list(range(2, 5, 2))) # 2, 3, 4\n",
        "\n",
        "# range(stop)\n",
        "# range(start, stop)\n",
        "# range(start, stop, step)"
      ]
    },
    {
      "cell_type": "code",
      "execution_count": 58,
      "metadata": {},
      "outputs": [
        {
          "name": "stdout",
          "output_type": "stream",
          "text": [
            "['1', '2', '3']\n",
            "<class 'str'>\n",
            "['3', '2', '1']\n",
            "321\n",
            "321\n",
            "321\n",
            "321\n",
            "321\n",
            "321\n"
          ]
        }
      ],
      "source": [
        "x = 123\n",
        "s = str(x)\n",
        "print(list(s))\n",
        "# type is a function to get the type of value inside a variable\n",
        "print(type(s)) \n",
        "print(list(reversed(s))) # get a list\n",
        "\n",
        "# join() method takes all items in an \n",
        "# iterable and joins them into one string.\n",
        "print(''.join(list(reversed(s))))\n",
        "l = len(s)\n",
        "\n",
        "# the step value is -1\n",
        "# the start value is -1 => n - 1\n",
        "# the implicit stop value is first element => 0\n",
        "print(s[l-1::-1])\n",
        "print(s[-1::-1])\n",
        "\n",
        "\n",
        "print(s[::-1])\n",
        "\n",
        "print(s[l-1::-1])\n",
        "\n",
        "\n",
        "print(s[::-1])"
      ]
    },
    {
      "cell_type": "code",
      "execution_count": null,
      "metadata": {},
      "outputs": [],
      "source": []
    }
  ],
  "metadata": {
    "colab": {
      "provenance": []
    },
    "kernelspec": {
      "display_name": "Python 3",
      "language": "python",
      "name": "python3"
    },
    "language_info": {
      "codemirror_mode": {
        "name": "ipython",
        "version": 3
      },
      "file_extension": ".py",
      "mimetype": "text/x-python",
      "name": "python",
      "nbconvert_exporter": "python",
      "pygments_lexer": "ipython3",
      "version": "3.12.5"
    }
  },
  "nbformat": 4,
  "nbformat_minor": 0
}
