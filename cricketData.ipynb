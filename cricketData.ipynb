{
 "cells": [
  {
   "cell_type": "markdown",
   "metadata": {},
   "source": [
    "<a target=\"_blank\" href=\"https://colab.research.google.com/github/nascarsayan/diy-python/blob/master/cricketData.ipynb\">\n",
    "  <img src=\"https://colab.research.google.com/assets/colab-badge.svg\" alt=\"Open In Colab\"/>\n",
    "</a>"
   ]
  },
  {
   "cell_type": "markdown",
   "metadata": {},
   "source": [
    "### ODI Batting analysis"
   ]
  },
  {
   "cell_type": "markdown",
   "metadata": {},
   "source": [
    "- We read the data from the csv filepath `datasets/cricketData/Batting/ODI.csv`\n",
    "- If the file is not present:\n",
    "    - we create the necessary directories\n",
    "    - we download the file from the url to the filepath\n"
   ]
  },
  {
   "cell_type": "code",
   "execution_count": null,
   "metadata": {},
   "outputs": [],
   "source": [
    "import os\n",
    "fpath = os.path.join(\n",
    "    \"datasets\",\n",
    "    \"cricketData\",\n",
    "    \"Batting\",\n",
    "    \"ODI.csv\"\n",
    ")\n",
    "\n",
    "# if fpath does not exist download it \n",
    "# and save it to the above path\n",
    "\n",
    "url = \"https://github.com/nascarsayan/diy-python/raw/master/datasets/cricketData/Batting/ODI.csv\"\n",
    "if not os.path.exists(fpath):\n",
    "\n",
    "    # Create the nessary directories if they don't exist\n",
    "    os.makedirs(os.path.dirname(fpath), exist_ok=True)\n",
    "    \n",
    "    # This is how we can make an HTTP GET request\n",
    "    # and save the response to a file\n",
    "    import urllib.request\n",
    "    urllib.request.urlretrieve(url, fpath)"
   ]
  },
  {
   "cell_type": "markdown",
   "metadata": {},
   "source": [
    "- `with` is used to automatically close the file when the block is exited\n",
    "- `open` is a built-in function that opens a file and returns a file object\n",
    "- `readlines` is a method that reads all the lines of a file into memory and returns a list of strings"
   ]
  },
  {
   "cell_type": "code",
   "execution_count": null,
   "metadata": {},
   "outputs": [],
   "source": [
    "with open(fpath) as f:\n",
    "    content = f.readlines()\n",
    "print(content[:30])"
   ]
  },
  {
   "cell_type": "code",
   "execution_count": null,
   "metadata": {},
   "outputs": [],
   "source": [
    "import csv\n",
    "import json\n",
    "with open(fpath) as f:\n",
    "    reader = csv.DictReader(f)\n",
    "    data = [row for row in reader]\n",
    "print(json.dumps(data[:2], indent=2))\n"
   ]
  },
  {
   "cell_type": "code",
   "execution_count": null,
   "metadata": {},
   "outputs": [],
   "source": []
  }
 ],
 "metadata": {
  "kernelspec": {
   "display_name": ".venv",
   "language": "python",
   "name": "python3"
  },
  "language_info": {
   "codemirror_mode": {
    "name": "ipython",
    "version": 3
   },
   "file_extension": ".py",
   "mimetype": "text/x-python",
   "name": "python",
   "nbconvert_exporter": "python",
   "pygments_lexer": "ipython3",
   "version": "3.12.5"
  }
 },
 "nbformat": 4,
 "nbformat_minor": 2
}
