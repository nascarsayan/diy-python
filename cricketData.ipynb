{
 "cells": [
  {
   "cell_type": "markdown",
   "metadata": {},
   "source": [
    "<a target=\"_blank\" href=\"https://colab.research.google.com/github/nascarsayan/diy-python/blob/master/cricketData.ipynb\">\n",
    "  <img src=\"https://colab.research.google.com/assets/colab-badge.svg\" alt=\"Open In Colab\"/>\n",
    "</a>"
   ]
  },
  {
   "cell_type": "markdown",
   "metadata": {},
   "source": [
    "### ODI Batting analysis"
   ]
  },
  {
   "cell_type": "code",
   "execution_count": null,
   "metadata": {},
   "outputs": [],
   "source": [
    "import os\n",
    "fpath = os.path.join(\n",
    "    \"datasets\",\n",
    "    \"cricketData\",\n",
    "    \"Batting\",\n",
    "    \"ODI.csv\"\n",
    ")\n",
    "\n",
    "# if fpath does not exist download it \n",
    "# and save it to the above path\n",
    "\n",
    "url = \"https://github.com/nascarsayan/diy-python/raw/master/datasets/cricketData/Batting/ODI.csv\"\n",
    "if not os.path.exists(fpath):\n",
    "    import urllib.request\n",
    "    urllib.request.urlretrieve(url, fpath)"
   ]
  },
  {
   "cell_type": "code",
   "execution_count": 10,
   "metadata": {},
   "outputs": [
    {
     "name": "stdout",
     "output_type": "stream",
     "text": [
      "[',Player,Span,Mat,Inns,NO,Runs,HS,Ave,BF,SR,100,50,0,Unnamed: 13\\n', '0,SR Tendulkar (INDIA),1989-2012,463,452,41,18426,200*,44.83,21367,86.23,49,96,20,\\n', '1,KC Sangakkara (Asia/ICC/SL),2000-2015,404,380,41,14234,169,41.98,18048,78.86,25,93,15,\\n', '2,RT Ponting (AUS/ICC),1995-2012,375,365,39,13704,164,42.03,17046,80.39,30,82,20,\\n', '3,ST Jayasuriya (Asia/SL),1989-2011,445,433,18,13430,189,32.36,14725,91.2,28,68,34,\\n', '4,DPMD Jayawardene (Asia/SL),1998-2015,448,418,39,12650,144,33.37,16020,78.96,19,77,28,\\n', '5,Inzamam-ul-Haq (Asia/PAK),1991-2007,378,350,53,11739,137*,39.52,15812,74.24,10,83,20,\\n', '6,V Kohli (INDIA),2008-2019,242,233,39,11609,183,59.84,12445,93.28,43,55,13,\\n', '7,JH Kallis (Afr/ICC/SA),1996-2014,328,314,53,11579,139,44.36,15885,72.89,17,86,17,\\n', '8,SC Ganguly (Asia/INDIA),1992-2007,311,300,23,11363,183,41.02,15416,73.7,22,72,16,\\n', '9,R Dravid (Asia/ICC/INDIA),1996-2011,344,318,40,10889,153,39.16,15284,71.24,12,83,13,\\n', '10,MS Dhoni (Asia/INDIA),2004-2019,350,297,84,10773,183*,50.57,12303,87.56,10,73,10,\\n', '11,CH Gayle (ICC/WI),1999-2019,301,294,17,10480,215,37.83,12019,87.19,25,54,25,\\n', '12,BC Lara (ICC/WI),1990-2007,299,289,32,10405,169,40.48,13086,79.51,19,63,16,\\n', '13,TM Dilshan (SL),1999-2016,330,303,41,10290,161*,39.27,11933,86.23,22,47,11,\\n', '14,Mohammad Yousuf (Asia/PAK),1998-2010,288,273,40,9720,141*,41.71,12942,75.1,15,64,15,\\n', '15,AC Gilchrist (AUS/ICC),1996-2008,287,279,11,9619,172,35.89,9922,96.94,16,55,19,\\n', '16,AB de Villiers (Afr/SA),2005-2018,228,218,39,9577,176,53.5,9473,101.09,25,53,7,\\n', '17,M Azharuddin (INDIA),1985-2000,334,308,54,9378,153*,36.92,12669,74.02,7,58,9,\\n', '18,PA de Silva (SL),1984-2003,308,296,30,9284,145,34.9,11443,81.13,11,64,17,\\n', '19,RG Sharma (INDIA),2007-2019,221,214,32,8944,264,49.14,10063,88.88,28,43,13,\\n', '20,Saeed Anwar (PAK),1989-2003,247,244,19,8824,194,39.21,10938,80.67,20,43,15,\\n', '21,S Chanderpaul (WI),1994-2011,268,251,40,8778,150,41.6,12408,70.74,11,59,6,\\n', '22,Yuvraj Singh (Asia/INDIA),2000-2017,304,278,40,8701,150,36.55,9924,87.67,14,52,18,\\n', '23,DL Haynes (WI),1978-1994,238,237,28,8648,152*,41.37,13707,63.09,17,57,13,\\n', '24,MS Atapattu (SL),1990-2007,268,259,32,8529,132*,37.57,12594,67.72,11,59,13,\\n', '25,ME Waugh (AUS),1988-2002,244,236,20,8500,173,39.35,11053,76.9,18,50,16,\\n', '26,LRPL Taylor (NZ),2006-2019,228,212,37,8376,181*,47.86,10091,83.0,20,50,9,\\n', '27,V Sehwag (Asia/ICC/INDIA),1999-2013,251,245,9,8273,219,35.05,7929,104.33,15,38,14,\\n', '28,HM Amla (SA),2008-2019,181,178,14,8113,159,49.46,9178,88.39,27,39,4,\\n']\n"
     ]
    }
   ],
   "source": [
    "\n",
    "with open(fpath) as f:\n",
    "    content = f.readlines()\n",
    "print(content[:30])"
   ]
  },
  {
   "cell_type": "code",
   "execution_count": 19,
   "metadata": {},
   "outputs": [
    {
     "name": "stdout",
     "output_type": "stream",
     "text": [
      "[\n",
      "  {\n",
      "    \"\": \"0\",\n",
      "    \"Player\": \"SR Tendulkar (INDIA)\",\n",
      "    \"Span\": \"1989-2012\",\n",
      "    \"Mat\": \"463\",\n",
      "    \"Inns\": \"452\",\n",
      "    \"NO\": \"41\",\n",
      "    \"Runs\": \"18426\",\n",
      "    \"HS\": \"200*\",\n",
      "    \"Ave\": \"44.83\",\n",
      "    \"BF\": \"21367\",\n",
      "    \"SR\": \"86.23\",\n",
      "    \"100\": \"49\",\n",
      "    \"50\": \"96\",\n",
      "    \"0\": \"20\",\n",
      "    \"Unnamed: 13\": \"\"\n",
      "  },\n",
      "  {\n",
      "    \"\": \"1\",\n",
      "    \"Player\": \"KC Sangakkara (Asia/ICC/SL)\",\n",
      "    \"Span\": \"2000-2015\",\n",
      "    \"Mat\": \"404\",\n",
      "    \"Inns\": \"380\",\n",
      "    \"NO\": \"41\",\n",
      "    \"Runs\": \"14234\",\n",
      "    \"HS\": \"169\",\n",
      "    \"Ave\": \"41.98\",\n",
      "    \"BF\": \"18048\",\n",
      "    \"SR\": \"78.86\",\n",
      "    \"100\": \"25\",\n",
      "    \"50\": \"93\",\n",
      "    \"0\": \"15\",\n",
      "    \"Unnamed: 13\": \"\"\n",
      "  }\n",
      "]\n"
     ]
    }
   ],
   "source": [
    "import csv\n",
    "import json\n",
    "with open(fpath) as f:\n",
    "    reader = csv.DictReader(f)\n",
    "    data = [row for row in reader]\n",
    "print(json.dumps(data[:2], indent=2))\n"
   ]
  },
  {
   "cell_type": "code",
   "execution_count": null,
   "metadata": {},
   "outputs": [],
   "source": []
  }
 ],
 "metadata": {
  "kernelspec": {
   "display_name": ".venv",
   "language": "python",
   "name": "python3"
  },
  "language_info": {
   "codemirror_mode": {
    "name": "ipython",
    "version": 3
   },
   "file_extension": ".py",
   "mimetype": "text/x-python",
   "name": "python",
   "nbconvert_exporter": "python",
   "pygments_lexer": "ipython3",
   "version": "3.12.5"
  }
 },
 "nbformat": 4,
 "nbformat_minor": 2
}
