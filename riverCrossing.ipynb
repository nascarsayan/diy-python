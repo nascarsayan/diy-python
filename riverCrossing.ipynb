{
 "cells": [
  {
   "cell_type": "markdown",
   "metadata": {},
   "source": [
    "### L3\n",
    "\n",
    "Help a family of 5 people move across the river by boat, and the boat is capable of a maximum of 2 people carrying capacity. Time for travelling of each person in turn is 1s, 3s, 6s, 8s, and 12s. If two people both go on the boat, the boat will travel at the speed of the slower person. Find the minimum time required for the whole family to cross the river. (less than eual to 30s)."
   ]
  },
  {
   "cell_type": "code",
   "execution_count": null,
   "metadata": {},
   "outputs": [],
   "source": [
    "\"\"\"\n",
    "Help a family of 5 people move across the river by boat, and the boat is capable of a maximum of 2 people carrying capacity. Time for travelling of each person in turn is 1s, 3s, 6s, 8s, and 12s. If two people both go on the boat, the boat will travel at the speed of the slower person. Find the minimum time required for the whole family to cross the river. (less than eual to 30s).\n",
    "\"\"\"\n",
    "\n",
    "from typing import Set\n",
    "class Entity:\n",
    "  def __init__(self, name: str, time: int):\n",
    "    self.name = name\n",
    "    self.time = time\n",
    "  \n",
    "  def __repr__(self):\n",
    "    return f'{self.name} ({self.time}s)'\n",
    "  \n",
    "  def __str__(self):\n",
    "    return self.__repr__()\n",
    "\n",
    "\n",
    "class State:\n",
    "  def __init__(self, left: Set[Entity], right: Set[Entity], time: int):\n",
    "    self.left = left\n",
    "    self.right = right\n",
    "    self.time = time\n",
    "  \n",
    "  def __repr__(self):\n",
    "    return f'time: {self.time}, left: ({self.left}), right: ({self.right})'\n",
    "  \n",
    "  def __str__(self):\n",
    "    return self.__repr__()\n",
    "  \n",
    "  def is_final(self):\n",
    "    return len(self.left) == 0\n",
    "\n",
    "\n",
    "class Move:\n",
    "  def __init__(self, isLeft2right: bool, entities: Set[Entity]):\n",
    "    if not 0 < len(entities) <= 2:\n",
    "      raise ValueError(f'Invalid number of people crossing the river: Number of people should be 1 or 2, but got {len(entities)}')\n",
    "    self.isLeft2right = isLeft2right\n",
    "    self.source = 'left' if isLeft2right else 'right'\n",
    "    self.destination = 'right' if isLeft2right else 'left'\n",
    "    self.entities = entities\n",
    "  \n",
    "  def __repr__(self):\n",
    "    return f'{\"left\" if self.isLeft2right else \"right\"} -> {\"right\" if self.isLeft2right else \"left\"}: {self.entities}'\n",
    "  \n",
    "  def __str__(self):\n",
    "    return self.__repr__()\n",
    "  \n",
    "  def validate(self, state: State):\n",
    "    source = state.left if self.isLeft2right else state.right\n",
    "    destination = state.right if self.isLeft2right else state.left\n",
    "    # check if all entities are in source\n",
    "    entities_not_in_source = self.entities - source\n",
    "    entities_already_in_destination = self.entities & destination\n",
    "    if entities_not_in_source:\n",
    "      raise ValueError(f'Entities {entities_not_in_source} not in {self.source}. Current state: {state}')\n",
    "    if entities_already_in_destination:\n",
    "      raise ValueError(f'Entities {entities_already_in_destination} already in {self.destination}. Current state: {state}')\n",
    "  \n",
    "  def apply(self, state: State) -> State:\n",
    "    # check if move is valid\n",
    "    self.validate(state)\n",
    "    # apply move\n",
    "    left = state.left.copy()\n",
    "    right = state.right.copy()\n",
    "    if self.isLeft2right:\n",
    "      left -= self.entities\n",
    "      right |= self.entities\n",
    "    else:\n",
    "      left |= self.entities\n",
    "      right -= self.entities\n"
   ]
  },
  {
   "cell_type": "code",
   "execution_count": 2,
   "metadata": {},
   "outputs": [
    {
     "data": {
      "text/plain": [
       "{Popeye (12s)}"
      ]
     },
     "execution_count": 2,
     "metadata": {},
     "output_type": "execute_result"
    }
   ],
   "source": [
    "class Entity:\n",
    "  def __init__(self, name: str, time: int):\n",
    "    self.name = name\n",
    "    self.time = time\n",
    "  \n",
    "  def __repr__(self):\n",
    "    return f'{self.name} ({self.time}s)'\n",
    "  \n",
    "  def __str__(self):\n",
    "    return self.__repr__()\n",
    "  \n",
    "  def __eq__(self, other):\n",
    "    if not isinstance(other, self.__class__):\n",
    "      return False\n",
    "    return self.name == other.name\n",
    "  \n",
    "  def __hash__(self):\n",
    "    return hash(self.name)\n",
    "\n",
    "a1 = Entity(\"Popeye\", 12)\n",
    "a2 = Entity(\"Popeye\", 12)\n",
    "\n",
    "a1 == a2\n",
    "set([a1, a2])"
   ]
  },
  {
   "cell_type": "code",
   "execution_count": null,
   "metadata": {},
   "outputs": [],
   "source": []
  }
 ],
 "metadata": {
  "kernelspec": {
   "display_name": ".venv",
   "language": "python",
   "name": "python3"
  },
  "language_info": {
   "codemirror_mode": {
    "name": "ipython",
    "version": 3
   },
   "file_extension": ".py",
   "mimetype": "text/x-python",
   "name": "python",
   "nbconvert_exporter": "python",
   "pygments_lexer": "ipython3",
   "version": "3.12.4"
  }
 },
 "nbformat": 4,
 "nbformat_minor": 2
}
