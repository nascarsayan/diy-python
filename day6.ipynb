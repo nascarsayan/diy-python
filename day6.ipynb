{
 "cells": [
  {
   "cell_type": "markdown",
   "metadata": {},
   "source": [
    "[Python L1 Quiz](https://docs.google.com/forms/d/1W41mHba6ivlHZ2o85QQXOnCGgaazx-5-UkB4Xq2wY14/edit)\n",
    "\n",
    "[Python L2 Quiz](https://docs.google.com/forms/d/17azGExfCqwH9toTeZ2jUDJ4_Mofl5Kpzg93Um0zrhRI/edit)\n",
    "\n",
    "[Python Advanced](https://docs.google.com/forms/d/e/1FAIpQLSfZCi9j3E6gCYe4vgpWctJmpvHrbMbNmcDHtwDyMbm1qO-Agw/viewform)\n",
    "\n",
    "[Python LMax Quiz](https://docs.google.com/forms/d/1J8tuPccmoug_MDXzkZOXmuTVBrPdyIaeaT_hEkYBTvA/edit)"
   ]
  },
  {
   "cell_type": "markdown",
   "metadata": {},
   "source": [
    "[L1 Responses](https://docs.google.com/spreadsheets/d/1SPsKbpmP9EEbNkqNCMtyvMCAJAjDv3QNWkykbPWKJJ0/edit?usp=sharing)\n",
    "\n",
    "[L2 Responses](https://docs.google.com/spreadsheets/d/11gO-0zW03d9zrbEXUfmKpPtV106L6w6Pl2-u5ZJl3RQ/edit?resourcekey=&gid=890933295#gid=890933295)\n",
    "\n",
    "[L3 Responses](https://docs.google.com/spreadsheets/d/11aEHsolzx21FNKKQhf2E7Ue2_PIx-yuJOIIOW5pLHPY/edit?resourcekey=&gid=901115436#gid=901115436)"
   ]
  },
  {
   "cell_type": "markdown",
   "metadata": {},
   "source": [
    "Some references:\n",
    "- [Client libraries and other tools related to python](https://github.com/vinta/awesome-python)\n",
    "- [Algorithms and data structures in python](https://github.com/TheAlgorithms/Python)\n",
    "- [Good AI Search engine complmentary to LLMs and Google](https://exa.ai/)\n",
    "- [Curated posts and news digest](https://news.ycombinator.com/)\n",
    "- [Python Cheatsheet](https://github.com/gto76/python-cheatsheet)"
   ]
  },
  {
   "cell_type": "code",
   "execution_count": 8,
   "metadata": {},
   "outputs": [
    {
     "data": {
      "text/plain": [
       "True"
      ]
     },
     "execution_count": 8,
     "metadata": {},
     "output_type": "execute_result"
    }
   ],
   "source": [
    "5 == 5.0000000000000001"
   ]
  },
  {
   "cell_type": "code",
   "execution_count": 9,
   "metadata": {},
   "outputs": [
    {
     "data": {
      "text/plain": [
       "5.0"
      ]
     },
     "execution_count": 9,
     "metadata": {},
     "output_type": "execute_result"
    }
   ],
   "source": [
    "5.0000000000000001"
   ]
  },
  {
   "cell_type": "code",
   "execution_count": 10,
   "metadata": {},
   "outputs": [
    {
     "data": {
      "text/plain": [
       "''"
      ]
     },
     "execution_count": 10,
     "metadata": {},
     "output_type": "execute_result"
    }
   ],
   "source": [
    "\"Hello\" * 0"
   ]
  },
  {
   "cell_type": "code",
   "execution_count": 16,
   "metadata": {},
   "outputs": [
    {
     "data": {
      "text/plain": [
       "True"
      ]
     },
     "execution_count": 16,
     "metadata": {},
     "output_type": "execute_result"
    }
   ],
   "source": [
    "max([-1, -2, True])"
   ]
  },
  {
   "cell_type": "code",
   "execution_count": 17,
   "metadata": {},
   "outputs": [
    {
     "ename": "TypeError",
     "evalue": "'>' not supported between instances of 'float' and 'str'",
     "output_type": "error",
     "traceback": [
      "\u001b[1;31m---------------------------------------------------------------------------\u001b[0m",
      "\u001b[1;31mTypeError\u001b[0m                                 Traceback (most recent call last)",
      "Cell \u001b[1;32mIn[17], line 1\u001b[0m\n\u001b[1;32m----> 1\u001b[0m \u001b[38;5;28;43mmax\u001b[39;49m\u001b[43m(\u001b[49m\u001b[43m[\u001b[49m\u001b[38;5;124;43m\"\u001b[39;49m\u001b[38;5;124;43msdgdgs\u001b[39;49m\u001b[38;5;124;43m\"\u001b[39;49m\u001b[43m,\u001b[49m\u001b[43m \u001b[49m\u001b[38;5;241;43m1.3\u001b[39;49m\u001b[43m]\u001b[49m\u001b[43m)\u001b[49m\n",
      "\u001b[1;31mTypeError\u001b[0m: '>' not supported between instances of 'float' and 'str'"
     ]
    }
   ],
   "source": [
    "max([\"sdgdgs\", 1.3])"
   ]
  },
  {
   "cell_type": "code",
   "execution_count": 20,
   "metadata": {},
   "outputs": [
    {
     "name": "stdout",
     "output_type": "stream",
     "text": [
      "[1, 2, 3, 4, 5]\n"
     ]
    }
   ],
   "source": [
    "\n",
    "ar = [1, 2, 3, 1, 4, 5, 2]\n",
    "print(list(set(ar)))"
   ]
  },
  {
   "cell_type": "code",
   "execution_count": 22,
   "metadata": {},
   "outputs": [
    {
     "name": "stdout",
     "output_type": "stream",
     "text": [
      "None\n"
     ]
    }
   ],
   "source": [
    "d = {'a': 4}\n",
    "print(d.get('x'))"
   ]
  },
  {
   "cell_type": "code",
   "execution_count": null,
   "metadata": {},
   "outputs": [],
   "source": []
  }
 ],
 "metadata": {
  "kernelspec": {
   "display_name": ".venv",
   "language": "python",
   "name": "python3"
  },
  "language_info": {
   "codemirror_mode": {
    "name": "ipython",
    "version": 3
   },
   "file_extension": ".py",
   "mimetype": "text/x-python",
   "name": "python",
   "nbconvert_exporter": "python",
   "pygments_lexer": "ipython3",
   "version": "3.12.5"
  }
 },
 "nbformat": 4,
 "nbformat_minor": 2
}
