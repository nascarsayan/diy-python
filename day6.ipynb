{
 "cells": [
  {
   "cell_type": "markdown",
   "metadata": {},
   "source": [
    "[Python L1 Quiz](https://docs.google.com/forms/d/1W41mHba6ivlHZ2o85QQXOnCGgaazx-5-UkB4Xq2wY14/edit)\n",
    "\n",
    "[Python L2 Quiz](https://docs.google.com/forms/d/17azGExfCqwH9toTeZ2jUDJ4_Mofl5Kpzg93Um0zrhRI/edit)\n",
    "\n",
    "[Python Advanced](https://docs.google.com/forms/d/e/1FAIpQLSfZCi9j3E6gCYe4vgpWctJmpvHrbMbNmcDHtwDyMbm1qO-Agw/viewform)\n",
    "\n",
    "[Python LMax Quiz](https://docs.google.com/forms/d/1J8tuPccmoug_MDXzkZOXmuTVBrPdyIaeaT_hEkYBTvA/edit)"
   ]
  },
  {
   "cell_type": "markdown",
   "metadata": {},
   "source": [
    "https://github.com/gto76/python-cheatsheet"
   ]
  },
  {
   "cell_type": "markdown",
   "metadata": {},
   "source": [
    "[L1 Responses](https://docs.google.com/spreadsheets/d/1SPsKbpmP9EEbNkqNCMtyvMCAJAjDv3QNWkykbPWKJJ0/edit?usp=sharing)\n",
    "\n",
    "[L2 Responses](https://docs.google.com/spreadsheets/d/11gO-0zW03d9zrbEXUfmKpPtV106L6w6Pl2-u5ZJl3RQ/edit?resourcekey=&gid=890933295#gid=890933295)\n",
    "\n",
    "[L3 Responses](https://docs.google.com/spreadsheets/d/11aEHsolzx21FNKKQhf2E7Ue2_PIx-yuJOIIOW5pLHPY/edit?resourcekey=&gid=901115436#gid=901115436)"
   ]
  },
  {
   "cell_type": "markdown",
   "metadata": {},
   "source": []
  }
 ],
 "metadata": {
  "language_info": {
   "name": "python"
  }
 },
 "nbformat": 4,
 "nbformat_minor": 2
}
