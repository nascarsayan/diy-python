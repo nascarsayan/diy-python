{
  "cells": [
    {
      "cell_type": "markdown",
      "metadata": {},
      "source": [
        "<a target=\"_blank\" href=\"https://colab.research.google.com/github/nascarsayan/diy-python/blob/master/freecodecamp_data_analysis.ipynbb\">\n",
        "  <img src=\"https://colab.research.google.com/assets/colab-badge.svg\" alt=\"Open In Colab\"/>\n",
        "</a>\n",
        "\n",
        "[Original Reference](https://jovian.com/learn/data-analysis-with-python-zero-to-pandas)"
      ]
    },
    {
      "cell_type": "markdown",
      "metadata": {
        "id": "QE032CUt-4T3"
      },
      "source": [
        "# IPL  Cricket Data\n",
        "\n",
        "\n",
        "Indian Premier League (IPL) is a Twenty20 cricket format league in India. It is usually played in April and May every year. The league was founded by Board of Control for Cricket India (BCCI) in 2008. There have been twelve seasons of the IPL tournament. The current IPL title holders are the Mumbai Indians, who won the 2019 season.\n",
        "\n",
        "The dataset has been downloaded from [Kaggle Dataset](https://www.kaggle.com/nowke9/ipldata). The dataset contains two csv files but only one csv file i.e matches.csv has been used in this project for the analysis. The libraries for data analysis and visualization used in this project are Numpy, Pandas, Matplotlib and Seaborn. These libraries are covered in the course by  [Jovian.ml](https://jovian.ml) named as [Data Analysis with Python: Zero to Pandas](https://jovian.ml/learn/data-analysis-with-python-zero-to-pandas)."
      ]
    },
    {
      "cell_type": "code",
      "execution_count": 1,
      "metadata": {
        "id": "pql1iQ1D-4T-"
      },
      "outputs": [],
      "source": [
        "project_name = \"Cricket-Data-analysis\" # change this"
      ]
    },
    {
      "cell_type": "code",
      "execution_count": 6,
      "metadata": {
        "colab": {
          "base_uri": "https://localhost:8080/"
        },
        "id": "tkeOspgN-4UC",
        "outputId": "0147a7ad-7bf8-4152-fc78-2ed4188ac4ab"
      },
      "outputs": [
        {
          "name": "stdout",
          "output_type": "stream",
          "text": [
            "Note: you may need to restart the kernel to use updated packages.\n",
            "Note: you may need to restart the kernel to use updated packages.\n",
            "Note: you may need to restart the kernel to use updated packages.\n",
            "Note: you may need to restart the kernel to use updated packages.\n"
          ]
        }
      ],
      "source": [
        "%pip install opendatasets -q\n",
        "%pip install jovian -q\n",
        "%pip install cryptography -q\n",
        "%pip install seaborn matplotlib numpy pandas -q"
      ]
    },
    {
      "cell_type": "code",
      "execution_count": 24,
      "metadata": {
        "id": "BXbYiEn6-4UC"
      },
      "outputs": [],
      "source": [
        "import pandas as pd\n",
        "import opendatasets as od\n",
        "import numpy as np\n",
        "import matplotlib.pyplot as plt\n",
        "import seaborn as sns\n",
        "import matplotlib\n",
        "from collections import Counter\n",
        "%matplotlib inline"
      ]
    },
    {
      "cell_type": "code",
      "execution_count": 22,
      "metadata": {},
      "outputs": [
        {
          "name": "stdout",
          "output_type": "stream",
          "text": [
            "Saving Kaggle credentials\n"
          ]
        }
      ],
      "source": [
        "import base64\n",
        "import os\n",
        "import json\n",
        "from cryptography.fernet import Fernet\n",
        "from cryptography.hazmat.primitives import hashes\n",
        "from cryptography.hazmat.primitives.kdf.pbkdf2 import PBKDF2HMAC\n",
        "\n",
        "def saveKaggleCreds():\n",
        "    if os.path.exists(\"./kaggle.json\"):\n",
        "        print(\"Kaggle credentials already saved\")\n",
        "        return\n",
        "    password = input(\"Enter password: \").encode()\n",
        "    salt = b''\n",
        "    kdf = PBKDF2HMAC(\n",
        "        algorithm=hashes.SHA256(),\n",
        "        length=32,\n",
        "        salt=salt,\n",
        "        iterations=390000,\n",
        "    )\n",
        "    key = base64.urlsafe_b64encode(kdf.derive(password))\n",
        "    f = Fernet(key)\n",
        "    kaggle_api_key_enc = b'gAAAAABmvDSJeTFhgAq8FLb2lC9Gw0z80u9aFXAjmAsV9s0oCumnJPtBhJH9Y989l1OwaDOLChzfAe8yCpAArvyUABegXb1J_n_4k_rbvUOjIi36XGiU6Itp9O7fJE23sDbuueCbevSJ'\n",
        "    kaggle_username_enc = b'gAAAAABmvDTQOsJiolX7VBW448ixOmkAC9FSzDLpllgv2AIURfAT6ZUNSuRV6UcwLazl4i2PrCpK3y47LYxCtiUWYu7fOR4i_g=='\n",
        "    kaggle_api_key = f.decrypt(kaggle_api_key_enc).decode(\"utf-8\")\n",
        "    kaggle_username = f.decrypt(kaggle_username_enc).decode(\"utf-8\")\n",
        "    kaggle_json = {\"username\": kaggle_username, \"key\": kaggle_api_key}\n",
        "    with open(\"./kaggle.json\", \"w\") as file:\n",
        "        print(\"Saving Kaggle credentials\")\n",
        "        json.dump(kaggle_json, file)\n",
        "\n",
        "saveKaggleCreds()"
      ]
    },
    {
      "cell_type": "markdown",
      "metadata": {
        "id": "wY93iy0o-4UC"
      },
      "source": [
        "## Downloading the Dataset\n",
        "\n",
        "**TODO** - add some explanation here"
      ]
    },
    {
      "cell_type": "code",
      "execution_count": 25,
      "metadata": {
        "colab": {
          "base_uri": "https://localhost:8080/"
        },
        "id": "QCiyVStp-4UD",
        "outputId": "6d9c76dc-a5e2-4d22-90e4-07b2e19eb789"
      },
      "outputs": [
        {
          "name": "stdout",
          "output_type": "stream",
          "text": [
            "File not present Downloading Files.....\n",
            "Dataset URL: https://www.kaggle.com/datasets/nowke9/ipldata\n",
            "Downloading ipldata.zip to .\\ipldata\n"
          ]
        },
        {
          "name": "stderr",
          "output_type": "stream",
          "text": [
            "100%|██████████| 1.20M/1.20M [00:01<00:00, 928kB/s]"
          ]
        },
        {
          "name": "stdout",
          "output_type": "stream",
          "text": [
            "\n"
          ]
        },
        {
          "name": "stderr",
          "output_type": "stream",
          "text": [
            "\n"
          ]
        }
      ],
      "source": [
        "import os\n",
        "if not (os.path.isfile('./ipldata/matches.csv') and os.path.isfile('./ipldata/deliveries.csv')):\n",
        "    print(\"File not present Downloading Files.....\")\n",
        "    dataset_url = 'https://www.kaggle.com/nowke9/ipldata'\n",
        "    od.download(dataset_url)\n",
        "else:\n",
        "    print(\"File Present in Directory skipping the download.\")"
      ]
    },
    {
      "cell_type": "markdown",
      "metadata": {
        "id": "jH0hjOdX-4UE"
      },
      "source": [
        "> Instructions for downloading the dataset (delete this cell)\n",
        ">\n",
        "> - Find an interesting dataset on this page: https://www.kaggle.com/datasets?fileType=csv\n",
        "> - The data should be in CSV format, and should contain at least 3 columns and 150 rows\n",
        "> - Download the dataset using the [`opendatasets` Python library](https://github.com/JovianML/opendatasets#opendatasets)"
      ]
    },
    {
      "cell_type": "markdown",
      "metadata": {
        "id": "awuOkTQv-4UE"
      },
      "source": [
        "# Loading DataSet"
      ]
    },
    {
      "cell_type": "markdown",
      "metadata": {
        "id": "OhStUzry-4UF"
      },
      "source": [
        "> Instructions (delete this cell):\n",
        ">\n",
        "> - Load the dataset into a data frame using Pandas\n",
        "> - Explore the number of rows & columns, ranges of values etc.\n",
        "> - Handle missing, incorrect and invalid data\n",
        "> - Perform any additional steps (parsing dates, creating additional columns, merging multiple dataset etc.)"
      ]
    },
    {
      "cell_type": "code",
      "execution_count": 26,
      "metadata": {
        "colab": {
          "base_uri": "https://localhost:8080/",
          "height": 813
        },
        "id": "JOMqfxX_-4UF",
        "outputId": "9b7d457d-ed0a-4281-f748-24c9779e6b15"
      },
      "outputs": [
        {
          "data": {
            "text/html": [
              "<div>\n",
              "<style scoped>\n",
              "    .dataframe tbody tr th:only-of-type {\n",
              "        vertical-align: middle;\n",
              "    }\n",
              "\n",
              "    .dataframe tbody tr th {\n",
              "        vertical-align: top;\n",
              "    }\n",
              "\n",
              "    .dataframe thead th {\n",
              "        text-align: right;\n",
              "    }\n",
              "</style>\n",
              "<table border=\"1\" class=\"dataframe\">\n",
              "  <thead>\n",
              "    <tr style=\"text-align: right;\">\n",
              "      <th></th>\n",
              "      <th>id</th>\n",
              "      <th>season</th>\n",
              "      <th>city</th>\n",
              "      <th>date</th>\n",
              "      <th>team1</th>\n",
              "      <th>team2</th>\n",
              "      <th>toss_winner</th>\n",
              "      <th>toss_decision</th>\n",
              "      <th>result</th>\n",
              "      <th>dl_applied</th>\n",
              "      <th>winner</th>\n",
              "      <th>win_by_runs</th>\n",
              "      <th>win_by_wickets</th>\n",
              "      <th>player_of_match</th>\n",
              "      <th>venue</th>\n",
              "      <th>umpire1</th>\n",
              "      <th>umpire2</th>\n",
              "      <th>umpire3</th>\n",
              "    </tr>\n",
              "  </thead>\n",
              "  <tbody>\n",
              "    <tr>\n",
              "      <th>0</th>\n",
              "      <td>1</td>\n",
              "      <td>2017</td>\n",
              "      <td>Hyderabad</td>\n",
              "      <td>2017-04-05</td>\n",
              "      <td>Sunrisers Hyderabad</td>\n",
              "      <td>Royal Challengers Bangalore</td>\n",
              "      <td>Royal Challengers Bangalore</td>\n",
              "      <td>field</td>\n",
              "      <td>normal</td>\n",
              "      <td>0</td>\n",
              "      <td>Sunrisers Hyderabad</td>\n",
              "      <td>35</td>\n",
              "      <td>0</td>\n",
              "      <td>Yuvraj Singh</td>\n",
              "      <td>Rajiv Gandhi International Stadium, Uppal</td>\n",
              "      <td>AY Dandekar</td>\n",
              "      <td>NJ Llong</td>\n",
              "      <td>NaN</td>\n",
              "    </tr>\n",
              "    <tr>\n",
              "      <th>1</th>\n",
              "      <td>2</td>\n",
              "      <td>2017</td>\n",
              "      <td>Pune</td>\n",
              "      <td>2017-04-06</td>\n",
              "      <td>Mumbai Indians</td>\n",
              "      <td>Rising Pune Supergiant</td>\n",
              "      <td>Rising Pune Supergiant</td>\n",
              "      <td>field</td>\n",
              "      <td>normal</td>\n",
              "      <td>0</td>\n",
              "      <td>Rising Pune Supergiant</td>\n",
              "      <td>0</td>\n",
              "      <td>7</td>\n",
              "      <td>SPD Smith</td>\n",
              "      <td>Maharashtra Cricket Association Stadium</td>\n",
              "      <td>A Nand Kishore</td>\n",
              "      <td>S Ravi</td>\n",
              "      <td>NaN</td>\n",
              "    </tr>\n",
              "    <tr>\n",
              "      <th>2</th>\n",
              "      <td>3</td>\n",
              "      <td>2017</td>\n",
              "      <td>Rajkot</td>\n",
              "      <td>2017-04-07</td>\n",
              "      <td>Gujarat Lions</td>\n",
              "      <td>Kolkata Knight Riders</td>\n",
              "      <td>Kolkata Knight Riders</td>\n",
              "      <td>field</td>\n",
              "      <td>normal</td>\n",
              "      <td>0</td>\n",
              "      <td>Kolkata Knight Riders</td>\n",
              "      <td>0</td>\n",
              "      <td>10</td>\n",
              "      <td>CA Lynn</td>\n",
              "      <td>Saurashtra Cricket Association Stadium</td>\n",
              "      <td>Nitin Menon</td>\n",
              "      <td>CK Nandan</td>\n",
              "      <td>NaN</td>\n",
              "    </tr>\n",
              "    <tr>\n",
              "      <th>3</th>\n",
              "      <td>4</td>\n",
              "      <td>2017</td>\n",
              "      <td>Indore</td>\n",
              "      <td>2017-04-08</td>\n",
              "      <td>Rising Pune Supergiant</td>\n",
              "      <td>Kings XI Punjab</td>\n",
              "      <td>Kings XI Punjab</td>\n",
              "      <td>field</td>\n",
              "      <td>normal</td>\n",
              "      <td>0</td>\n",
              "      <td>Kings XI Punjab</td>\n",
              "      <td>0</td>\n",
              "      <td>6</td>\n",
              "      <td>GJ Maxwell</td>\n",
              "      <td>Holkar Cricket Stadium</td>\n",
              "      <td>AK Chaudhary</td>\n",
              "      <td>C Shamshuddin</td>\n",
              "      <td>NaN</td>\n",
              "    </tr>\n",
              "    <tr>\n",
              "      <th>4</th>\n",
              "      <td>5</td>\n",
              "      <td>2017</td>\n",
              "      <td>Bangalore</td>\n",
              "      <td>2017-04-08</td>\n",
              "      <td>Royal Challengers Bangalore</td>\n",
              "      <td>Delhi Daredevils</td>\n",
              "      <td>Royal Challengers Bangalore</td>\n",
              "      <td>bat</td>\n",
              "      <td>normal</td>\n",
              "      <td>0</td>\n",
              "      <td>Royal Challengers Bangalore</td>\n",
              "      <td>15</td>\n",
              "      <td>0</td>\n",
              "      <td>KM Jadhav</td>\n",
              "      <td>M Chinnaswamy Stadium</td>\n",
              "      <td>NaN</td>\n",
              "      <td>NaN</td>\n",
              "      <td>NaN</td>\n",
              "    </tr>\n",
              "    <tr>\n",
              "      <th>...</th>\n",
              "      <td>...</td>\n",
              "      <td>...</td>\n",
              "      <td>...</td>\n",
              "      <td>...</td>\n",
              "      <td>...</td>\n",
              "      <td>...</td>\n",
              "      <td>...</td>\n",
              "      <td>...</td>\n",
              "      <td>...</td>\n",
              "      <td>...</td>\n",
              "      <td>...</td>\n",
              "      <td>...</td>\n",
              "      <td>...</td>\n",
              "      <td>...</td>\n",
              "      <td>...</td>\n",
              "      <td>...</td>\n",
              "      <td>...</td>\n",
              "      <td>...</td>\n",
              "    </tr>\n",
              "    <tr>\n",
              "      <th>751</th>\n",
              "      <td>11347</td>\n",
              "      <td>2019</td>\n",
              "      <td>Mumbai</td>\n",
              "      <td>05/05/19</td>\n",
              "      <td>Kolkata Knight Riders</td>\n",
              "      <td>Mumbai Indians</td>\n",
              "      <td>Mumbai Indians</td>\n",
              "      <td>field</td>\n",
              "      <td>normal</td>\n",
              "      <td>0</td>\n",
              "      <td>Mumbai Indians</td>\n",
              "      <td>0</td>\n",
              "      <td>9</td>\n",
              "      <td>HH Pandya</td>\n",
              "      <td>Wankhede Stadium</td>\n",
              "      <td>Nanda Kishore</td>\n",
              "      <td>O Nandan</td>\n",
              "      <td>S Ravi</td>\n",
              "    </tr>\n",
              "    <tr>\n",
              "      <th>752</th>\n",
              "      <td>11412</td>\n",
              "      <td>2019</td>\n",
              "      <td>Chennai</td>\n",
              "      <td>07/05/19</td>\n",
              "      <td>Chennai Super Kings</td>\n",
              "      <td>Mumbai Indians</td>\n",
              "      <td>Chennai Super Kings</td>\n",
              "      <td>bat</td>\n",
              "      <td>normal</td>\n",
              "      <td>0</td>\n",
              "      <td>Mumbai Indians</td>\n",
              "      <td>0</td>\n",
              "      <td>6</td>\n",
              "      <td>AS Yadav</td>\n",
              "      <td>M. A. Chidambaram Stadium</td>\n",
              "      <td>Nigel Llong</td>\n",
              "      <td>Nitin Menon</td>\n",
              "      <td>Ian Gould</td>\n",
              "    </tr>\n",
              "    <tr>\n",
              "      <th>753</th>\n",
              "      <td>11413</td>\n",
              "      <td>2019</td>\n",
              "      <td>Visakhapatnam</td>\n",
              "      <td>08/05/19</td>\n",
              "      <td>Sunrisers Hyderabad</td>\n",
              "      <td>Delhi Capitals</td>\n",
              "      <td>Delhi Capitals</td>\n",
              "      <td>field</td>\n",
              "      <td>normal</td>\n",
              "      <td>0</td>\n",
              "      <td>Delhi Capitals</td>\n",
              "      <td>0</td>\n",
              "      <td>2</td>\n",
              "      <td>RR Pant</td>\n",
              "      <td>ACA-VDCA Stadium</td>\n",
              "      <td>NaN</td>\n",
              "      <td>NaN</td>\n",
              "      <td>NaN</td>\n",
              "    </tr>\n",
              "    <tr>\n",
              "      <th>754</th>\n",
              "      <td>11414</td>\n",
              "      <td>2019</td>\n",
              "      <td>Visakhapatnam</td>\n",
              "      <td>10/05/19</td>\n",
              "      <td>Delhi Capitals</td>\n",
              "      <td>Chennai Super Kings</td>\n",
              "      <td>Chennai Super Kings</td>\n",
              "      <td>field</td>\n",
              "      <td>normal</td>\n",
              "      <td>0</td>\n",
              "      <td>Chennai Super Kings</td>\n",
              "      <td>0</td>\n",
              "      <td>6</td>\n",
              "      <td>F du Plessis</td>\n",
              "      <td>ACA-VDCA Stadium</td>\n",
              "      <td>Sundaram Ravi</td>\n",
              "      <td>Bruce Oxenford</td>\n",
              "      <td>Chettithody Shamshuddin</td>\n",
              "    </tr>\n",
              "    <tr>\n",
              "      <th>755</th>\n",
              "      <td>11415</td>\n",
              "      <td>2019</td>\n",
              "      <td>Hyderabad</td>\n",
              "      <td>12/05/19</td>\n",
              "      <td>Mumbai Indians</td>\n",
              "      <td>Chennai Super Kings</td>\n",
              "      <td>Mumbai Indians</td>\n",
              "      <td>bat</td>\n",
              "      <td>normal</td>\n",
              "      <td>0</td>\n",
              "      <td>Mumbai Indians</td>\n",
              "      <td>1</td>\n",
              "      <td>0</td>\n",
              "      <td>JJ Bumrah</td>\n",
              "      <td>Rajiv Gandhi Intl. Cricket Stadium</td>\n",
              "      <td>Nitin Menon</td>\n",
              "      <td>Ian Gould</td>\n",
              "      <td>Nigel Llong</td>\n",
              "    </tr>\n",
              "  </tbody>\n",
              "</table>\n",
              "<p>756 rows × 18 columns</p>\n",
              "</div>"
            ],
            "text/plain": [
              "        id  season           city        date                        team1  \\\n",
              "0        1    2017      Hyderabad  2017-04-05          Sunrisers Hyderabad   \n",
              "1        2    2017           Pune  2017-04-06               Mumbai Indians   \n",
              "2        3    2017         Rajkot  2017-04-07                Gujarat Lions   \n",
              "3        4    2017         Indore  2017-04-08       Rising Pune Supergiant   \n",
              "4        5    2017      Bangalore  2017-04-08  Royal Challengers Bangalore   \n",
              "..     ...     ...            ...         ...                          ...   \n",
              "751  11347    2019         Mumbai    05/05/19        Kolkata Knight Riders   \n",
              "752  11412    2019        Chennai    07/05/19          Chennai Super Kings   \n",
              "753  11413    2019  Visakhapatnam    08/05/19          Sunrisers Hyderabad   \n",
              "754  11414    2019  Visakhapatnam    10/05/19               Delhi Capitals   \n",
              "755  11415    2019      Hyderabad    12/05/19               Mumbai Indians   \n",
              "\n",
              "                           team2                  toss_winner toss_decision  \\\n",
              "0    Royal Challengers Bangalore  Royal Challengers Bangalore         field   \n",
              "1         Rising Pune Supergiant       Rising Pune Supergiant         field   \n",
              "2          Kolkata Knight Riders        Kolkata Knight Riders         field   \n",
              "3                Kings XI Punjab              Kings XI Punjab         field   \n",
              "4               Delhi Daredevils  Royal Challengers Bangalore           bat   \n",
              "..                           ...                          ...           ...   \n",
              "751               Mumbai Indians               Mumbai Indians         field   \n",
              "752               Mumbai Indians          Chennai Super Kings           bat   \n",
              "753               Delhi Capitals               Delhi Capitals         field   \n",
              "754          Chennai Super Kings          Chennai Super Kings         field   \n",
              "755          Chennai Super Kings               Mumbai Indians           bat   \n",
              "\n",
              "     result  dl_applied                       winner  win_by_runs  \\\n",
              "0    normal           0          Sunrisers Hyderabad           35   \n",
              "1    normal           0       Rising Pune Supergiant            0   \n",
              "2    normal           0        Kolkata Knight Riders            0   \n",
              "3    normal           0              Kings XI Punjab            0   \n",
              "4    normal           0  Royal Challengers Bangalore           15   \n",
              "..      ...         ...                          ...          ...   \n",
              "751  normal           0               Mumbai Indians            0   \n",
              "752  normal           0               Mumbai Indians            0   \n",
              "753  normal           0               Delhi Capitals            0   \n",
              "754  normal           0          Chennai Super Kings            0   \n",
              "755  normal           0               Mumbai Indians            1   \n",
              "\n",
              "     win_by_wickets player_of_match  \\\n",
              "0                 0    Yuvraj Singh   \n",
              "1                 7       SPD Smith   \n",
              "2                10         CA Lynn   \n",
              "3                 6      GJ Maxwell   \n",
              "4                 0       KM Jadhav   \n",
              "..              ...             ...   \n",
              "751               9       HH Pandya   \n",
              "752               6        AS Yadav   \n",
              "753               2         RR Pant   \n",
              "754               6    F du Plessis   \n",
              "755               0       JJ Bumrah   \n",
              "\n",
              "                                         venue         umpire1  \\\n",
              "0    Rajiv Gandhi International Stadium, Uppal     AY Dandekar   \n",
              "1      Maharashtra Cricket Association Stadium  A Nand Kishore   \n",
              "2       Saurashtra Cricket Association Stadium     Nitin Menon   \n",
              "3                       Holkar Cricket Stadium    AK Chaudhary   \n",
              "4                        M Chinnaswamy Stadium             NaN   \n",
              "..                                         ...             ...   \n",
              "751                           Wankhede Stadium   Nanda Kishore   \n",
              "752                  M. A. Chidambaram Stadium     Nigel Llong   \n",
              "753                           ACA-VDCA Stadium             NaN   \n",
              "754                           ACA-VDCA Stadium   Sundaram Ravi   \n",
              "755         Rajiv Gandhi Intl. Cricket Stadium     Nitin Menon   \n",
              "\n",
              "            umpire2                  umpire3  \n",
              "0          NJ Llong                      NaN  \n",
              "1            S Ravi                      NaN  \n",
              "2         CK Nandan                      NaN  \n",
              "3     C Shamshuddin                      NaN  \n",
              "4               NaN                      NaN  \n",
              "..              ...                      ...  \n",
              "751        O Nandan                   S Ravi  \n",
              "752     Nitin Menon                Ian Gould  \n",
              "753             NaN                      NaN  \n",
              "754  Bruce Oxenford  Chettithody Shamshuddin  \n",
              "755       Ian Gould              Nigel Llong  \n",
              "\n",
              "[756 rows x 18 columns]"
            ]
          },
          "execution_count": 26,
          "metadata": {},
          "output_type": "execute_result"
        }
      ],
      "source": [
        "# Importing the matches.csv into a pandas dataframe\n",
        "ipl_df = pd.read_csv('ipldata/matches.csv')\n",
        "ipl_df"
      ]
    },
    {
      "cell_type": "code",
      "execution_count": 27,
      "metadata": {
        "id": "JTZecSVH-4UG",
        "outputId": "e57d39f3-3ed7-4edc-aa30-abbc30f1eca3"
      },
      "outputs": [
        {
          "data": {
            "text/plain": [
              "Index(['id', 'season', 'city', 'date', 'team1', 'team2', 'toss_winner',\n",
              "       'toss_decision', 'result', 'dl_applied', 'winner', 'win_by_runs',\n",
              "       'win_by_wickets', 'player_of_match', 'venue', 'umpire1', 'umpire2',\n",
              "       'umpire3'],\n",
              "      dtype='object')"
            ]
          },
          "execution_count": 27,
          "metadata": {},
          "output_type": "execute_result"
        }
      ],
      "source": [
        "ipl_df.columns"
      ]
    },
    {
      "cell_type": "code",
      "execution_count": null,
      "metadata": {
        "id": "LR9tUEx3-4UG",
        "outputId": "3cb75fcb-8d8d-42d0-da70-b693f8eeb650"
      },
      "outputs": [
        {
          "data": {
            "text/html": [
              "<div>\n",
              "<style scoped>\n",
              "    .dataframe tbody tr th:only-of-type {\n",
              "        vertical-align: middle;\n",
              "    }\n",
              "\n",
              "    .dataframe tbody tr th {\n",
              "        vertical-align: top;\n",
              "    }\n",
              "\n",
              "    .dataframe thead th {\n",
              "        text-align: right;\n",
              "    }\n",
              "</style>\n",
              "<table border=\"1\" class=\"dataframe\">\n",
              "  <thead>\n",
              "    <tr style=\"text-align: right;\">\n",
              "      <th></th>\n",
              "      <th>match_id</th>\n",
              "      <th>inning</th>\n",
              "      <th>batting_team</th>\n",
              "      <th>bowling_team</th>\n",
              "      <th>over</th>\n",
              "      <th>ball</th>\n",
              "      <th>batsman</th>\n",
              "      <th>non_striker</th>\n",
              "      <th>bowler</th>\n",
              "      <th>is_super_over</th>\n",
              "      <th>...</th>\n",
              "      <th>bye_runs</th>\n",
              "      <th>legbye_runs</th>\n",
              "      <th>noball_runs</th>\n",
              "      <th>penalty_runs</th>\n",
              "      <th>batsman_runs</th>\n",
              "      <th>extra_runs</th>\n",
              "      <th>total_runs</th>\n",
              "      <th>player_dismissed</th>\n",
              "      <th>dismissal_kind</th>\n",
              "      <th>fielder</th>\n",
              "    </tr>\n",
              "  </thead>\n",
              "  <tbody>\n",
              "    <tr>\n",
              "      <th>0</th>\n",
              "      <td>1</td>\n",
              "      <td>1</td>\n",
              "      <td>Sunrisers Hyderabad</td>\n",
              "      <td>Royal Challengers Bangalore</td>\n",
              "      <td>1</td>\n",
              "      <td>1</td>\n",
              "      <td>DA Warner</td>\n",
              "      <td>S Dhawan</td>\n",
              "      <td>TS Mills</td>\n",
              "      <td>0</td>\n",
              "      <td>...</td>\n",
              "      <td>0</td>\n",
              "      <td>0</td>\n",
              "      <td>0</td>\n",
              "      <td>0</td>\n",
              "      <td>0</td>\n",
              "      <td>0</td>\n",
              "      <td>0</td>\n",
              "      <td>NaN</td>\n",
              "      <td>NaN</td>\n",
              "      <td>NaN</td>\n",
              "    </tr>\n",
              "    <tr>\n",
              "      <th>1</th>\n",
              "      <td>1</td>\n",
              "      <td>1</td>\n",
              "      <td>Sunrisers Hyderabad</td>\n",
              "      <td>Royal Challengers Bangalore</td>\n",
              "      <td>1</td>\n",
              "      <td>2</td>\n",
              "      <td>DA Warner</td>\n",
              "      <td>S Dhawan</td>\n",
              "      <td>TS Mills</td>\n",
              "      <td>0</td>\n",
              "      <td>...</td>\n",
              "      <td>0</td>\n",
              "      <td>0</td>\n",
              "      <td>0</td>\n",
              "      <td>0</td>\n",
              "      <td>0</td>\n",
              "      <td>0</td>\n",
              "      <td>0</td>\n",
              "      <td>NaN</td>\n",
              "      <td>NaN</td>\n",
              "      <td>NaN</td>\n",
              "    </tr>\n",
              "    <tr>\n",
              "      <th>2</th>\n",
              "      <td>1</td>\n",
              "      <td>1</td>\n",
              "      <td>Sunrisers Hyderabad</td>\n",
              "      <td>Royal Challengers Bangalore</td>\n",
              "      <td>1</td>\n",
              "      <td>3</td>\n",
              "      <td>DA Warner</td>\n",
              "      <td>S Dhawan</td>\n",
              "      <td>TS Mills</td>\n",
              "      <td>0</td>\n",
              "      <td>...</td>\n",
              "      <td>0</td>\n",
              "      <td>0</td>\n",
              "      <td>0</td>\n",
              "      <td>0</td>\n",
              "      <td>4</td>\n",
              "      <td>0</td>\n",
              "      <td>4</td>\n",
              "      <td>NaN</td>\n",
              "      <td>NaN</td>\n",
              "      <td>NaN</td>\n",
              "    </tr>\n",
              "    <tr>\n",
              "      <th>3</th>\n",
              "      <td>1</td>\n",
              "      <td>1</td>\n",
              "      <td>Sunrisers Hyderabad</td>\n",
              "      <td>Royal Challengers Bangalore</td>\n",
              "      <td>1</td>\n",
              "      <td>4</td>\n",
              "      <td>DA Warner</td>\n",
              "      <td>S Dhawan</td>\n",
              "      <td>TS Mills</td>\n",
              "      <td>0</td>\n",
              "      <td>...</td>\n",
              "      <td>0</td>\n",
              "      <td>0</td>\n",
              "      <td>0</td>\n",
              "      <td>0</td>\n",
              "      <td>0</td>\n",
              "      <td>0</td>\n",
              "      <td>0</td>\n",
              "      <td>NaN</td>\n",
              "      <td>NaN</td>\n",
              "      <td>NaN</td>\n",
              "    </tr>\n",
              "    <tr>\n",
              "      <th>4</th>\n",
              "      <td>1</td>\n",
              "      <td>1</td>\n",
              "      <td>Sunrisers Hyderabad</td>\n",
              "      <td>Royal Challengers Bangalore</td>\n",
              "      <td>1</td>\n",
              "      <td>5</td>\n",
              "      <td>DA Warner</td>\n",
              "      <td>S Dhawan</td>\n",
              "      <td>TS Mills</td>\n",
              "      <td>0</td>\n",
              "      <td>...</td>\n",
              "      <td>0</td>\n",
              "      <td>0</td>\n",
              "      <td>0</td>\n",
              "      <td>0</td>\n",
              "      <td>0</td>\n",
              "      <td>2</td>\n",
              "      <td>2</td>\n",
              "      <td>NaN</td>\n",
              "      <td>NaN</td>\n",
              "      <td>NaN</td>\n",
              "    </tr>\n",
              "    <tr>\n",
              "      <th>...</th>\n",
              "      <td>...</td>\n",
              "      <td>...</td>\n",
              "      <td>...</td>\n",
              "      <td>...</td>\n",
              "      <td>...</td>\n",
              "      <td>...</td>\n",
              "      <td>...</td>\n",
              "      <td>...</td>\n",
              "      <td>...</td>\n",
              "      <td>...</td>\n",
              "      <td>...</td>\n",
              "      <td>...</td>\n",
              "      <td>...</td>\n",
              "      <td>...</td>\n",
              "      <td>...</td>\n",
              "      <td>...</td>\n",
              "      <td>...</td>\n",
              "      <td>...</td>\n",
              "      <td>...</td>\n",
              "      <td>...</td>\n",
              "      <td>...</td>\n",
              "    </tr>\n",
              "    <tr>\n",
              "      <th>179073</th>\n",
              "      <td>11415</td>\n",
              "      <td>2</td>\n",
              "      <td>Chennai Super Kings</td>\n",
              "      <td>Mumbai Indians</td>\n",
              "      <td>20</td>\n",
              "      <td>2</td>\n",
              "      <td>RA Jadeja</td>\n",
              "      <td>SR Watson</td>\n",
              "      <td>SL Malinga</td>\n",
              "      <td>0</td>\n",
              "      <td>...</td>\n",
              "      <td>0</td>\n",
              "      <td>0</td>\n",
              "      <td>0</td>\n",
              "      <td>0</td>\n",
              "      <td>1</td>\n",
              "      <td>0</td>\n",
              "      <td>1</td>\n",
              "      <td>NaN</td>\n",
              "      <td>NaN</td>\n",
              "      <td>NaN</td>\n",
              "    </tr>\n",
              "    <tr>\n",
              "      <th>179074</th>\n",
              "      <td>11415</td>\n",
              "      <td>2</td>\n",
              "      <td>Chennai Super Kings</td>\n",
              "      <td>Mumbai Indians</td>\n",
              "      <td>20</td>\n",
              "      <td>3</td>\n",
              "      <td>SR Watson</td>\n",
              "      <td>RA Jadeja</td>\n",
              "      <td>SL Malinga</td>\n",
              "      <td>0</td>\n",
              "      <td>...</td>\n",
              "      <td>0</td>\n",
              "      <td>0</td>\n",
              "      <td>0</td>\n",
              "      <td>0</td>\n",
              "      <td>2</td>\n",
              "      <td>0</td>\n",
              "      <td>2</td>\n",
              "      <td>NaN</td>\n",
              "      <td>NaN</td>\n",
              "      <td>NaN</td>\n",
              "    </tr>\n",
              "    <tr>\n",
              "      <th>179075</th>\n",
              "      <td>11415</td>\n",
              "      <td>2</td>\n",
              "      <td>Chennai Super Kings</td>\n",
              "      <td>Mumbai Indians</td>\n",
              "      <td>20</td>\n",
              "      <td>4</td>\n",
              "      <td>SR Watson</td>\n",
              "      <td>RA Jadeja</td>\n",
              "      <td>SL Malinga</td>\n",
              "      <td>0</td>\n",
              "      <td>...</td>\n",
              "      <td>0</td>\n",
              "      <td>0</td>\n",
              "      <td>0</td>\n",
              "      <td>0</td>\n",
              "      <td>1</td>\n",
              "      <td>0</td>\n",
              "      <td>1</td>\n",
              "      <td>SR Watson</td>\n",
              "      <td>run out</td>\n",
              "      <td>KH Pandya</td>\n",
              "    </tr>\n",
              "    <tr>\n",
              "      <th>179076</th>\n",
              "      <td>11415</td>\n",
              "      <td>2</td>\n",
              "      <td>Chennai Super Kings</td>\n",
              "      <td>Mumbai Indians</td>\n",
              "      <td>20</td>\n",
              "      <td>5</td>\n",
              "      <td>SN Thakur</td>\n",
              "      <td>RA Jadeja</td>\n",
              "      <td>SL Malinga</td>\n",
              "      <td>0</td>\n",
              "      <td>...</td>\n",
              "      <td>0</td>\n",
              "      <td>0</td>\n",
              "      <td>0</td>\n",
              "      <td>0</td>\n",
              "      <td>2</td>\n",
              "      <td>0</td>\n",
              "      <td>2</td>\n",
              "      <td>NaN</td>\n",
              "      <td>NaN</td>\n",
              "      <td>NaN</td>\n",
              "    </tr>\n",
              "    <tr>\n",
              "      <th>179077</th>\n",
              "      <td>11415</td>\n",
              "      <td>2</td>\n",
              "      <td>Chennai Super Kings</td>\n",
              "      <td>Mumbai Indians</td>\n",
              "      <td>20</td>\n",
              "      <td>6</td>\n",
              "      <td>SN Thakur</td>\n",
              "      <td>RA Jadeja</td>\n",
              "      <td>SL Malinga</td>\n",
              "      <td>0</td>\n",
              "      <td>...</td>\n",
              "      <td>0</td>\n",
              "      <td>0</td>\n",
              "      <td>0</td>\n",
              "      <td>0</td>\n",
              "      <td>0</td>\n",
              "      <td>0</td>\n",
              "      <td>0</td>\n",
              "      <td>SN Thakur</td>\n",
              "      <td>lbw</td>\n",
              "      <td>NaN</td>\n",
              "    </tr>\n",
              "  </tbody>\n",
              "</table>\n",
              "<p>179078 rows × 21 columns</p>\n",
              "</div>"
            ],
            "text/plain": [
              "        match_id  inning         batting_team                 bowling_team  \\\n",
              "0              1       1  Sunrisers Hyderabad  Royal Challengers Bangalore   \n",
              "1              1       1  Sunrisers Hyderabad  Royal Challengers Bangalore   \n",
              "2              1       1  Sunrisers Hyderabad  Royal Challengers Bangalore   \n",
              "3              1       1  Sunrisers Hyderabad  Royal Challengers Bangalore   \n",
              "4              1       1  Sunrisers Hyderabad  Royal Challengers Bangalore   \n",
              "...          ...     ...                  ...                          ...   \n",
              "179073     11415       2  Chennai Super Kings               Mumbai Indians   \n",
              "179074     11415       2  Chennai Super Kings               Mumbai Indians   \n",
              "179075     11415       2  Chennai Super Kings               Mumbai Indians   \n",
              "179076     11415       2  Chennai Super Kings               Mumbai Indians   \n",
              "179077     11415       2  Chennai Super Kings               Mumbai Indians   \n",
              "\n",
              "        over  ball    batsman non_striker      bowler  is_super_over  ...  \\\n",
              "0          1     1  DA Warner    S Dhawan    TS Mills              0  ...   \n",
              "1          1     2  DA Warner    S Dhawan    TS Mills              0  ...   \n",
              "2          1     3  DA Warner    S Dhawan    TS Mills              0  ...   \n",
              "3          1     4  DA Warner    S Dhawan    TS Mills              0  ...   \n",
              "4          1     5  DA Warner    S Dhawan    TS Mills              0  ...   \n",
              "...      ...   ...        ...         ...         ...            ...  ...   \n",
              "179073    20     2  RA Jadeja   SR Watson  SL Malinga              0  ...   \n",
              "179074    20     3  SR Watson   RA Jadeja  SL Malinga              0  ...   \n",
              "179075    20     4  SR Watson   RA Jadeja  SL Malinga              0  ...   \n",
              "179076    20     5  SN Thakur   RA Jadeja  SL Malinga              0  ...   \n",
              "179077    20     6  SN Thakur   RA Jadeja  SL Malinga              0  ...   \n",
              "\n",
              "        bye_runs  legbye_runs  noball_runs  penalty_runs  batsman_runs  \\\n",
              "0              0            0            0             0             0   \n",
              "1              0            0            0             0             0   \n",
              "2              0            0            0             0             4   \n",
              "3              0            0            0             0             0   \n",
              "4              0            0            0             0             0   \n",
              "...          ...          ...          ...           ...           ...   \n",
              "179073         0            0            0             0             1   \n",
              "179074         0            0            0             0             2   \n",
              "179075         0            0            0             0             1   \n",
              "179076         0            0            0             0             2   \n",
              "179077         0            0            0             0             0   \n",
              "\n",
              "        extra_runs  total_runs  player_dismissed dismissal_kind    fielder  \n",
              "0                0           0               NaN            NaN        NaN  \n",
              "1                0           0               NaN            NaN        NaN  \n",
              "2                0           4               NaN            NaN        NaN  \n",
              "3                0           0               NaN            NaN        NaN  \n",
              "4                2           2               NaN            NaN        NaN  \n",
              "...            ...         ...               ...            ...        ...  \n",
              "179073           0           1               NaN            NaN        NaN  \n",
              "179074           0           2               NaN            NaN        NaN  \n",
              "179075           0           1         SR Watson        run out  KH Pandya  \n",
              "179076           0           2               NaN            NaN        NaN  \n",
              "179077           0           0         SN Thakur            lbw        NaN  \n",
              "\n",
              "[179078 rows x 21 columns]"
            ]
          },
          "execution_count": 13,
          "metadata": {},
          "output_type": "execute_result"
        }
      ],
      "source": [
        "deliveries_df = pd.read_csv('ipldata/deliveries.csv')\n",
        "deliveries_df"
      ]
    },
    {
      "cell_type": "code",
      "execution_count": null,
      "metadata": {
        "id": "ThqhkaWS-4UH",
        "outputId": "01be3487-5c8d-451f-8503-993e00934d59"
      },
      "outputs": [
        {
          "data": {
            "text/plain": [
              "Index(['match_id', 'inning', 'batting_team', 'bowling_team', 'over', 'ball',\n",
              "       'batsman', 'non_striker', 'bowler', 'is_super_over', 'wide_runs',\n",
              "       'bye_runs', 'legbye_runs', 'noball_runs', 'penalty_runs',\n",
              "       'batsman_runs', 'extra_runs', 'total_runs', 'player_dismissed',\n",
              "       'dismissal_kind', 'fielder'],\n",
              "      dtype='object')"
            ]
          },
          "execution_count": 14,
          "metadata": {},
          "output_type": "execute_result"
        }
      ],
      "source": [
        "deliveries_df.columns"
      ]
    },
    {
      "cell_type": "markdown",
      "metadata": {
        "id": "VaJlkd8z-4UH"
      },
      "source": [
        "# Data Cleaning"
      ]
    },
    {
      "cell_type": "code",
      "execution_count": null,
      "metadata": {
        "id": "X3JdslUl-4UI"
      },
      "outputs": [],
      "source": [
        "ipl_matches_df = ipl_df.copy()"
      ]
    },
    {
      "cell_type": "code",
      "execution_count": null,
      "metadata": {
        "id": "ribtqC3s-4UI",
        "outputId": "d7f4eb69-e549-43d2-b7e4-01b1f5067baa"
      },
      "outputs": [
        {
          "data": {
            "text/plain": [
              "(756, 18)"
            ]
          },
          "execution_count": 17,
          "metadata": {},
          "output_type": "execute_result"
        }
      ],
      "source": [
        "ipl_matches_df.shape"
      ]
    },
    {
      "cell_type": "code",
      "execution_count": null,
      "metadata": {
        "id": "4-fRRJaR-4UJ",
        "outputId": "391e9fb2-31b1-4859-b319-1c073e07d921"
      },
      "outputs": [
        {
          "name": "stdout",
          "output_type": "stream",
          "text": [
            "UMPRIE 3 Describe rows count : 119\n"
          ]
        }
      ],
      "source": [
        "print(\"UMPRIE 3 Describe rows count :\",ipl_matches_df['umpire3'].describe()['count'])"
      ]
    },
    {
      "cell_type": "markdown",
      "metadata": {
        "id": "WuLIgdm0-4UJ"
      },
      "source": [
        "'''\n",
        "We see that Umpire data is irrevelant\n",
        "\n",
        "'''"
      ]
    },
    {
      "cell_type": "code",
      "execution_count": null,
      "metadata": {
        "id": "6Yt7BxZN-4UK",
        "outputId": "f8515c11-2a51-49d9-e084-f0bd45a0c057"
      },
      "outputs": [
        {
          "data": {
            "text/html": [
              "<div>\n",
              "<style scoped>\n",
              "    .dataframe tbody tr th:only-of-type {\n",
              "        vertical-align: middle;\n",
              "    }\n",
              "\n",
              "    .dataframe tbody tr th {\n",
              "        vertical-align: top;\n",
              "    }\n",
              "\n",
              "    .dataframe thead th {\n",
              "        text-align: right;\n",
              "    }\n",
              "</style>\n",
              "<table border=\"1\" class=\"dataframe\">\n",
              "  <thead>\n",
              "    <tr style=\"text-align: right;\">\n",
              "      <th></th>\n",
              "      <th>id</th>\n",
              "      <th>season</th>\n",
              "      <th>date</th>\n",
              "      <th>team1</th>\n",
              "      <th>team2</th>\n",
              "      <th>toss_winner</th>\n",
              "      <th>toss_decision</th>\n",
              "      <th>result</th>\n",
              "      <th>dl_applied</th>\n",
              "      <th>winner</th>\n",
              "      <th>win_by_runs</th>\n",
              "      <th>win_by_wickets</th>\n",
              "      <th>player_of_match</th>\n",
              "      <th>venue</th>\n",
              "      <th>umpire1</th>\n",
              "      <th>umpire2</th>\n",
              "    </tr>\n",
              "  </thead>\n",
              "  <tbody>\n",
              "    <tr>\n",
              "      <th>0</th>\n",
              "      <td>1</td>\n",
              "      <td>2017</td>\n",
              "      <td>2017-04-05</td>\n",
              "      <td>Sunrisers Hyderabad</td>\n",
              "      <td>Royal Challengers Bangalore</td>\n",
              "      <td>Royal Challengers Bangalore</td>\n",
              "      <td>field</td>\n",
              "      <td>normal</td>\n",
              "      <td>0</td>\n",
              "      <td>Sunrisers Hyderabad</td>\n",
              "      <td>35</td>\n",
              "      <td>0</td>\n",
              "      <td>Yuvraj Singh</td>\n",
              "      <td>Rajiv Gandhi International Stadium, Uppal</td>\n",
              "      <td>AY Dandekar</td>\n",
              "      <td>NJ Llong</td>\n",
              "    </tr>\n",
              "    <tr>\n",
              "      <th>1</th>\n",
              "      <td>2</td>\n",
              "      <td>2017</td>\n",
              "      <td>2017-04-06</td>\n",
              "      <td>Mumbai Indians</td>\n",
              "      <td>Rising Pune Supergiant</td>\n",
              "      <td>Rising Pune Supergiant</td>\n",
              "      <td>field</td>\n",
              "      <td>normal</td>\n",
              "      <td>0</td>\n",
              "      <td>Rising Pune Supergiant</td>\n",
              "      <td>0</td>\n",
              "      <td>7</td>\n",
              "      <td>SPD Smith</td>\n",
              "      <td>Maharashtra Cricket Association Stadium</td>\n",
              "      <td>A Nand Kishore</td>\n",
              "      <td>S Ravi</td>\n",
              "    </tr>\n",
              "    <tr>\n",
              "      <th>2</th>\n",
              "      <td>3</td>\n",
              "      <td>2017</td>\n",
              "      <td>2017-04-07</td>\n",
              "      <td>Gujarat Lions</td>\n",
              "      <td>Kolkata Knight Riders</td>\n",
              "      <td>Kolkata Knight Riders</td>\n",
              "      <td>field</td>\n",
              "      <td>normal</td>\n",
              "      <td>0</td>\n",
              "      <td>Kolkata Knight Riders</td>\n",
              "      <td>0</td>\n",
              "      <td>10</td>\n",
              "      <td>CA Lynn</td>\n",
              "      <td>Saurashtra Cricket Association Stadium</td>\n",
              "      <td>Nitin Menon</td>\n",
              "      <td>CK Nandan</td>\n",
              "    </tr>\n",
              "    <tr>\n",
              "      <th>3</th>\n",
              "      <td>4</td>\n",
              "      <td>2017</td>\n",
              "      <td>2017-04-08</td>\n",
              "      <td>Rising Pune Supergiant</td>\n",
              "      <td>Kings XI Punjab</td>\n",
              "      <td>Kings XI Punjab</td>\n",
              "      <td>field</td>\n",
              "      <td>normal</td>\n",
              "      <td>0</td>\n",
              "      <td>Kings XI Punjab</td>\n",
              "      <td>0</td>\n",
              "      <td>6</td>\n",
              "      <td>GJ Maxwell</td>\n",
              "      <td>Holkar Cricket Stadium</td>\n",
              "      <td>AK Chaudhary</td>\n",
              "      <td>C Shamshuddin</td>\n",
              "    </tr>\n",
              "    <tr>\n",
              "      <th>4</th>\n",
              "      <td>5</td>\n",
              "      <td>2017</td>\n",
              "      <td>2017-04-08</td>\n",
              "      <td>Royal Challengers Bangalore</td>\n",
              "      <td>Delhi Daredevils</td>\n",
              "      <td>Royal Challengers Bangalore</td>\n",
              "      <td>bat</td>\n",
              "      <td>normal</td>\n",
              "      <td>0</td>\n",
              "      <td>Royal Challengers Bangalore</td>\n",
              "      <td>15</td>\n",
              "      <td>0</td>\n",
              "      <td>KM Jadhav</td>\n",
              "      <td>M Chinnaswamy Stadium</td>\n",
              "      <td>NaN</td>\n",
              "      <td>NaN</td>\n",
              "    </tr>\n",
              "    <tr>\n",
              "      <th>...</th>\n",
              "      <td>...</td>\n",
              "      <td>...</td>\n",
              "      <td>...</td>\n",
              "      <td>...</td>\n",
              "      <td>...</td>\n",
              "      <td>...</td>\n",
              "      <td>...</td>\n",
              "      <td>...</td>\n",
              "      <td>...</td>\n",
              "      <td>...</td>\n",
              "      <td>...</td>\n",
              "      <td>...</td>\n",
              "      <td>...</td>\n",
              "      <td>...</td>\n",
              "      <td>...</td>\n",
              "      <td>...</td>\n",
              "    </tr>\n",
              "    <tr>\n",
              "      <th>751</th>\n",
              "      <td>11347</td>\n",
              "      <td>2019</td>\n",
              "      <td>05/05/19</td>\n",
              "      <td>Kolkata Knight Riders</td>\n",
              "      <td>Mumbai Indians</td>\n",
              "      <td>Mumbai Indians</td>\n",
              "      <td>field</td>\n",
              "      <td>normal</td>\n",
              "      <td>0</td>\n",
              "      <td>Mumbai Indians</td>\n",
              "      <td>0</td>\n",
              "      <td>9</td>\n",
              "      <td>HH Pandya</td>\n",
              "      <td>Wankhede Stadium</td>\n",
              "      <td>Nanda Kishore</td>\n",
              "      <td>O Nandan</td>\n",
              "    </tr>\n",
              "    <tr>\n",
              "      <th>752</th>\n",
              "      <td>11412</td>\n",
              "      <td>2019</td>\n",
              "      <td>07/05/19</td>\n",
              "      <td>Chennai Super Kings</td>\n",
              "      <td>Mumbai Indians</td>\n",
              "      <td>Chennai Super Kings</td>\n",
              "      <td>bat</td>\n",
              "      <td>normal</td>\n",
              "      <td>0</td>\n",
              "      <td>Mumbai Indians</td>\n",
              "      <td>0</td>\n",
              "      <td>6</td>\n",
              "      <td>AS Yadav</td>\n",
              "      <td>M. A. Chidambaram Stadium</td>\n",
              "      <td>Nigel Llong</td>\n",
              "      <td>Nitin Menon</td>\n",
              "    </tr>\n",
              "    <tr>\n",
              "      <th>753</th>\n",
              "      <td>11413</td>\n",
              "      <td>2019</td>\n",
              "      <td>08/05/19</td>\n",
              "      <td>Sunrisers Hyderabad</td>\n",
              "      <td>Delhi Capitals</td>\n",
              "      <td>Delhi Capitals</td>\n",
              "      <td>field</td>\n",
              "      <td>normal</td>\n",
              "      <td>0</td>\n",
              "      <td>Delhi Capitals</td>\n",
              "      <td>0</td>\n",
              "      <td>2</td>\n",
              "      <td>RR Pant</td>\n",
              "      <td>ACA-VDCA Stadium</td>\n",
              "      <td>NaN</td>\n",
              "      <td>NaN</td>\n",
              "    </tr>\n",
              "    <tr>\n",
              "      <th>754</th>\n",
              "      <td>11414</td>\n",
              "      <td>2019</td>\n",
              "      <td>10/05/19</td>\n",
              "      <td>Delhi Capitals</td>\n",
              "      <td>Chennai Super Kings</td>\n",
              "      <td>Chennai Super Kings</td>\n",
              "      <td>field</td>\n",
              "      <td>normal</td>\n",
              "      <td>0</td>\n",
              "      <td>Chennai Super Kings</td>\n",
              "      <td>0</td>\n",
              "      <td>6</td>\n",
              "      <td>F du Plessis</td>\n",
              "      <td>ACA-VDCA Stadium</td>\n",
              "      <td>Sundaram Ravi</td>\n",
              "      <td>Bruce Oxenford</td>\n",
              "    </tr>\n",
              "    <tr>\n",
              "      <th>755</th>\n",
              "      <td>11415</td>\n",
              "      <td>2019</td>\n",
              "      <td>12/05/19</td>\n",
              "      <td>Mumbai Indians</td>\n",
              "      <td>Chennai Super Kings</td>\n",
              "      <td>Mumbai Indians</td>\n",
              "      <td>bat</td>\n",
              "      <td>normal</td>\n",
              "      <td>0</td>\n",
              "      <td>Mumbai Indians</td>\n",
              "      <td>1</td>\n",
              "      <td>0</td>\n",
              "      <td>JJ Bumrah</td>\n",
              "      <td>Rajiv Gandhi Intl. Cricket Stadium</td>\n",
              "      <td>Nitin Menon</td>\n",
              "      <td>Ian Gould</td>\n",
              "    </tr>\n",
              "  </tbody>\n",
              "</table>\n",
              "<p>756 rows × 16 columns</p>\n",
              "</div>"
            ],
            "text/plain": [
              "        id  season        date                        team1  \\\n",
              "0        1    2017  2017-04-05          Sunrisers Hyderabad   \n",
              "1        2    2017  2017-04-06               Mumbai Indians   \n",
              "2        3    2017  2017-04-07                Gujarat Lions   \n",
              "3        4    2017  2017-04-08       Rising Pune Supergiant   \n",
              "4        5    2017  2017-04-08  Royal Challengers Bangalore   \n",
              "..     ...     ...         ...                          ...   \n",
              "751  11347    2019    05/05/19        Kolkata Knight Riders   \n",
              "752  11412    2019    07/05/19          Chennai Super Kings   \n",
              "753  11413    2019    08/05/19          Sunrisers Hyderabad   \n",
              "754  11414    2019    10/05/19               Delhi Capitals   \n",
              "755  11415    2019    12/05/19               Mumbai Indians   \n",
              "\n",
              "                           team2                  toss_winner toss_decision  \\\n",
              "0    Royal Challengers Bangalore  Royal Challengers Bangalore         field   \n",
              "1         Rising Pune Supergiant       Rising Pune Supergiant         field   \n",
              "2          Kolkata Knight Riders        Kolkata Knight Riders         field   \n",
              "3                Kings XI Punjab              Kings XI Punjab         field   \n",
              "4               Delhi Daredevils  Royal Challengers Bangalore           bat   \n",
              "..                           ...                          ...           ...   \n",
              "751               Mumbai Indians               Mumbai Indians         field   \n",
              "752               Mumbai Indians          Chennai Super Kings           bat   \n",
              "753               Delhi Capitals               Delhi Capitals         field   \n",
              "754          Chennai Super Kings          Chennai Super Kings         field   \n",
              "755          Chennai Super Kings               Mumbai Indians           bat   \n",
              "\n",
              "     result  dl_applied                       winner  win_by_runs  \\\n",
              "0    normal           0          Sunrisers Hyderabad           35   \n",
              "1    normal           0       Rising Pune Supergiant            0   \n",
              "2    normal           0        Kolkata Knight Riders            0   \n",
              "3    normal           0              Kings XI Punjab            0   \n",
              "4    normal           0  Royal Challengers Bangalore           15   \n",
              "..      ...         ...                          ...          ...   \n",
              "751  normal           0               Mumbai Indians            0   \n",
              "752  normal           0               Mumbai Indians            0   \n",
              "753  normal           0               Delhi Capitals            0   \n",
              "754  normal           0          Chennai Super Kings            0   \n",
              "755  normal           0               Mumbai Indians            1   \n",
              "\n",
              "     win_by_wickets player_of_match  \\\n",
              "0                 0    Yuvraj Singh   \n",
              "1                 7       SPD Smith   \n",
              "2                10         CA Lynn   \n",
              "3                 6      GJ Maxwell   \n",
              "4                 0       KM Jadhav   \n",
              "..              ...             ...   \n",
              "751               9       HH Pandya   \n",
              "752               6        AS Yadav   \n",
              "753               2         RR Pant   \n",
              "754               6    F du Plessis   \n",
              "755               0       JJ Bumrah   \n",
              "\n",
              "                                         venue         umpire1         umpire2  \n",
              "0    Rajiv Gandhi International Stadium, Uppal     AY Dandekar        NJ Llong  \n",
              "1      Maharashtra Cricket Association Stadium  A Nand Kishore          S Ravi  \n",
              "2       Saurashtra Cricket Association Stadium     Nitin Menon       CK Nandan  \n",
              "3                       Holkar Cricket Stadium    AK Chaudhary   C Shamshuddin  \n",
              "4                        M Chinnaswamy Stadium             NaN             NaN  \n",
              "..                                         ...             ...             ...  \n",
              "751                           Wankhede Stadium   Nanda Kishore        O Nandan  \n",
              "752                  M. A. Chidambaram Stadium     Nigel Llong     Nitin Menon  \n",
              "753                           ACA-VDCA Stadium             NaN             NaN  \n",
              "754                           ACA-VDCA Stadium   Sundaram Ravi  Bruce Oxenford  \n",
              "755         Rajiv Gandhi Intl. Cricket Stadium     Nitin Menon       Ian Gould  \n",
              "\n",
              "[756 rows x 16 columns]"
            ]
          },
          "execution_count": 19,
          "metadata": {},
          "output_type": "execute_result"
        }
      ],
      "source": [
        "ipl_matches_df = ipl_matches_df.drop(['umpire3','city'],axis=1)\n",
        "ipl_matches_df"
      ]
    },
    {
      "cell_type": "code",
      "execution_count": null,
      "metadata": {
        "id": "hkI6M8BM-4UK",
        "outputId": "2c981d7f-7689-4fb9-e311-c79b6181e6f9"
      },
      "outputs": [
        {
          "data": {
            "text/html": [
              "<div>\n",
              "<style scoped>\n",
              "    .dataframe tbody tr th:only-of-type {\n",
              "        vertical-align: middle;\n",
              "    }\n",
              "\n",
              "    .dataframe tbody tr th {\n",
              "        vertical-align: top;\n",
              "    }\n",
              "\n",
              "    .dataframe thead th {\n",
              "        text-align: right;\n",
              "    }\n",
              "</style>\n",
              "<table border=\"1\" class=\"dataframe\">\n",
              "  <thead>\n",
              "    <tr style=\"text-align: right;\">\n",
              "      <th></th>\n",
              "      <th>id</th>\n",
              "      <th>season</th>\n",
              "      <th>dl_applied</th>\n",
              "      <th>win_by_runs</th>\n",
              "      <th>win_by_wickets</th>\n",
              "    </tr>\n",
              "  </thead>\n",
              "  <tbody>\n",
              "    <tr>\n",
              "      <th>count</th>\n",
              "      <td>756.000000</td>\n",
              "      <td>756.000000</td>\n",
              "      <td>756.000000</td>\n",
              "      <td>756.000000</td>\n",
              "      <td>756.000000</td>\n",
              "    </tr>\n",
              "    <tr>\n",
              "      <th>mean</th>\n",
              "      <td>1792.178571</td>\n",
              "      <td>2013.444444</td>\n",
              "      <td>0.025132</td>\n",
              "      <td>13.283069</td>\n",
              "      <td>3.350529</td>\n",
              "    </tr>\n",
              "    <tr>\n",
              "      <th>std</th>\n",
              "      <td>3464.478148</td>\n",
              "      <td>3.366895</td>\n",
              "      <td>0.156630</td>\n",
              "      <td>23.471144</td>\n",
              "      <td>3.387963</td>\n",
              "    </tr>\n",
              "    <tr>\n",
              "      <th>min</th>\n",
              "      <td>1.000000</td>\n",
              "      <td>2008.000000</td>\n",
              "      <td>0.000000</td>\n",
              "      <td>0.000000</td>\n",
              "      <td>0.000000</td>\n",
              "    </tr>\n",
              "    <tr>\n",
              "      <th>25%</th>\n",
              "      <td>189.750000</td>\n",
              "      <td>2011.000000</td>\n",
              "      <td>0.000000</td>\n",
              "      <td>0.000000</td>\n",
              "      <td>0.000000</td>\n",
              "    </tr>\n",
              "    <tr>\n",
              "      <th>50%</th>\n",
              "      <td>378.500000</td>\n",
              "      <td>2013.000000</td>\n",
              "      <td>0.000000</td>\n",
              "      <td>0.000000</td>\n",
              "      <td>4.000000</td>\n",
              "    </tr>\n",
              "    <tr>\n",
              "      <th>75%</th>\n",
              "      <td>567.250000</td>\n",
              "      <td>2016.000000</td>\n",
              "      <td>0.000000</td>\n",
              "      <td>19.000000</td>\n",
              "      <td>6.000000</td>\n",
              "    </tr>\n",
              "    <tr>\n",
              "      <th>max</th>\n",
              "      <td>11415.000000</td>\n",
              "      <td>2019.000000</td>\n",
              "      <td>1.000000</td>\n",
              "      <td>146.000000</td>\n",
              "      <td>10.000000</td>\n",
              "    </tr>\n",
              "  </tbody>\n",
              "</table>\n",
              "</div>"
            ],
            "text/plain": [
              "                 id       season  dl_applied  win_by_runs  win_by_wickets\n",
              "count    756.000000   756.000000  756.000000   756.000000      756.000000\n",
              "mean    1792.178571  2013.444444    0.025132    13.283069        3.350529\n",
              "std     3464.478148     3.366895    0.156630    23.471144        3.387963\n",
              "min        1.000000  2008.000000    0.000000     0.000000        0.000000\n",
              "25%      189.750000  2011.000000    0.000000     0.000000        0.000000\n",
              "50%      378.500000  2013.000000    0.000000     0.000000        4.000000\n",
              "75%      567.250000  2016.000000    0.000000    19.000000        6.000000\n",
              "max    11415.000000  2019.000000    1.000000   146.000000       10.000000"
            ]
          },
          "execution_count": 20,
          "metadata": {},
          "output_type": "execute_result"
        }
      ],
      "source": [
        "ipl_matches_df.describe()"
      ]
    },
    {
      "cell_type": "code",
      "execution_count": null,
      "metadata": {
        "id": "_fZ4DT4--4UK",
        "outputId": "966584d9-1d5d-4823-9c26-48ccfe10fd65"
      },
      "outputs": [
        {
          "name": "stdout",
          "output_type": "stream",
          "text": [
            "<class 'pandas.core.frame.DataFrame'>\n",
            "RangeIndex: 756 entries, 0 to 755\n",
            "Data columns (total 16 columns):\n",
            " #   Column           Non-Null Count  Dtype \n",
            "---  ------           --------------  ----- \n",
            " 0   id               756 non-null    int64 \n",
            " 1   season           756 non-null    int64 \n",
            " 2   date             756 non-null    object\n",
            " 3   team1            756 non-null    object\n",
            " 4   team2            756 non-null    object\n",
            " 5   toss_winner      756 non-null    object\n",
            " 6   toss_decision    756 non-null    object\n",
            " 7   result           756 non-null    object\n",
            " 8   dl_applied       756 non-null    int64 \n",
            " 9   winner           752 non-null    object\n",
            " 10  win_by_runs      756 non-null    int64 \n",
            " 11  win_by_wickets   756 non-null    int64 \n",
            " 12  player_of_match  752 non-null    object\n",
            " 13  venue            756 non-null    object\n",
            " 14  umpire1          754 non-null    object\n",
            " 15  umpire2          754 non-null    object\n",
            "dtypes: int64(5), object(11)\n",
            "memory usage: 94.6+ KB\n"
          ]
        }
      ],
      "source": [
        "ipl_matches_df.info()"
      ]
    },
    {
      "cell_type": "code",
      "execution_count": null,
      "metadata": {
        "id": "S_cvK1bq-4UL"
      },
      "outputs": [],
      "source": [
        "ipl_matches_df['date'] = pd.to_datetime(ipl_matches_df['date'])"
      ]
    },
    {
      "cell_type": "markdown",
      "metadata": {
        "id": "nhmDws-V-4UL"
      },
      "source": [
        "Checking after converting date into date time"
      ]
    },
    {
      "cell_type": "code",
      "execution_count": null,
      "metadata": {
        "id": "G4IbXezq-4UM",
        "outputId": "bfb4c4f7-40b7-441e-dc33-9f83a7d1dbf5"
      },
      "outputs": [
        {
          "name": "stdout",
          "output_type": "stream",
          "text": [
            "<class 'pandas.core.frame.DataFrame'>\n",
            "RangeIndex: 756 entries, 0 to 755\n",
            "Data columns (total 16 columns):\n",
            " #   Column           Non-Null Count  Dtype         \n",
            "---  ------           --------------  -----         \n",
            " 0   id               756 non-null    int64         \n",
            " 1   season           756 non-null    int64         \n",
            " 2   date             756 non-null    datetime64[ns]\n",
            " 3   team1            756 non-null    object        \n",
            " 4   team2            756 non-null    object        \n",
            " 5   toss_winner      756 non-null    object        \n",
            " 6   toss_decision    756 non-null    object        \n",
            " 7   result           756 non-null    object        \n",
            " 8   dl_applied       756 non-null    int64         \n",
            " 9   winner           752 non-null    object        \n",
            " 10  win_by_runs      756 non-null    int64         \n",
            " 11  win_by_wickets   756 non-null    int64         \n",
            " 12  player_of_match  752 non-null    object        \n",
            " 13  venue            756 non-null    object        \n",
            " 14  umpire1          754 non-null    object        \n",
            " 15  umpire2          754 non-null    object        \n",
            "dtypes: datetime64[ns](1), int64(5), object(10)\n",
            "memory usage: 94.6+ KB\n"
          ]
        }
      ],
      "source": [
        "ipl_matches_df.info()"
      ]
    },
    {
      "cell_type": "code",
      "execution_count": null,
      "metadata": {
        "id": "1NBmyDha-4UM",
        "outputId": "fd62f1af-a518-425d-b675-34ab9e819a1c"
      },
      "outputs": [
        {
          "data": {
            "text/html": [
              "<div>\n",
              "<style scoped>\n",
              "    .dataframe tbody tr th:only-of-type {\n",
              "        vertical-align: middle;\n",
              "    }\n",
              "\n",
              "    .dataframe tbody tr th {\n",
              "        vertical-align: top;\n",
              "    }\n",
              "\n",
              "    .dataframe thead th {\n",
              "        text-align: right;\n",
              "    }\n",
              "</style>\n",
              "<table border=\"1\" class=\"dataframe\">\n",
              "  <thead>\n",
              "    <tr style=\"text-align: right;\">\n",
              "      <th></th>\n",
              "      <th>id</th>\n",
              "      <th>season</th>\n",
              "      <th>date</th>\n",
              "      <th>team1</th>\n",
              "      <th>team2</th>\n",
              "      <th>toss_winner</th>\n",
              "      <th>toss_decision</th>\n",
              "      <th>result</th>\n",
              "      <th>dl_applied</th>\n",
              "      <th>winner</th>\n",
              "      <th>win_by_runs</th>\n",
              "      <th>win_by_wickets</th>\n",
              "      <th>player_of_match</th>\n",
              "      <th>venue</th>\n",
              "      <th>umpire1</th>\n",
              "      <th>umpire2</th>\n",
              "    </tr>\n",
              "  </thead>\n",
              "  <tbody>\n",
              "    <tr>\n",
              "      <th>0</th>\n",
              "      <td>1</td>\n",
              "      <td>2017</td>\n",
              "      <td>2017-04-05</td>\n",
              "      <td>Sunrisers Hyderabad</td>\n",
              "      <td>Royal Challengers Bangalore</td>\n",
              "      <td>Royal Challengers Bangalore</td>\n",
              "      <td>field</td>\n",
              "      <td>normal</td>\n",
              "      <td>0</td>\n",
              "      <td>Sunrisers Hyderabad</td>\n",
              "      <td>35</td>\n",
              "      <td>0</td>\n",
              "      <td>Yuvraj Singh</td>\n",
              "      <td>Rajiv Gandhi International Stadium, Uppal</td>\n",
              "      <td>AY Dandekar</td>\n",
              "      <td>NJ Llong</td>\n",
              "    </tr>\n",
              "    <tr>\n",
              "      <th>1</th>\n",
              "      <td>2</td>\n",
              "      <td>2017</td>\n",
              "      <td>2017-04-06</td>\n",
              "      <td>Mumbai Indians</td>\n",
              "      <td>Rising Pune Supergiant</td>\n",
              "      <td>Rising Pune Supergiant</td>\n",
              "      <td>field</td>\n",
              "      <td>normal</td>\n",
              "      <td>0</td>\n",
              "      <td>Rising Pune Supergiant</td>\n",
              "      <td>0</td>\n",
              "      <td>7</td>\n",
              "      <td>SPD Smith</td>\n",
              "      <td>Maharashtra Cricket Association Stadium</td>\n",
              "      <td>A Nand Kishore</td>\n",
              "      <td>S Ravi</td>\n",
              "    </tr>\n",
              "    <tr>\n",
              "      <th>2</th>\n",
              "      <td>3</td>\n",
              "      <td>2017</td>\n",
              "      <td>2017-04-07</td>\n",
              "      <td>Gujarat Lions</td>\n",
              "      <td>Kolkata Knight Riders</td>\n",
              "      <td>Kolkata Knight Riders</td>\n",
              "      <td>field</td>\n",
              "      <td>normal</td>\n",
              "      <td>0</td>\n",
              "      <td>Kolkata Knight Riders</td>\n",
              "      <td>0</td>\n",
              "      <td>10</td>\n",
              "      <td>CA Lynn</td>\n",
              "      <td>Saurashtra Cricket Association Stadium</td>\n",
              "      <td>Nitin Menon</td>\n",
              "      <td>CK Nandan</td>\n",
              "    </tr>\n",
              "    <tr>\n",
              "      <th>3</th>\n",
              "      <td>4</td>\n",
              "      <td>2017</td>\n",
              "      <td>2017-04-08</td>\n",
              "      <td>Rising Pune Supergiant</td>\n",
              "      <td>Kings XI Punjab</td>\n",
              "      <td>Kings XI Punjab</td>\n",
              "      <td>field</td>\n",
              "      <td>normal</td>\n",
              "      <td>0</td>\n",
              "      <td>Kings XI Punjab</td>\n",
              "      <td>0</td>\n",
              "      <td>6</td>\n",
              "      <td>GJ Maxwell</td>\n",
              "      <td>Holkar Cricket Stadium</td>\n",
              "      <td>AK Chaudhary</td>\n",
              "      <td>C Shamshuddin</td>\n",
              "    </tr>\n",
              "    <tr>\n",
              "      <th>4</th>\n",
              "      <td>5</td>\n",
              "      <td>2017</td>\n",
              "      <td>2017-04-08</td>\n",
              "      <td>Royal Challengers Bangalore</td>\n",
              "      <td>Delhi Daredevils</td>\n",
              "      <td>Royal Challengers Bangalore</td>\n",
              "      <td>bat</td>\n",
              "      <td>normal</td>\n",
              "      <td>0</td>\n",
              "      <td>Royal Challengers Bangalore</td>\n",
              "      <td>15</td>\n",
              "      <td>0</td>\n",
              "      <td>KM Jadhav</td>\n",
              "      <td>M Chinnaswamy Stadium</td>\n",
              "      <td>NaN</td>\n",
              "      <td>NaN</td>\n",
              "    </tr>\n",
              "    <tr>\n",
              "      <th>...</th>\n",
              "      <td>...</td>\n",
              "      <td>...</td>\n",
              "      <td>...</td>\n",
              "      <td>...</td>\n",
              "      <td>...</td>\n",
              "      <td>...</td>\n",
              "      <td>...</td>\n",
              "      <td>...</td>\n",
              "      <td>...</td>\n",
              "      <td>...</td>\n",
              "      <td>...</td>\n",
              "      <td>...</td>\n",
              "      <td>...</td>\n",
              "      <td>...</td>\n",
              "      <td>...</td>\n",
              "      <td>...</td>\n",
              "    </tr>\n",
              "    <tr>\n",
              "      <th>751</th>\n",
              "      <td>11347</td>\n",
              "      <td>2019</td>\n",
              "      <td>2019-05-05</td>\n",
              "      <td>Kolkata Knight Riders</td>\n",
              "      <td>Mumbai Indians</td>\n",
              "      <td>Mumbai Indians</td>\n",
              "      <td>field</td>\n",
              "      <td>normal</td>\n",
              "      <td>0</td>\n",
              "      <td>Mumbai Indians</td>\n",
              "      <td>0</td>\n",
              "      <td>9</td>\n",
              "      <td>HH Pandya</td>\n",
              "      <td>Wankhede Stadium</td>\n",
              "      <td>Nanda Kishore</td>\n",
              "      <td>O Nandan</td>\n",
              "    </tr>\n",
              "    <tr>\n",
              "      <th>752</th>\n",
              "      <td>11412</td>\n",
              "      <td>2019</td>\n",
              "      <td>2019-07-05</td>\n",
              "      <td>Chennai Super Kings</td>\n",
              "      <td>Mumbai Indians</td>\n",
              "      <td>Chennai Super Kings</td>\n",
              "      <td>bat</td>\n",
              "      <td>normal</td>\n",
              "      <td>0</td>\n",
              "      <td>Mumbai Indians</td>\n",
              "      <td>0</td>\n",
              "      <td>6</td>\n",
              "      <td>AS Yadav</td>\n",
              "      <td>M. A. Chidambaram Stadium</td>\n",
              "      <td>Nigel Llong</td>\n",
              "      <td>Nitin Menon</td>\n",
              "    </tr>\n",
              "    <tr>\n",
              "      <th>753</th>\n",
              "      <td>11413</td>\n",
              "      <td>2019</td>\n",
              "      <td>2019-08-05</td>\n",
              "      <td>Sunrisers Hyderabad</td>\n",
              "      <td>Delhi Capitals</td>\n",
              "      <td>Delhi Capitals</td>\n",
              "      <td>field</td>\n",
              "      <td>normal</td>\n",
              "      <td>0</td>\n",
              "      <td>Delhi Capitals</td>\n",
              "      <td>0</td>\n",
              "      <td>2</td>\n",
              "      <td>RR Pant</td>\n",
              "      <td>ACA-VDCA Stadium</td>\n",
              "      <td>NaN</td>\n",
              "      <td>NaN</td>\n",
              "    </tr>\n",
              "    <tr>\n",
              "      <th>754</th>\n",
              "      <td>11414</td>\n",
              "      <td>2019</td>\n",
              "      <td>2019-10-05</td>\n",
              "      <td>Delhi Capitals</td>\n",
              "      <td>Chennai Super Kings</td>\n",
              "      <td>Chennai Super Kings</td>\n",
              "      <td>field</td>\n",
              "      <td>normal</td>\n",
              "      <td>0</td>\n",
              "      <td>Chennai Super Kings</td>\n",
              "      <td>0</td>\n",
              "      <td>6</td>\n",
              "      <td>F du Plessis</td>\n",
              "      <td>ACA-VDCA Stadium</td>\n",
              "      <td>Sundaram Ravi</td>\n",
              "      <td>Bruce Oxenford</td>\n",
              "    </tr>\n",
              "    <tr>\n",
              "      <th>755</th>\n",
              "      <td>11415</td>\n",
              "      <td>2019</td>\n",
              "      <td>2019-12-05</td>\n",
              "      <td>Mumbai Indians</td>\n",
              "      <td>Chennai Super Kings</td>\n",
              "      <td>Mumbai Indians</td>\n",
              "      <td>bat</td>\n",
              "      <td>normal</td>\n",
              "      <td>0</td>\n",
              "      <td>Mumbai Indians</td>\n",
              "      <td>1</td>\n",
              "      <td>0</td>\n",
              "      <td>JJ Bumrah</td>\n",
              "      <td>Rajiv Gandhi Intl. Cricket Stadium</td>\n",
              "      <td>Nitin Menon</td>\n",
              "      <td>Ian Gould</td>\n",
              "    </tr>\n",
              "  </tbody>\n",
              "</table>\n",
              "<p>756 rows × 16 columns</p>\n",
              "</div>"
            ],
            "text/plain": [
              "        id  season       date                        team1  \\\n",
              "0        1    2017 2017-04-05          Sunrisers Hyderabad   \n",
              "1        2    2017 2017-04-06               Mumbai Indians   \n",
              "2        3    2017 2017-04-07                Gujarat Lions   \n",
              "3        4    2017 2017-04-08       Rising Pune Supergiant   \n",
              "4        5    2017 2017-04-08  Royal Challengers Bangalore   \n",
              "..     ...     ...        ...                          ...   \n",
              "751  11347    2019 2019-05-05        Kolkata Knight Riders   \n",
              "752  11412    2019 2019-07-05          Chennai Super Kings   \n",
              "753  11413    2019 2019-08-05          Sunrisers Hyderabad   \n",
              "754  11414    2019 2019-10-05               Delhi Capitals   \n",
              "755  11415    2019 2019-12-05               Mumbai Indians   \n",
              "\n",
              "                           team2                  toss_winner toss_decision  \\\n",
              "0    Royal Challengers Bangalore  Royal Challengers Bangalore         field   \n",
              "1         Rising Pune Supergiant       Rising Pune Supergiant         field   \n",
              "2          Kolkata Knight Riders        Kolkata Knight Riders         field   \n",
              "3                Kings XI Punjab              Kings XI Punjab         field   \n",
              "4               Delhi Daredevils  Royal Challengers Bangalore           bat   \n",
              "..                           ...                          ...           ...   \n",
              "751               Mumbai Indians               Mumbai Indians         field   \n",
              "752               Mumbai Indians          Chennai Super Kings           bat   \n",
              "753               Delhi Capitals               Delhi Capitals         field   \n",
              "754          Chennai Super Kings          Chennai Super Kings         field   \n",
              "755          Chennai Super Kings               Mumbai Indians           bat   \n",
              "\n",
              "     result  dl_applied                       winner  win_by_runs  \\\n",
              "0    normal           0          Sunrisers Hyderabad           35   \n",
              "1    normal           0       Rising Pune Supergiant            0   \n",
              "2    normal           0        Kolkata Knight Riders            0   \n",
              "3    normal           0              Kings XI Punjab            0   \n",
              "4    normal           0  Royal Challengers Bangalore           15   \n",
              "..      ...         ...                          ...          ...   \n",
              "751  normal           0               Mumbai Indians            0   \n",
              "752  normal           0               Mumbai Indians            0   \n",
              "753  normal           0               Delhi Capitals            0   \n",
              "754  normal           0          Chennai Super Kings            0   \n",
              "755  normal           0               Mumbai Indians            1   \n",
              "\n",
              "     win_by_wickets player_of_match  \\\n",
              "0                 0    Yuvraj Singh   \n",
              "1                 7       SPD Smith   \n",
              "2                10         CA Lynn   \n",
              "3                 6      GJ Maxwell   \n",
              "4                 0       KM Jadhav   \n",
              "..              ...             ...   \n",
              "751               9       HH Pandya   \n",
              "752               6        AS Yadav   \n",
              "753               2         RR Pant   \n",
              "754               6    F du Plessis   \n",
              "755               0       JJ Bumrah   \n",
              "\n",
              "                                         venue         umpire1         umpire2  \n",
              "0    Rajiv Gandhi International Stadium, Uppal     AY Dandekar        NJ Llong  \n",
              "1      Maharashtra Cricket Association Stadium  A Nand Kishore          S Ravi  \n",
              "2       Saurashtra Cricket Association Stadium     Nitin Menon       CK Nandan  \n",
              "3                       Holkar Cricket Stadium    AK Chaudhary   C Shamshuddin  \n",
              "4                        M Chinnaswamy Stadium             NaN             NaN  \n",
              "..                                         ...             ...             ...  \n",
              "751                           Wankhede Stadium   Nanda Kishore        O Nandan  \n",
              "752                  M. A. Chidambaram Stadium     Nigel Llong     Nitin Menon  \n",
              "753                           ACA-VDCA Stadium             NaN             NaN  \n",
              "754                           ACA-VDCA Stadium   Sundaram Ravi  Bruce Oxenford  \n",
              "755         Rajiv Gandhi Intl. Cricket Stadium     Nitin Menon       Ian Gould  \n",
              "\n",
              "[756 rows x 16 columns]"
            ]
          },
          "execution_count": 27,
          "metadata": {},
          "output_type": "execute_result"
        }
      ],
      "source": [
        "ipl_matches_df\n",
        "\n"
      ]
    },
    {
      "cell_type": "code",
      "execution_count": null,
      "metadata": {
        "id": "eIAyrNyV-4UM"
      },
      "outputs": [],
      "source": [
        "ipl_matches_df['season'] = ipl_matches_df['season'].apply(lambda x: int(str(x)[-4:]))\n"
      ]
    },
    {
      "cell_type": "code",
      "execution_count": null,
      "metadata": {
        "id": "e7PNH74j-4UN",
        "outputId": "65a117d1-a597-4d36-d203-e6eb98aebf90"
      },
      "outputs": [
        {
          "data": {
            "text/html": [
              "<div>\n",
              "<style scoped>\n",
              "    .dataframe tbody tr th:only-of-type {\n",
              "        vertical-align: middle;\n",
              "    }\n",
              "\n",
              "    .dataframe tbody tr th {\n",
              "        vertical-align: top;\n",
              "    }\n",
              "\n",
              "    .dataframe thead th {\n",
              "        text-align: right;\n",
              "    }\n",
              "</style>\n",
              "<table border=\"1\" class=\"dataframe\">\n",
              "  <thead>\n",
              "    <tr style=\"text-align: right;\">\n",
              "      <th></th>\n",
              "      <th>id</th>\n",
              "      <th>season</th>\n",
              "      <th>date</th>\n",
              "      <th>team1</th>\n",
              "      <th>team2</th>\n",
              "      <th>toss_winner</th>\n",
              "      <th>toss_decision</th>\n",
              "      <th>result</th>\n",
              "      <th>dl_applied</th>\n",
              "      <th>winner</th>\n",
              "      <th>win_by_runs</th>\n",
              "      <th>win_by_wickets</th>\n",
              "      <th>player_of_match</th>\n",
              "      <th>venue</th>\n",
              "      <th>umpire1</th>\n",
              "      <th>umpire2</th>\n",
              "    </tr>\n",
              "  </thead>\n",
              "  <tbody>\n",
              "    <tr>\n",
              "      <th>0</th>\n",
              "      <td>1</td>\n",
              "      <td>2017</td>\n",
              "      <td>2017-04-05</td>\n",
              "      <td>Sunrisers Hyderabad</td>\n",
              "      <td>Royal Challengers Bangalore</td>\n",
              "      <td>Royal Challengers Bangalore</td>\n",
              "      <td>field</td>\n",
              "      <td>normal</td>\n",
              "      <td>0</td>\n",
              "      <td>Sunrisers Hyderabad</td>\n",
              "      <td>35</td>\n",
              "      <td>0</td>\n",
              "      <td>Yuvraj Singh</td>\n",
              "      <td>Rajiv Gandhi International Stadium, Uppal</td>\n",
              "      <td>AY Dandekar</td>\n",
              "      <td>NJ Llong</td>\n",
              "    </tr>\n",
              "    <tr>\n",
              "      <th>1</th>\n",
              "      <td>2</td>\n",
              "      <td>2017</td>\n",
              "      <td>2017-04-06</td>\n",
              "      <td>Mumbai Indians</td>\n",
              "      <td>Rising Pune Supergiant</td>\n",
              "      <td>Rising Pune Supergiant</td>\n",
              "      <td>field</td>\n",
              "      <td>normal</td>\n",
              "      <td>0</td>\n",
              "      <td>Rising Pune Supergiant</td>\n",
              "      <td>0</td>\n",
              "      <td>7</td>\n",
              "      <td>SPD Smith</td>\n",
              "      <td>Maharashtra Cricket Association Stadium</td>\n",
              "      <td>A Nand Kishore</td>\n",
              "      <td>S Ravi</td>\n",
              "    </tr>\n",
              "    <tr>\n",
              "      <th>2</th>\n",
              "      <td>3</td>\n",
              "      <td>2017</td>\n",
              "      <td>2017-04-07</td>\n",
              "      <td>Gujarat Lions</td>\n",
              "      <td>Kolkata Knight Riders</td>\n",
              "      <td>Kolkata Knight Riders</td>\n",
              "      <td>field</td>\n",
              "      <td>normal</td>\n",
              "      <td>0</td>\n",
              "      <td>Kolkata Knight Riders</td>\n",
              "      <td>0</td>\n",
              "      <td>10</td>\n",
              "      <td>CA Lynn</td>\n",
              "      <td>Saurashtra Cricket Association Stadium</td>\n",
              "      <td>Nitin Menon</td>\n",
              "      <td>CK Nandan</td>\n",
              "    </tr>\n",
              "    <tr>\n",
              "      <th>3</th>\n",
              "      <td>4</td>\n",
              "      <td>2017</td>\n",
              "      <td>2017-04-08</td>\n",
              "      <td>Rising Pune Supergiant</td>\n",
              "      <td>Kings XI Punjab</td>\n",
              "      <td>Kings XI Punjab</td>\n",
              "      <td>field</td>\n",
              "      <td>normal</td>\n",
              "      <td>0</td>\n",
              "      <td>Kings XI Punjab</td>\n",
              "      <td>0</td>\n",
              "      <td>6</td>\n",
              "      <td>GJ Maxwell</td>\n",
              "      <td>Holkar Cricket Stadium</td>\n",
              "      <td>AK Chaudhary</td>\n",
              "      <td>C Shamshuddin</td>\n",
              "    </tr>\n",
              "    <tr>\n",
              "      <th>4</th>\n",
              "      <td>5</td>\n",
              "      <td>2017</td>\n",
              "      <td>2017-04-08</td>\n",
              "      <td>Royal Challengers Bangalore</td>\n",
              "      <td>Delhi Daredevils</td>\n",
              "      <td>Royal Challengers Bangalore</td>\n",
              "      <td>bat</td>\n",
              "      <td>normal</td>\n",
              "      <td>0</td>\n",
              "      <td>Royal Challengers Bangalore</td>\n",
              "      <td>15</td>\n",
              "      <td>0</td>\n",
              "      <td>KM Jadhav</td>\n",
              "      <td>M Chinnaswamy Stadium</td>\n",
              "      <td>NaN</td>\n",
              "      <td>NaN</td>\n",
              "    </tr>\n",
              "    <tr>\n",
              "      <th>...</th>\n",
              "      <td>...</td>\n",
              "      <td>...</td>\n",
              "      <td>...</td>\n",
              "      <td>...</td>\n",
              "      <td>...</td>\n",
              "      <td>...</td>\n",
              "      <td>...</td>\n",
              "      <td>...</td>\n",
              "      <td>...</td>\n",
              "      <td>...</td>\n",
              "      <td>...</td>\n",
              "      <td>...</td>\n",
              "      <td>...</td>\n",
              "      <td>...</td>\n",
              "      <td>...</td>\n",
              "      <td>...</td>\n",
              "    </tr>\n",
              "    <tr>\n",
              "      <th>751</th>\n",
              "      <td>11347</td>\n",
              "      <td>2019</td>\n",
              "      <td>2019-05-05</td>\n",
              "      <td>Kolkata Knight Riders</td>\n",
              "      <td>Mumbai Indians</td>\n",
              "      <td>Mumbai Indians</td>\n",
              "      <td>field</td>\n",
              "      <td>normal</td>\n",
              "      <td>0</td>\n",
              "      <td>Mumbai Indians</td>\n",
              "      <td>0</td>\n",
              "      <td>9</td>\n",
              "      <td>HH Pandya</td>\n",
              "      <td>Wankhede Stadium</td>\n",
              "      <td>Nanda Kishore</td>\n",
              "      <td>O Nandan</td>\n",
              "    </tr>\n",
              "    <tr>\n",
              "      <th>752</th>\n",
              "      <td>11412</td>\n",
              "      <td>2019</td>\n",
              "      <td>2019-07-05</td>\n",
              "      <td>Chennai Super Kings</td>\n",
              "      <td>Mumbai Indians</td>\n",
              "      <td>Chennai Super Kings</td>\n",
              "      <td>bat</td>\n",
              "      <td>normal</td>\n",
              "      <td>0</td>\n",
              "      <td>Mumbai Indians</td>\n",
              "      <td>0</td>\n",
              "      <td>6</td>\n",
              "      <td>AS Yadav</td>\n",
              "      <td>M. A. Chidambaram Stadium</td>\n",
              "      <td>Nigel Llong</td>\n",
              "      <td>Nitin Menon</td>\n",
              "    </tr>\n",
              "    <tr>\n",
              "      <th>753</th>\n",
              "      <td>11413</td>\n",
              "      <td>2019</td>\n",
              "      <td>2019-08-05</td>\n",
              "      <td>Sunrisers Hyderabad</td>\n",
              "      <td>Delhi Capitals</td>\n",
              "      <td>Delhi Capitals</td>\n",
              "      <td>field</td>\n",
              "      <td>normal</td>\n",
              "      <td>0</td>\n",
              "      <td>Delhi Capitals</td>\n",
              "      <td>0</td>\n",
              "      <td>2</td>\n",
              "      <td>RR Pant</td>\n",
              "      <td>ACA-VDCA Stadium</td>\n",
              "      <td>NaN</td>\n",
              "      <td>NaN</td>\n",
              "    </tr>\n",
              "    <tr>\n",
              "      <th>754</th>\n",
              "      <td>11414</td>\n",
              "      <td>2019</td>\n",
              "      <td>2019-10-05</td>\n",
              "      <td>Delhi Capitals</td>\n",
              "      <td>Chennai Super Kings</td>\n",
              "      <td>Chennai Super Kings</td>\n",
              "      <td>field</td>\n",
              "      <td>normal</td>\n",
              "      <td>0</td>\n",
              "      <td>Chennai Super Kings</td>\n",
              "      <td>0</td>\n",
              "      <td>6</td>\n",
              "      <td>F du Plessis</td>\n",
              "      <td>ACA-VDCA Stadium</td>\n",
              "      <td>Sundaram Ravi</td>\n",
              "      <td>Bruce Oxenford</td>\n",
              "    </tr>\n",
              "    <tr>\n",
              "      <th>755</th>\n",
              "      <td>11415</td>\n",
              "      <td>2019</td>\n",
              "      <td>2019-12-05</td>\n",
              "      <td>Mumbai Indians</td>\n",
              "      <td>Chennai Super Kings</td>\n",
              "      <td>Mumbai Indians</td>\n",
              "      <td>bat</td>\n",
              "      <td>normal</td>\n",
              "      <td>0</td>\n",
              "      <td>Mumbai Indians</td>\n",
              "      <td>1</td>\n",
              "      <td>0</td>\n",
              "      <td>JJ Bumrah</td>\n",
              "      <td>Rajiv Gandhi Intl. Cricket Stadium</td>\n",
              "      <td>Nitin Menon</td>\n",
              "      <td>Ian Gould</td>\n",
              "    </tr>\n",
              "  </tbody>\n",
              "</table>\n",
              "<p>756 rows × 16 columns</p>\n",
              "</div>"
            ],
            "text/plain": [
              "        id  season       date                        team1  \\\n",
              "0        1    2017 2017-04-05          Sunrisers Hyderabad   \n",
              "1        2    2017 2017-04-06               Mumbai Indians   \n",
              "2        3    2017 2017-04-07                Gujarat Lions   \n",
              "3        4    2017 2017-04-08       Rising Pune Supergiant   \n",
              "4        5    2017 2017-04-08  Royal Challengers Bangalore   \n",
              "..     ...     ...        ...                          ...   \n",
              "751  11347    2019 2019-05-05        Kolkata Knight Riders   \n",
              "752  11412    2019 2019-07-05          Chennai Super Kings   \n",
              "753  11413    2019 2019-08-05          Sunrisers Hyderabad   \n",
              "754  11414    2019 2019-10-05               Delhi Capitals   \n",
              "755  11415    2019 2019-12-05               Mumbai Indians   \n",
              "\n",
              "                           team2                  toss_winner toss_decision  \\\n",
              "0    Royal Challengers Bangalore  Royal Challengers Bangalore         field   \n",
              "1         Rising Pune Supergiant       Rising Pune Supergiant         field   \n",
              "2          Kolkata Knight Riders        Kolkata Knight Riders         field   \n",
              "3                Kings XI Punjab              Kings XI Punjab         field   \n",
              "4               Delhi Daredevils  Royal Challengers Bangalore           bat   \n",
              "..                           ...                          ...           ...   \n",
              "751               Mumbai Indians               Mumbai Indians         field   \n",
              "752               Mumbai Indians          Chennai Super Kings           bat   \n",
              "753               Delhi Capitals               Delhi Capitals         field   \n",
              "754          Chennai Super Kings          Chennai Super Kings         field   \n",
              "755          Chennai Super Kings               Mumbai Indians           bat   \n",
              "\n",
              "     result  dl_applied                       winner  win_by_runs  \\\n",
              "0    normal           0          Sunrisers Hyderabad           35   \n",
              "1    normal           0       Rising Pune Supergiant            0   \n",
              "2    normal           0        Kolkata Knight Riders            0   \n",
              "3    normal           0              Kings XI Punjab            0   \n",
              "4    normal           0  Royal Challengers Bangalore           15   \n",
              "..      ...         ...                          ...          ...   \n",
              "751  normal           0               Mumbai Indians            0   \n",
              "752  normal           0               Mumbai Indians            0   \n",
              "753  normal           0               Delhi Capitals            0   \n",
              "754  normal           0          Chennai Super Kings            0   \n",
              "755  normal           0               Mumbai Indians            1   \n",
              "\n",
              "     win_by_wickets player_of_match  \\\n",
              "0                 0    Yuvraj Singh   \n",
              "1                 7       SPD Smith   \n",
              "2                10         CA Lynn   \n",
              "3                 6      GJ Maxwell   \n",
              "4                 0       KM Jadhav   \n",
              "..              ...             ...   \n",
              "751               9       HH Pandya   \n",
              "752               6        AS Yadav   \n",
              "753               2         RR Pant   \n",
              "754               6    F du Plessis   \n",
              "755               0       JJ Bumrah   \n",
              "\n",
              "                                         venue         umpire1         umpire2  \n",
              "0    Rajiv Gandhi International Stadium, Uppal     AY Dandekar        NJ Llong  \n",
              "1      Maharashtra Cricket Association Stadium  A Nand Kishore          S Ravi  \n",
              "2       Saurashtra Cricket Association Stadium     Nitin Menon       CK Nandan  \n",
              "3                       Holkar Cricket Stadium    AK Chaudhary   C Shamshuddin  \n",
              "4                        M Chinnaswamy Stadium             NaN             NaN  \n",
              "..                                         ...             ...             ...  \n",
              "751                           Wankhede Stadium   Nanda Kishore        O Nandan  \n",
              "752                  M. A. Chidambaram Stadium     Nigel Llong     Nitin Menon  \n",
              "753                           ACA-VDCA Stadium             NaN             NaN  \n",
              "754                           ACA-VDCA Stadium   Sundaram Ravi  Bruce Oxenford  \n",
              "755         Rajiv Gandhi Intl. Cricket Stadium     Nitin Menon       Ian Gould  \n",
              "\n",
              "[756 rows x 16 columns]"
            ]
          },
          "execution_count": 29,
          "metadata": {},
          "output_type": "execute_result"
        }
      ],
      "source": [
        "ipl_matches_df"
      ]
    },
    {
      "cell_type": "code",
      "execution_count": null,
      "metadata": {
        "id": "_tpEfZFr-4UN",
        "outputId": "24852776-b1a9-4386-cd3f-9ac4413f0f99"
      },
      "outputs": [
        {
          "name": "stdout",
          "output_type": "stream",
          "text": [
            "<class 'pandas.core.frame.DataFrame'>\n",
            "RangeIndex: 756 entries, 0 to 755\n",
            "Data columns (total 16 columns):\n",
            " #   Column           Non-Null Count  Dtype         \n",
            "---  ------           --------------  -----         \n",
            " 0   id               756 non-null    int64         \n",
            " 1   season           756 non-null    int64         \n",
            " 2   date             756 non-null    datetime64[ns]\n",
            " 3   team1            756 non-null    object        \n",
            " 4   team2            756 non-null    object        \n",
            " 5   toss_winner      756 non-null    object        \n",
            " 6   toss_decision    756 non-null    object        \n",
            " 7   result           756 non-null    object        \n",
            " 8   dl_applied       756 non-null    int64         \n",
            " 9   winner           752 non-null    object        \n",
            " 10  win_by_runs      756 non-null    int64         \n",
            " 11  win_by_wickets   756 non-null    int64         \n",
            " 12  player_of_match  752 non-null    object        \n",
            " 13  venue            756 non-null    object        \n",
            " 14  umpire1          754 non-null    object        \n",
            " 15  umpire2          754 non-null    object        \n",
            "dtypes: datetime64[ns](1), int64(5), object(10)\n",
            "memory usage: 94.6+ KB\n"
          ]
        }
      ],
      "source": [
        "# Let's Check our matches dataframe\n",
        "ipl_matches_df.info()"
      ]
    },
    {
      "cell_type": "markdown",
      "metadata": {
        "id": "1-0NSrbt-4UO"
      },
      "source": [
        "## Data preparation for Deliveries"
      ]
    },
    {
      "cell_type": "code",
      "execution_count": null,
      "metadata": {
        "id": "1-37gx0U-4UO",
        "outputId": "f7c01046-597b-40ac-ee3e-212b23f313cf"
      },
      "outputs": [
        {
          "data": {
            "text/html": [
              "<div>\n",
              "<style scoped>\n",
              "    .dataframe tbody tr th:only-of-type {\n",
              "        vertical-align: middle;\n",
              "    }\n",
              "\n",
              "    .dataframe tbody tr th {\n",
              "        vertical-align: top;\n",
              "    }\n",
              "\n",
              "    .dataframe thead th {\n",
              "        text-align: right;\n",
              "    }\n",
              "</style>\n",
              "<table border=\"1\" class=\"dataframe\">\n",
              "  <thead>\n",
              "    <tr style=\"text-align: right;\">\n",
              "      <th></th>\n",
              "      <th>match_id</th>\n",
              "      <th>inning</th>\n",
              "      <th>batting_team</th>\n",
              "      <th>bowling_team</th>\n",
              "      <th>over</th>\n",
              "      <th>ball</th>\n",
              "      <th>batsman</th>\n",
              "      <th>non_striker</th>\n",
              "      <th>bowler</th>\n",
              "      <th>is_super_over</th>\n",
              "      <th>...</th>\n",
              "      <th>bye_runs</th>\n",
              "      <th>legbye_runs</th>\n",
              "      <th>noball_runs</th>\n",
              "      <th>penalty_runs</th>\n",
              "      <th>batsman_runs</th>\n",
              "      <th>extra_runs</th>\n",
              "      <th>total_runs</th>\n",
              "      <th>player_dismissed</th>\n",
              "      <th>dismissal_kind</th>\n",
              "      <th>fielder</th>\n",
              "    </tr>\n",
              "  </thead>\n",
              "  <tbody>\n",
              "    <tr>\n",
              "      <th>0</th>\n",
              "      <td>1</td>\n",
              "      <td>1</td>\n",
              "      <td>Sunrisers Hyderabad</td>\n",
              "      <td>Royal Challengers Bangalore</td>\n",
              "      <td>1</td>\n",
              "      <td>1</td>\n",
              "      <td>DA Warner</td>\n",
              "      <td>S Dhawan</td>\n",
              "      <td>TS Mills</td>\n",
              "      <td>0</td>\n",
              "      <td>...</td>\n",
              "      <td>0</td>\n",
              "      <td>0</td>\n",
              "      <td>0</td>\n",
              "      <td>0</td>\n",
              "      <td>0</td>\n",
              "      <td>0</td>\n",
              "      <td>0</td>\n",
              "      <td>NaN</td>\n",
              "      <td>NaN</td>\n",
              "      <td>NaN</td>\n",
              "    </tr>\n",
              "    <tr>\n",
              "      <th>1</th>\n",
              "      <td>1</td>\n",
              "      <td>1</td>\n",
              "      <td>Sunrisers Hyderabad</td>\n",
              "      <td>Royal Challengers Bangalore</td>\n",
              "      <td>1</td>\n",
              "      <td>2</td>\n",
              "      <td>DA Warner</td>\n",
              "      <td>S Dhawan</td>\n",
              "      <td>TS Mills</td>\n",
              "      <td>0</td>\n",
              "      <td>...</td>\n",
              "      <td>0</td>\n",
              "      <td>0</td>\n",
              "      <td>0</td>\n",
              "      <td>0</td>\n",
              "      <td>0</td>\n",
              "      <td>0</td>\n",
              "      <td>0</td>\n",
              "      <td>NaN</td>\n",
              "      <td>NaN</td>\n",
              "      <td>NaN</td>\n",
              "    </tr>\n",
              "    <tr>\n",
              "      <th>2</th>\n",
              "      <td>1</td>\n",
              "      <td>1</td>\n",
              "      <td>Sunrisers Hyderabad</td>\n",
              "      <td>Royal Challengers Bangalore</td>\n",
              "      <td>1</td>\n",
              "      <td>3</td>\n",
              "      <td>DA Warner</td>\n",
              "      <td>S Dhawan</td>\n",
              "      <td>TS Mills</td>\n",
              "      <td>0</td>\n",
              "      <td>...</td>\n",
              "      <td>0</td>\n",
              "      <td>0</td>\n",
              "      <td>0</td>\n",
              "      <td>0</td>\n",
              "      <td>4</td>\n",
              "      <td>0</td>\n",
              "      <td>4</td>\n",
              "      <td>NaN</td>\n",
              "      <td>NaN</td>\n",
              "      <td>NaN</td>\n",
              "    </tr>\n",
              "    <tr>\n",
              "      <th>3</th>\n",
              "      <td>1</td>\n",
              "      <td>1</td>\n",
              "      <td>Sunrisers Hyderabad</td>\n",
              "      <td>Royal Challengers Bangalore</td>\n",
              "      <td>1</td>\n",
              "      <td>4</td>\n",
              "      <td>DA Warner</td>\n",
              "      <td>S Dhawan</td>\n",
              "      <td>TS Mills</td>\n",
              "      <td>0</td>\n",
              "      <td>...</td>\n",
              "      <td>0</td>\n",
              "      <td>0</td>\n",
              "      <td>0</td>\n",
              "      <td>0</td>\n",
              "      <td>0</td>\n",
              "      <td>0</td>\n",
              "      <td>0</td>\n",
              "      <td>NaN</td>\n",
              "      <td>NaN</td>\n",
              "      <td>NaN</td>\n",
              "    </tr>\n",
              "    <tr>\n",
              "      <th>4</th>\n",
              "      <td>1</td>\n",
              "      <td>1</td>\n",
              "      <td>Sunrisers Hyderabad</td>\n",
              "      <td>Royal Challengers Bangalore</td>\n",
              "      <td>1</td>\n",
              "      <td>5</td>\n",
              "      <td>DA Warner</td>\n",
              "      <td>S Dhawan</td>\n",
              "      <td>TS Mills</td>\n",
              "      <td>0</td>\n",
              "      <td>...</td>\n",
              "      <td>0</td>\n",
              "      <td>0</td>\n",
              "      <td>0</td>\n",
              "      <td>0</td>\n",
              "      <td>0</td>\n",
              "      <td>2</td>\n",
              "      <td>2</td>\n",
              "      <td>NaN</td>\n",
              "      <td>NaN</td>\n",
              "      <td>NaN</td>\n",
              "    </tr>\n",
              "    <tr>\n",
              "      <th>...</th>\n",
              "      <td>...</td>\n",
              "      <td>...</td>\n",
              "      <td>...</td>\n",
              "      <td>...</td>\n",
              "      <td>...</td>\n",
              "      <td>...</td>\n",
              "      <td>...</td>\n",
              "      <td>...</td>\n",
              "      <td>...</td>\n",
              "      <td>...</td>\n",
              "      <td>...</td>\n",
              "      <td>...</td>\n",
              "      <td>...</td>\n",
              "      <td>...</td>\n",
              "      <td>...</td>\n",
              "      <td>...</td>\n",
              "      <td>...</td>\n",
              "      <td>...</td>\n",
              "      <td>...</td>\n",
              "      <td>...</td>\n",
              "      <td>...</td>\n",
              "    </tr>\n",
              "    <tr>\n",
              "      <th>179073</th>\n",
              "      <td>11415</td>\n",
              "      <td>2</td>\n",
              "      <td>Chennai Super Kings</td>\n",
              "      <td>Mumbai Indians</td>\n",
              "      <td>20</td>\n",
              "      <td>2</td>\n",
              "      <td>RA Jadeja</td>\n",
              "      <td>SR Watson</td>\n",
              "      <td>SL Malinga</td>\n",
              "      <td>0</td>\n",
              "      <td>...</td>\n",
              "      <td>0</td>\n",
              "      <td>0</td>\n",
              "      <td>0</td>\n",
              "      <td>0</td>\n",
              "      <td>1</td>\n",
              "      <td>0</td>\n",
              "      <td>1</td>\n",
              "      <td>NaN</td>\n",
              "      <td>NaN</td>\n",
              "      <td>NaN</td>\n",
              "    </tr>\n",
              "    <tr>\n",
              "      <th>179074</th>\n",
              "      <td>11415</td>\n",
              "      <td>2</td>\n",
              "      <td>Chennai Super Kings</td>\n",
              "      <td>Mumbai Indians</td>\n",
              "      <td>20</td>\n",
              "      <td>3</td>\n",
              "      <td>SR Watson</td>\n",
              "      <td>RA Jadeja</td>\n",
              "      <td>SL Malinga</td>\n",
              "      <td>0</td>\n",
              "      <td>...</td>\n",
              "      <td>0</td>\n",
              "      <td>0</td>\n",
              "      <td>0</td>\n",
              "      <td>0</td>\n",
              "      <td>2</td>\n",
              "      <td>0</td>\n",
              "      <td>2</td>\n",
              "      <td>NaN</td>\n",
              "      <td>NaN</td>\n",
              "      <td>NaN</td>\n",
              "    </tr>\n",
              "    <tr>\n",
              "      <th>179075</th>\n",
              "      <td>11415</td>\n",
              "      <td>2</td>\n",
              "      <td>Chennai Super Kings</td>\n",
              "      <td>Mumbai Indians</td>\n",
              "      <td>20</td>\n",
              "      <td>4</td>\n",
              "      <td>SR Watson</td>\n",
              "      <td>RA Jadeja</td>\n",
              "      <td>SL Malinga</td>\n",
              "      <td>0</td>\n",
              "      <td>...</td>\n",
              "      <td>0</td>\n",
              "      <td>0</td>\n",
              "      <td>0</td>\n",
              "      <td>0</td>\n",
              "      <td>1</td>\n",
              "      <td>0</td>\n",
              "      <td>1</td>\n",
              "      <td>SR Watson</td>\n",
              "      <td>run out</td>\n",
              "      <td>KH Pandya</td>\n",
              "    </tr>\n",
              "    <tr>\n",
              "      <th>179076</th>\n",
              "      <td>11415</td>\n",
              "      <td>2</td>\n",
              "      <td>Chennai Super Kings</td>\n",
              "      <td>Mumbai Indians</td>\n",
              "      <td>20</td>\n",
              "      <td>5</td>\n",
              "      <td>SN Thakur</td>\n",
              "      <td>RA Jadeja</td>\n",
              "      <td>SL Malinga</td>\n",
              "      <td>0</td>\n",
              "      <td>...</td>\n",
              "      <td>0</td>\n",
              "      <td>0</td>\n",
              "      <td>0</td>\n",
              "      <td>0</td>\n",
              "      <td>2</td>\n",
              "      <td>0</td>\n",
              "      <td>2</td>\n",
              "      <td>NaN</td>\n",
              "      <td>NaN</td>\n",
              "      <td>NaN</td>\n",
              "    </tr>\n",
              "    <tr>\n",
              "      <th>179077</th>\n",
              "      <td>11415</td>\n",
              "      <td>2</td>\n",
              "      <td>Chennai Super Kings</td>\n",
              "      <td>Mumbai Indians</td>\n",
              "      <td>20</td>\n",
              "      <td>6</td>\n",
              "      <td>SN Thakur</td>\n",
              "      <td>RA Jadeja</td>\n",
              "      <td>SL Malinga</td>\n",
              "      <td>0</td>\n",
              "      <td>...</td>\n",
              "      <td>0</td>\n",
              "      <td>0</td>\n",
              "      <td>0</td>\n",
              "      <td>0</td>\n",
              "      <td>0</td>\n",
              "      <td>0</td>\n",
              "      <td>0</td>\n",
              "      <td>SN Thakur</td>\n",
              "      <td>lbw</td>\n",
              "      <td>NaN</td>\n",
              "    </tr>\n",
              "  </tbody>\n",
              "</table>\n",
              "<p>179078 rows × 21 columns</p>\n",
              "</div>"
            ],
            "text/plain": [
              "        match_id  inning         batting_team                 bowling_team  \\\n",
              "0              1       1  Sunrisers Hyderabad  Royal Challengers Bangalore   \n",
              "1              1       1  Sunrisers Hyderabad  Royal Challengers Bangalore   \n",
              "2              1       1  Sunrisers Hyderabad  Royal Challengers Bangalore   \n",
              "3              1       1  Sunrisers Hyderabad  Royal Challengers Bangalore   \n",
              "4              1       1  Sunrisers Hyderabad  Royal Challengers Bangalore   \n",
              "...          ...     ...                  ...                          ...   \n",
              "179073     11415       2  Chennai Super Kings               Mumbai Indians   \n",
              "179074     11415       2  Chennai Super Kings               Mumbai Indians   \n",
              "179075     11415       2  Chennai Super Kings               Mumbai Indians   \n",
              "179076     11415       2  Chennai Super Kings               Mumbai Indians   \n",
              "179077     11415       2  Chennai Super Kings               Mumbai Indians   \n",
              "\n",
              "        over  ball    batsman non_striker      bowler  is_super_over  ...  \\\n",
              "0          1     1  DA Warner    S Dhawan    TS Mills              0  ...   \n",
              "1          1     2  DA Warner    S Dhawan    TS Mills              0  ...   \n",
              "2          1     3  DA Warner    S Dhawan    TS Mills              0  ...   \n",
              "3          1     4  DA Warner    S Dhawan    TS Mills              0  ...   \n",
              "4          1     5  DA Warner    S Dhawan    TS Mills              0  ...   \n",
              "...      ...   ...        ...         ...         ...            ...  ...   \n",
              "179073    20     2  RA Jadeja   SR Watson  SL Malinga              0  ...   \n",
              "179074    20     3  SR Watson   RA Jadeja  SL Malinga              0  ...   \n",
              "179075    20     4  SR Watson   RA Jadeja  SL Malinga              0  ...   \n",
              "179076    20     5  SN Thakur   RA Jadeja  SL Malinga              0  ...   \n",
              "179077    20     6  SN Thakur   RA Jadeja  SL Malinga              0  ...   \n",
              "\n",
              "        bye_runs  legbye_runs  noball_runs  penalty_runs  batsman_runs  \\\n",
              "0              0            0            0             0             0   \n",
              "1              0            0            0             0             0   \n",
              "2              0            0            0             0             4   \n",
              "3              0            0            0             0             0   \n",
              "4              0            0            0             0             0   \n",
              "...          ...          ...          ...           ...           ...   \n",
              "179073         0            0            0             0             1   \n",
              "179074         0            0            0             0             2   \n",
              "179075         0            0            0             0             1   \n",
              "179076         0            0            0             0             2   \n",
              "179077         0            0            0             0             0   \n",
              "\n",
              "        extra_runs  total_runs  player_dismissed dismissal_kind    fielder  \n",
              "0                0           0               NaN            NaN        NaN  \n",
              "1                0           0               NaN            NaN        NaN  \n",
              "2                0           4               NaN            NaN        NaN  \n",
              "3                0           0               NaN            NaN        NaN  \n",
              "4                2           2               NaN            NaN        NaN  \n",
              "...            ...         ...               ...            ...        ...  \n",
              "179073           0           1               NaN            NaN        NaN  \n",
              "179074           0           2               NaN            NaN        NaN  \n",
              "179075           0           1         SR Watson        run out  KH Pandya  \n",
              "179076           0           2               NaN            NaN        NaN  \n",
              "179077           0           0         SN Thakur            lbw        NaN  \n",
              "\n",
              "[179078 rows x 21 columns]"
            ]
          },
          "execution_count": 32,
          "metadata": {},
          "output_type": "execute_result"
        }
      ],
      "source": [
        "deliveries_df = deliveries_df.copy()\n",
        "deliveries_df"
      ]
    },
    {
      "cell_type": "code",
      "execution_count": null,
      "metadata": {
        "id": "Dl8U8019-4UP",
        "outputId": "9aa1834e-919f-487a-86ef-15d7b0ba99f8"
      },
      "outputs": [
        {
          "data": {
            "text/plain": [
              "Index(['match_id', 'inning', 'batting_team', 'bowling_team', 'over', 'ball',\n",
              "       'batsman', 'non_striker', 'bowler', 'is_super_over', 'wide_runs',\n",
              "       'bye_runs', 'legbye_runs', 'noball_runs', 'penalty_runs',\n",
              "       'batsman_runs', 'extra_runs', 'total_runs', 'player_dismissed',\n",
              "       'dismissal_kind', 'fielder'],\n",
              "      dtype='object')"
            ]
          },
          "execution_count": 33,
          "metadata": {},
          "output_type": "execute_result"
        }
      ],
      "source": [
        "deliveries_df.columns"
      ]
    },
    {
      "cell_type": "code",
      "execution_count": null,
      "metadata": {
        "id": "vMiwQSaP-4UQ",
        "outputId": "5543c767-0a31-406f-a338-3f2e08e10e57"
      },
      "outputs": [
        {
          "name": "stdout",
          "output_type": "stream",
          "text": [
            "Number of rows having super_over as 1 : 81\n"
          ]
        }
      ],
      "source": [
        "# Let us first remove all the rows with is_super_over = 1 we can see there are only 81 rows with the specific condition.\n",
        "print(\"Number of rows having super_over as 1 :\",sum(deliveries_df.is_super_over == 1))"
      ]
    },
    {
      "cell_type": "markdown",
      "metadata": {
        "id": "pxro1kGe-4US"
      },
      "source": [
        "#### Removing Superover rows"
      ]
    },
    {
      "cell_type": "code",
      "execution_count": null,
      "metadata": {
        "id": "g7qik5we-4US"
      },
      "outputs": [],
      "source": [
        "deliveries_df = deliveries_df[deliveries_df.is_super_over != 1]"
      ]
    },
    {
      "cell_type": "code",
      "execution_count": null,
      "metadata": {
        "id": "iRolcnjg-4UT"
      },
      "outputs": [],
      "source": [
        "columns_to_remove = ['non_striker','wide_runs','is_super_over','bye_runs','legbye_runs','noball_runs','penalty_runs']"
      ]
    },
    {
      "cell_type": "code",
      "execution_count": null,
      "metadata": {
        "id": "O5Gl1ArV-4UT"
      },
      "outputs": [],
      "source": [
        "deliveries_df = deliveries_df.drop(columns_to_remove,axis=1)"
      ]
    },
    {
      "cell_type": "code",
      "execution_count": null,
      "metadata": {
        "id": "PwcLZs1u-4UU",
        "outputId": "3c2acd3a-4653-45d7-b30b-25b3ff88db61"
      },
      "outputs": [
        {
          "data": {
            "text/html": [
              "<div>\n",
              "<style scoped>\n",
              "    .dataframe tbody tr th:only-of-type {\n",
              "        vertical-align: middle;\n",
              "    }\n",
              "\n",
              "    .dataframe tbody tr th {\n",
              "        vertical-align: top;\n",
              "    }\n",
              "\n",
              "    .dataframe thead th {\n",
              "        text-align: right;\n",
              "    }\n",
              "</style>\n",
              "<table border=\"1\" class=\"dataframe\">\n",
              "  <thead>\n",
              "    <tr style=\"text-align: right;\">\n",
              "      <th></th>\n",
              "      <th>match_id</th>\n",
              "      <th>inning</th>\n",
              "      <th>batting_team</th>\n",
              "      <th>bowling_team</th>\n",
              "      <th>over</th>\n",
              "      <th>ball</th>\n",
              "      <th>batsman</th>\n",
              "      <th>bowler</th>\n",
              "      <th>batsman_runs</th>\n",
              "      <th>extra_runs</th>\n",
              "      <th>total_runs</th>\n",
              "      <th>player_dismissed</th>\n",
              "      <th>dismissal_kind</th>\n",
              "      <th>fielder</th>\n",
              "    </tr>\n",
              "  </thead>\n",
              "  <tbody>\n",
              "    <tr>\n",
              "      <th>167189</th>\n",
              "      <td>11146</td>\n",
              "      <td>5</td>\n",
              "      <td>Kolkata Knight Riders</td>\n",
              "      <td>Delhi Capitals</td>\n",
              "      <td>1</td>\n",
              "      <td>1</td>\n",
              "      <td>AD Russell</td>\n",
              "      <td>K Rabada</td>\n",
              "      <td>4</td>\n",
              "      <td>0</td>\n",
              "      <td>4</td>\n",
              "      <td>NaN</td>\n",
              "      <td>NaN</td>\n",
              "      <td>NaN</td>\n",
              "    </tr>\n",
              "    <tr>\n",
              "      <th>167190</th>\n",
              "      <td>11146</td>\n",
              "      <td>5</td>\n",
              "      <td>Kolkata Knight Riders</td>\n",
              "      <td>Delhi Capitals</td>\n",
              "      <td>1</td>\n",
              "      <td>2</td>\n",
              "      <td>AD Russell</td>\n",
              "      <td>K Rabada</td>\n",
              "      <td>0</td>\n",
              "      <td>0</td>\n",
              "      <td>0</td>\n",
              "      <td>NaN</td>\n",
              "      <td>NaN</td>\n",
              "      <td>NaN</td>\n",
              "    </tr>\n",
              "    <tr>\n",
              "      <th>167191</th>\n",
              "      <td>11146</td>\n",
              "      <td>5</td>\n",
              "      <td>Kolkata Knight Riders</td>\n",
              "      <td>Delhi Capitals</td>\n",
              "      <td>1</td>\n",
              "      <td>4</td>\n",
              "      <td>RV Uthappa</td>\n",
              "      <td>K Rabada</td>\n",
              "      <td>1</td>\n",
              "      <td>0</td>\n",
              "      <td>1</td>\n",
              "      <td>NaN</td>\n",
              "      <td>NaN</td>\n",
              "      <td>NaN</td>\n",
              "    </tr>\n",
              "    <tr>\n",
              "      <th>167192</th>\n",
              "      <td>11146</td>\n",
              "      <td>5</td>\n",
              "      <td>Kolkata Knight Riders</td>\n",
              "      <td>Delhi Capitals</td>\n",
              "      <td>1</td>\n",
              "      <td>5</td>\n",
              "      <td>KD Karthik</td>\n",
              "      <td>K Rabada</td>\n",
              "      <td>1</td>\n",
              "      <td>0</td>\n",
              "      <td>1</td>\n",
              "      <td>NaN</td>\n",
              "      <td>NaN</td>\n",
              "      <td>NaN</td>\n",
              "    </tr>\n",
              "    <tr>\n",
              "      <th>167193</th>\n",
              "      <td>11146</td>\n",
              "      <td>5</td>\n",
              "      <td>Kolkata Knight Riders</td>\n",
              "      <td>Delhi Capitals</td>\n",
              "      <td>1</td>\n",
              "      <td>6</td>\n",
              "      <td>RV Uthappa</td>\n",
              "      <td>K Rabada</td>\n",
              "      <td>1</td>\n",
              "      <td>0</td>\n",
              "      <td>1</td>\n",
              "      <td>NaN</td>\n",
              "      <td>NaN</td>\n",
              "      <td>NaN</td>\n",
              "    </tr>\n",
              "    <tr>\n",
              "      <th>176932</th>\n",
              "      <td>11342</td>\n",
              "      <td>5</td>\n",
              "      <td>Mumbai Indians</td>\n",
              "      <td>Sunrisers Hyderabad</td>\n",
              "      <td>1</td>\n",
              "      <td>1</td>\n",
              "      <td>HH Pandya</td>\n",
              "      <td>Rashid Khan</td>\n",
              "      <td>6</td>\n",
              "      <td>0</td>\n",
              "      <td>6</td>\n",
              "      <td>NaN</td>\n",
              "      <td>NaN</td>\n",
              "      <td>NaN</td>\n",
              "    </tr>\n",
              "    <tr>\n",
              "      <th>176933</th>\n",
              "      <td>11342</td>\n",
              "      <td>5</td>\n",
              "      <td>Mumbai Indians</td>\n",
              "      <td>Sunrisers Hyderabad</td>\n",
              "      <td>1</td>\n",
              "      <td>2</td>\n",
              "      <td>HH Pandya</td>\n",
              "      <td>Rashid Khan</td>\n",
              "      <td>1</td>\n",
              "      <td>0</td>\n",
              "      <td>1</td>\n",
              "      <td>NaN</td>\n",
              "      <td>NaN</td>\n",
              "      <td>NaN</td>\n",
              "    </tr>\n",
              "    <tr>\n",
              "      <th>176934</th>\n",
              "      <td>11342</td>\n",
              "      <td>5</td>\n",
              "      <td>Mumbai Indians</td>\n",
              "      <td>Sunrisers Hyderabad</td>\n",
              "      <td>1</td>\n",
              "      <td>3</td>\n",
              "      <td>KA Pollard</td>\n",
              "      <td>Rashid Khan</td>\n",
              "      <td>2</td>\n",
              "      <td>0</td>\n",
              "      <td>2</td>\n",
              "      <td>NaN</td>\n",
              "      <td>NaN</td>\n",
              "      <td>NaN</td>\n",
              "    </tr>\n",
              "  </tbody>\n",
              "</table>\n",
              "</div>"
            ],
            "text/plain": [
              "        match_id  inning           batting_team         bowling_team  over  \\\n",
              "167189     11146       5  Kolkata Knight Riders       Delhi Capitals     1   \n",
              "167190     11146       5  Kolkata Knight Riders       Delhi Capitals     1   \n",
              "167191     11146       5  Kolkata Knight Riders       Delhi Capitals     1   \n",
              "167192     11146       5  Kolkata Knight Riders       Delhi Capitals     1   \n",
              "167193     11146       5  Kolkata Knight Riders       Delhi Capitals     1   \n",
              "176932     11342       5         Mumbai Indians  Sunrisers Hyderabad     1   \n",
              "176933     11342       5         Mumbai Indians  Sunrisers Hyderabad     1   \n",
              "176934     11342       5         Mumbai Indians  Sunrisers Hyderabad     1   \n",
              "\n",
              "        ball     batsman       bowler  batsman_runs  extra_runs  total_runs  \\\n",
              "167189     1  AD Russell     K Rabada             4           0           4   \n",
              "167190     2  AD Russell     K Rabada             0           0           0   \n",
              "167191     4  RV Uthappa     K Rabada             1           0           1   \n",
              "167192     5  KD Karthik     K Rabada             1           0           1   \n",
              "167193     6  RV Uthappa     K Rabada             1           0           1   \n",
              "176932     1   HH Pandya  Rashid Khan             6           0           6   \n",
              "176933     2   HH Pandya  Rashid Khan             1           0           1   \n",
              "176934     3  KA Pollard  Rashid Khan             2           0           2   \n",
              "\n",
              "       player_dismissed dismissal_kind fielder  \n",
              "167189              NaN            NaN     NaN  \n",
              "167190              NaN            NaN     NaN  \n",
              "167191              NaN            NaN     NaN  \n",
              "167192              NaN            NaN     NaN  \n",
              "167193              NaN            NaN     NaN  \n",
              "176932              NaN            NaN     NaN  \n",
              "176933              NaN            NaN     NaN  \n",
              "176934              NaN            NaN     NaN  "
            ]
          },
          "execution_count": 42,
          "metadata": {},
          "output_type": "execute_result"
        }
      ],
      "source": [
        "deliveries_df[deliveries_df['inning'] == 5]"
      ]
    },
    {
      "cell_type": "code",
      "execution_count": null,
      "metadata": {
        "id": "zp5Rkp31-4UV",
        "outputId": "c7b73240-bed2-4739-a5f0-2f55c8b00575"
      },
      "outputs": [
        {
          "data": {
            "text/html": [
              "<div>\n",
              "<style scoped>\n",
              "    .dataframe tbody tr th:only-of-type {\n",
              "        vertical-align: middle;\n",
              "    }\n",
              "\n",
              "    .dataframe tbody tr th {\n",
              "        vertical-align: top;\n",
              "    }\n",
              "\n",
              "    .dataframe thead th {\n",
              "        text-align: right;\n",
              "    }\n",
              "</style>\n",
              "<table border=\"1\" class=\"dataframe\">\n",
              "  <thead>\n",
              "    <tr style=\"text-align: right;\">\n",
              "      <th></th>\n",
              "      <th>match_id</th>\n",
              "      <th>inning</th>\n",
              "      <th>batting_team</th>\n",
              "      <th>bowling_team</th>\n",
              "      <th>over</th>\n",
              "      <th>ball</th>\n",
              "      <th>batsman</th>\n",
              "      <th>bowler</th>\n",
              "      <th>batsman_runs</th>\n",
              "      <th>extra_runs</th>\n",
              "      <th>total_runs</th>\n",
              "      <th>player_dismissed</th>\n",
              "      <th>dismissal_kind</th>\n",
              "      <th>fielder</th>\n",
              "    </tr>\n",
              "  </thead>\n",
              "  <tbody>\n",
              "    <tr>\n",
              "      <th>167184</th>\n",
              "      <td>11146</td>\n",
              "      <td>3</td>\n",
              "      <td>Delhi Capitals</td>\n",
              "      <td>Kolkata Knight Riders</td>\n",
              "      <td>1</td>\n",
              "      <td>1</td>\n",
              "      <td>RR Pant</td>\n",
              "      <td>P Krishna</td>\n",
              "      <td>1</td>\n",
              "      <td>0</td>\n",
              "      <td>1</td>\n",
              "      <td>NaN</td>\n",
              "      <td>NaN</td>\n",
              "      <td>NaN</td>\n",
              "    </tr>\n",
              "    <tr>\n",
              "      <th>167185</th>\n",
              "      <td>11146</td>\n",
              "      <td>3</td>\n",
              "      <td>Delhi Capitals</td>\n",
              "      <td>Kolkata Knight Riders</td>\n",
              "      <td>1</td>\n",
              "      <td>2</td>\n",
              "      <td>SS Iyer</td>\n",
              "      <td>P Krishna</td>\n",
              "      <td>4</td>\n",
              "      <td>0</td>\n",
              "      <td>4</td>\n",
              "      <td>NaN</td>\n",
              "      <td>NaN</td>\n",
              "      <td>NaN</td>\n",
              "    </tr>\n",
              "    <tr>\n",
              "      <th>167186</th>\n",
              "      <td>11146</td>\n",
              "      <td>3</td>\n",
              "      <td>Delhi Capitals</td>\n",
              "      <td>Kolkata Knight Riders</td>\n",
              "      <td>1</td>\n",
              "      <td>4</td>\n",
              "      <td>RR Pant</td>\n",
              "      <td>P Krishna</td>\n",
              "      <td>2</td>\n",
              "      <td>0</td>\n",
              "      <td>2</td>\n",
              "      <td>NaN</td>\n",
              "      <td>NaN</td>\n",
              "      <td>NaN</td>\n",
              "    </tr>\n",
              "    <tr>\n",
              "      <th>167187</th>\n",
              "      <td>11146</td>\n",
              "      <td>3</td>\n",
              "      <td>Delhi Capitals</td>\n",
              "      <td>Kolkata Knight Riders</td>\n",
              "      <td>1</td>\n",
              "      <td>5</td>\n",
              "      <td>RR Pant</td>\n",
              "      <td>P Krishna</td>\n",
              "      <td>2</td>\n",
              "      <td>0</td>\n",
              "      <td>2</td>\n",
              "      <td>NaN</td>\n",
              "      <td>NaN</td>\n",
              "      <td>NaN</td>\n",
              "    </tr>\n",
              "    <tr>\n",
              "      <th>167188</th>\n",
              "      <td>11146</td>\n",
              "      <td>3</td>\n",
              "      <td>Delhi Capitals</td>\n",
              "      <td>Kolkata Knight Riders</td>\n",
              "      <td>1</td>\n",
              "      <td>6</td>\n",
              "      <td>RR Pant</td>\n",
              "      <td>P Krishna</td>\n",
              "      <td>1</td>\n",
              "      <td>0</td>\n",
              "      <td>1</td>\n",
              "      <td>NaN</td>\n",
              "      <td>NaN</td>\n",
              "      <td>NaN</td>\n",
              "    </tr>\n",
              "    <tr>\n",
              "      <th>176930</th>\n",
              "      <td>11342</td>\n",
              "      <td>3</td>\n",
              "      <td>Sunrisers Hyderabad</td>\n",
              "      <td>Mumbai Indians</td>\n",
              "      <td>1</td>\n",
              "      <td>2</td>\n",
              "      <td>MJ Guptill</td>\n",
              "      <td>JJ Bumrah</td>\n",
              "      <td>1</td>\n",
              "      <td>0</td>\n",
              "      <td>1</td>\n",
              "      <td>NaN</td>\n",
              "      <td>NaN</td>\n",
              "      <td>NaN</td>\n",
              "    </tr>\n",
              "    <tr>\n",
              "      <th>176931</th>\n",
              "      <td>11342</td>\n",
              "      <td>3</td>\n",
              "      <td>Sunrisers Hyderabad</td>\n",
              "      <td>Mumbai Indians</td>\n",
              "      <td>1</td>\n",
              "      <td>3</td>\n",
              "      <td>Mohammad Nabi</td>\n",
              "      <td>JJ Bumrah</td>\n",
              "      <td>6</td>\n",
              "      <td>0</td>\n",
              "      <td>6</td>\n",
              "      <td>NaN</td>\n",
              "      <td>NaN</td>\n",
              "      <td>NaN</td>\n",
              "    </tr>\n",
              "  </tbody>\n",
              "</table>\n",
              "</div>"
            ],
            "text/plain": [
              "        match_id  inning         batting_team           bowling_team  over  \\\n",
              "167184     11146       3       Delhi Capitals  Kolkata Knight Riders     1   \n",
              "167185     11146       3       Delhi Capitals  Kolkata Knight Riders     1   \n",
              "167186     11146       3       Delhi Capitals  Kolkata Knight Riders     1   \n",
              "167187     11146       3       Delhi Capitals  Kolkata Knight Riders     1   \n",
              "167188     11146       3       Delhi Capitals  Kolkata Knight Riders     1   \n",
              "176930     11342       3  Sunrisers Hyderabad         Mumbai Indians     1   \n",
              "176931     11342       3  Sunrisers Hyderabad         Mumbai Indians     1   \n",
              "\n",
              "        ball        batsman     bowler  batsman_runs  extra_runs  total_runs  \\\n",
              "167184     1        RR Pant  P Krishna             1           0           1   \n",
              "167185     2        SS Iyer  P Krishna             4           0           4   \n",
              "167186     4        RR Pant  P Krishna             2           0           2   \n",
              "167187     5        RR Pant  P Krishna             2           0           2   \n",
              "167188     6        RR Pant  P Krishna             1           0           1   \n",
              "176930     2     MJ Guptill  JJ Bumrah             1           0           1   \n",
              "176931     3  Mohammad Nabi  JJ Bumrah             6           0           6   \n",
              "\n",
              "       player_dismissed dismissal_kind fielder  \n",
              "167184              NaN            NaN     NaN  \n",
              "167185              NaN            NaN     NaN  \n",
              "167186              NaN            NaN     NaN  \n",
              "167187              NaN            NaN     NaN  \n",
              "167188              NaN            NaN     NaN  \n",
              "176930              NaN            NaN     NaN  \n",
              "176931              NaN            NaN     NaN  "
            ]
          },
          "execution_count": 43,
          "metadata": {},
          "output_type": "execute_result"
        }
      ],
      "source": [
        "deliveries_df[deliveries_df['inning'] == 3]"
      ]
    },
    {
      "cell_type": "markdown",
      "metadata": {
        "id": "-An_ck17-4UW"
      },
      "source": [
        "As we see the innings 3 and 5 may be error in data entry and there are too less rows having innings as 3 and 5, we will be removing t"
      ]
    },
    {
      "cell_type": "code",
      "execution_count": null,
      "metadata": {
        "id": "b5obOg_X-4UX"
      },
      "outputs": [],
      "source": [
        "deliveries_df = deliveries_df[deliveries_df['inning'] != 5]\n",
        "deliveries_df = deliveries_df[deliveries_df['inning'] != 3]"
      ]
    },
    {
      "cell_type": "code",
      "execution_count": null,
      "metadata": {
        "id": "IXeiXS_4-4UX",
        "outputId": "2b178178-9191-449a-c569-a24a67597708"
      },
      "outputs": [
        {
          "data": {
            "text/plain": [
              "array([1, 2])"
            ]
          },
          "execution_count": 45,
          "metadata": {},
          "output_type": "execute_result"
        }
      ],
      "source": [
        "# Checking the Unique values in inning column\n",
        "deliveries_df.inning.unique()"
      ]
    },
    {
      "cell_type": "code",
      "execution_count": null,
      "metadata": {
        "id": "dP5Um8Wf-4UY"
      },
      "outputs": [],
      "source": [
        "# # For easy interpretation of our data lets add the season column in our deliveries_df dataset from ipl_matches_df\n",
        "# # But we can see there are no common column names while the column id and match_id matches respectively\n",
        "# # Lets rename the match_id column as id first to merge the two dataset\n",
        "# deliveries_df.rename(columns = {'match_id':'id'},inplace=True)\n",
        "deliveries_df"
      ]
    },
    {
      "cell_type": "code",
      "execution_count": null,
      "metadata": {
        "id": "J3001vjm-4UY"
      },
      "outputs": [],
      "source": [
        "deliveries_df = pd.merge(deliveries_df,ipl_matches_df[{'id','season'}],left_on = 'match_id',right_on='id')"
      ]
    },
    {
      "cell_type": "code",
      "execution_count": null,
      "metadata": {
        "id": "A7PPIRfb-4UZ",
        "outputId": "31fe3701-9299-4f70-eb26-d83b352ebad7"
      },
      "outputs": [
        {
          "data": {
            "text/html": [
              "<div>\n",
              "<style scoped>\n",
              "    .dataframe tbody tr th:only-of-type {\n",
              "        vertical-align: middle;\n",
              "    }\n",
              "\n",
              "    .dataframe tbody tr th {\n",
              "        vertical-align: top;\n",
              "    }\n",
              "\n",
              "    .dataframe thead th {\n",
              "        text-align: right;\n",
              "    }\n",
              "</style>\n",
              "<table border=\"1\" class=\"dataframe\">\n",
              "  <thead>\n",
              "    <tr style=\"text-align: right;\">\n",
              "      <th></th>\n",
              "      <th>match_id</th>\n",
              "      <th>inning</th>\n",
              "      <th>batting_team</th>\n",
              "      <th>bowling_team</th>\n",
              "      <th>over</th>\n",
              "      <th>ball</th>\n",
              "      <th>batsman</th>\n",
              "      <th>bowler</th>\n",
              "      <th>batsman_runs</th>\n",
              "      <th>extra_runs</th>\n",
              "      <th>total_runs</th>\n",
              "      <th>player_dismissed</th>\n",
              "      <th>dismissal_kind</th>\n",
              "      <th>fielder</th>\n",
              "      <th>season</th>\n",
              "    </tr>\n",
              "  </thead>\n",
              "  <tbody>\n",
              "    <tr>\n",
              "      <th>0</th>\n",
              "      <td>1</td>\n",
              "      <td>1</td>\n",
              "      <td>Sunrisers Hyderabad</td>\n",
              "      <td>Royal Challengers Bangalore</td>\n",
              "      <td>1</td>\n",
              "      <td>1</td>\n",
              "      <td>DA Warner</td>\n",
              "      <td>TS Mills</td>\n",
              "      <td>0</td>\n",
              "      <td>0</td>\n",
              "      <td>0</td>\n",
              "      <td>NaN</td>\n",
              "      <td>NaN</td>\n",
              "      <td>NaN</td>\n",
              "      <td>2017</td>\n",
              "    </tr>\n",
              "    <tr>\n",
              "      <th>1</th>\n",
              "      <td>1</td>\n",
              "      <td>1</td>\n",
              "      <td>Sunrisers Hyderabad</td>\n",
              "      <td>Royal Challengers Bangalore</td>\n",
              "      <td>1</td>\n",
              "      <td>2</td>\n",
              "      <td>DA Warner</td>\n",
              "      <td>TS Mills</td>\n",
              "      <td>0</td>\n",
              "      <td>0</td>\n",
              "      <td>0</td>\n",
              "      <td>NaN</td>\n",
              "      <td>NaN</td>\n",
              "      <td>NaN</td>\n",
              "      <td>2017</td>\n",
              "    </tr>\n",
              "    <tr>\n",
              "      <th>2</th>\n",
              "      <td>1</td>\n",
              "      <td>1</td>\n",
              "      <td>Sunrisers Hyderabad</td>\n",
              "      <td>Royal Challengers Bangalore</td>\n",
              "      <td>1</td>\n",
              "      <td>3</td>\n",
              "      <td>DA Warner</td>\n",
              "      <td>TS Mills</td>\n",
              "      <td>4</td>\n",
              "      <td>0</td>\n",
              "      <td>4</td>\n",
              "      <td>NaN</td>\n",
              "      <td>NaN</td>\n",
              "      <td>NaN</td>\n",
              "      <td>2017</td>\n",
              "    </tr>\n",
              "    <tr>\n",
              "      <th>3</th>\n",
              "      <td>1</td>\n",
              "      <td>1</td>\n",
              "      <td>Sunrisers Hyderabad</td>\n",
              "      <td>Royal Challengers Bangalore</td>\n",
              "      <td>1</td>\n",
              "      <td>4</td>\n",
              "      <td>DA Warner</td>\n",
              "      <td>TS Mills</td>\n",
              "      <td>0</td>\n",
              "      <td>0</td>\n",
              "      <td>0</td>\n",
              "      <td>NaN</td>\n",
              "      <td>NaN</td>\n",
              "      <td>NaN</td>\n",
              "      <td>2017</td>\n",
              "    </tr>\n",
              "    <tr>\n",
              "      <th>4</th>\n",
              "      <td>1</td>\n",
              "      <td>1</td>\n",
              "      <td>Sunrisers Hyderabad</td>\n",
              "      <td>Royal Challengers Bangalore</td>\n",
              "      <td>1</td>\n",
              "      <td>5</td>\n",
              "      <td>DA Warner</td>\n",
              "      <td>TS Mills</td>\n",
              "      <td>0</td>\n",
              "      <td>2</td>\n",
              "      <td>2</td>\n",
              "      <td>NaN</td>\n",
              "      <td>NaN</td>\n",
              "      <td>NaN</td>\n",
              "      <td>2017</td>\n",
              "    </tr>\n",
              "    <tr>\n",
              "      <th>...</th>\n",
              "      <td>...</td>\n",
              "      <td>...</td>\n",
              "      <td>...</td>\n",
              "      <td>...</td>\n",
              "      <td>...</td>\n",
              "      <td>...</td>\n",
              "      <td>...</td>\n",
              "      <td>...</td>\n",
              "      <td>...</td>\n",
              "      <td>...</td>\n",
              "      <td>...</td>\n",
              "      <td>...</td>\n",
              "      <td>...</td>\n",
              "      <td>...</td>\n",
              "      <td>...</td>\n",
              "    </tr>\n",
              "    <tr>\n",
              "      <th>178977</th>\n",
              "      <td>11415</td>\n",
              "      <td>2</td>\n",
              "      <td>Chennai Super Kings</td>\n",
              "      <td>Mumbai Indians</td>\n",
              "      <td>20</td>\n",
              "      <td>2</td>\n",
              "      <td>RA Jadeja</td>\n",
              "      <td>SL Malinga</td>\n",
              "      <td>1</td>\n",
              "      <td>0</td>\n",
              "      <td>1</td>\n",
              "      <td>NaN</td>\n",
              "      <td>NaN</td>\n",
              "      <td>NaN</td>\n",
              "      <td>2019</td>\n",
              "    </tr>\n",
              "    <tr>\n",
              "      <th>178978</th>\n",
              "      <td>11415</td>\n",
              "      <td>2</td>\n",
              "      <td>Chennai Super Kings</td>\n",
              "      <td>Mumbai Indians</td>\n",
              "      <td>20</td>\n",
              "      <td>3</td>\n",
              "      <td>SR Watson</td>\n",
              "      <td>SL Malinga</td>\n",
              "      <td>2</td>\n",
              "      <td>0</td>\n",
              "      <td>2</td>\n",
              "      <td>NaN</td>\n",
              "      <td>NaN</td>\n",
              "      <td>NaN</td>\n",
              "      <td>2019</td>\n",
              "    </tr>\n",
              "    <tr>\n",
              "      <th>178979</th>\n",
              "      <td>11415</td>\n",
              "      <td>2</td>\n",
              "      <td>Chennai Super Kings</td>\n",
              "      <td>Mumbai Indians</td>\n",
              "      <td>20</td>\n",
              "      <td>4</td>\n",
              "      <td>SR Watson</td>\n",
              "      <td>SL Malinga</td>\n",
              "      <td>1</td>\n",
              "      <td>0</td>\n",
              "      <td>1</td>\n",
              "      <td>SR Watson</td>\n",
              "      <td>run out</td>\n",
              "      <td>KH Pandya</td>\n",
              "      <td>2019</td>\n",
              "    </tr>\n",
              "    <tr>\n",
              "      <th>178980</th>\n",
              "      <td>11415</td>\n",
              "      <td>2</td>\n",
              "      <td>Chennai Super Kings</td>\n",
              "      <td>Mumbai Indians</td>\n",
              "      <td>20</td>\n",
              "      <td>5</td>\n",
              "      <td>SN Thakur</td>\n",
              "      <td>SL Malinga</td>\n",
              "      <td>2</td>\n",
              "      <td>0</td>\n",
              "      <td>2</td>\n",
              "      <td>NaN</td>\n",
              "      <td>NaN</td>\n",
              "      <td>NaN</td>\n",
              "      <td>2019</td>\n",
              "    </tr>\n",
              "    <tr>\n",
              "      <th>178981</th>\n",
              "      <td>11415</td>\n",
              "      <td>2</td>\n",
              "      <td>Chennai Super Kings</td>\n",
              "      <td>Mumbai Indians</td>\n",
              "      <td>20</td>\n",
              "      <td>6</td>\n",
              "      <td>SN Thakur</td>\n",
              "      <td>SL Malinga</td>\n",
              "      <td>0</td>\n",
              "      <td>0</td>\n",
              "      <td>0</td>\n",
              "      <td>SN Thakur</td>\n",
              "      <td>lbw</td>\n",
              "      <td>NaN</td>\n",
              "      <td>2019</td>\n",
              "    </tr>\n",
              "  </tbody>\n",
              "</table>\n",
              "<p>178982 rows × 15 columns</p>\n",
              "</div>"
            ],
            "text/plain": [
              "        match_id  inning         batting_team                 bowling_team  \\\n",
              "0              1       1  Sunrisers Hyderabad  Royal Challengers Bangalore   \n",
              "1              1       1  Sunrisers Hyderabad  Royal Challengers Bangalore   \n",
              "2              1       1  Sunrisers Hyderabad  Royal Challengers Bangalore   \n",
              "3              1       1  Sunrisers Hyderabad  Royal Challengers Bangalore   \n",
              "4              1       1  Sunrisers Hyderabad  Royal Challengers Bangalore   \n",
              "...          ...     ...                  ...                          ...   \n",
              "178977     11415       2  Chennai Super Kings               Mumbai Indians   \n",
              "178978     11415       2  Chennai Super Kings               Mumbai Indians   \n",
              "178979     11415       2  Chennai Super Kings               Mumbai Indians   \n",
              "178980     11415       2  Chennai Super Kings               Mumbai Indians   \n",
              "178981     11415       2  Chennai Super Kings               Mumbai Indians   \n",
              "\n",
              "        over  ball    batsman      bowler  batsman_runs  extra_runs  \\\n",
              "0          1     1  DA Warner    TS Mills             0           0   \n",
              "1          1     2  DA Warner    TS Mills             0           0   \n",
              "2          1     3  DA Warner    TS Mills             4           0   \n",
              "3          1     4  DA Warner    TS Mills             0           0   \n",
              "4          1     5  DA Warner    TS Mills             0           2   \n",
              "...      ...   ...        ...         ...           ...         ...   \n",
              "178977    20     2  RA Jadeja  SL Malinga             1           0   \n",
              "178978    20     3  SR Watson  SL Malinga             2           0   \n",
              "178979    20     4  SR Watson  SL Malinga             1           0   \n",
              "178980    20     5  SN Thakur  SL Malinga             2           0   \n",
              "178981    20     6  SN Thakur  SL Malinga             0           0   \n",
              "\n",
              "        total_runs player_dismissed dismissal_kind    fielder  season  \n",
              "0                0              NaN            NaN        NaN    2017  \n",
              "1                0              NaN            NaN        NaN    2017  \n",
              "2                4              NaN            NaN        NaN    2017  \n",
              "3                0              NaN            NaN        NaN    2017  \n",
              "4                2              NaN            NaN        NaN    2017  \n",
              "...            ...              ...            ...        ...     ...  \n",
              "178977           1              NaN            NaN        NaN    2019  \n",
              "178978           2              NaN            NaN        NaN    2019  \n",
              "178979           1        SR Watson        run out  KH Pandya    2019  \n",
              "178980           2              NaN            NaN        NaN    2019  \n",
              "178981           0        SN Thakur            lbw        NaN    2019  \n",
              "\n",
              "[178982 rows x 15 columns]"
            ]
          },
          "execution_count": 47,
          "metadata": {},
          "output_type": "execute_result"
        }
      ],
      "source": [
        "deliveries_df.drop('id', inplace=True, axis=1)\n",
        "deliveries_df"
      ]
    },
    {
      "cell_type": "markdown",
      "metadata": {
        "id": "3l1p-lpM-4UZ"
      },
      "source": [
        " Data Frame having total runs per team per innings."
      ]
    },
    {
      "cell_type": "code",
      "execution_count": null,
      "metadata": {
        "id": "fFSPmFVl-4Ua",
        "outputId": "17f0b4d4-8e15-49a6-c7bc-c81309d9e3b8"
      },
      "outputs": [
        {
          "data": {
            "text/plain": [
              "array([    1,     2,     3,     4,     5,     6,     7,     8,     9,\n",
              "          10,    11,    12,    13,    14,    15,    16,    17,    18,\n",
              "          19,    20,    21,    22,    23,    24,    25,    26,    27,\n",
              "          28,    29,    30,    31,    32,    33,    34,    35,    36,\n",
              "          37,    38,    39,    40,    41,    42,    43,    44,    45,\n",
              "          46,    47,    48,    49,    50,    51,    52,    53,    54,\n",
              "          55,    56,    57,    58,    59,    60,    61,    62,    63,\n",
              "          64,    65,    66,    67,    68,    69,    70,    71,    72,\n",
              "          73,    74,    75,    76,    77,    78,    79,    80,    81,\n",
              "          82,    83,    84,    85,    86,    87,    88,    89,    90,\n",
              "          91,    92,    93,    94,    95,    96,    97,    98,    99,\n",
              "         100,   101,   102,   103,   104,   105,   106,   107,   108,\n",
              "         109,   110,   111,   112,   113,   114,   115,   116,   117,\n",
              "         118,   119,   120,   121,   122,   123,   124,   125,   126,\n",
              "         127,   128,   129,   130,   131,   132,   133,   134,   135,\n",
              "         136,   137,   138,   139,   140,   141,   142,   143,   144,\n",
              "         145,   146,   147,   148,   149,   150,   151,   152,   153,\n",
              "         154,   155,   156,   157,   158,   159,   160,   161,   162,\n",
              "         163,   164,   165,   166,   167,   168,   169,   170,   171,\n",
              "         172,   173,   174,   175,   176,   177,   178,   179,   180,\n",
              "         181,   182,   183,   184,   185,   186,   187,   188,   189,\n",
              "         190,   191,   192,   193,   194,   195,   196,   197,   198,\n",
              "         199,   200,   201,   202,   203,   204,   205,   206,   207,\n",
              "         208,   209,   210,   211,   212,   213,   214,   215,   216,\n",
              "         217,   218,   219,   220,   221,   222,   223,   224,   225,\n",
              "         226,   227,   228,   229,   230,   231,   232,   233,   234,\n",
              "         235,   236,   237,   238,   239,   240,   241,   242,   243,\n",
              "         244,   245,   246,   247,   248,   249,   250,   251,   252,\n",
              "         253,   254,   255,   256,   257,   258,   259,   260,   261,\n",
              "         262,   263,   264,   265,   266,   267,   268,   269,   270,\n",
              "         271,   272,   273,   274,   275,   276,   277,   278,   279,\n",
              "         280,   281,   282,   283,   284,   285,   286,   287,   288,\n",
              "         289,   290,   291,   292,   293,   294,   295,   296,   297,\n",
              "         298,   299,   300,   301,   302,   303,   304,   305,   306,\n",
              "         307,   308,   309,   310,   311,   312,   313,   314,   315,\n",
              "         316,   317,   318,   319,   320,   321,   322,   323,   324,\n",
              "         325,   326,   327,   328,   329,   330,   331,   332,   333,\n",
              "         334,   335,   336,   337,   338,   339,   340,   341,   342,\n",
              "         343,   344,   345,   346,   347,   348,   349,   350,   351,\n",
              "         352,   353,   354,   355,   356,   357,   358,   359,   360,\n",
              "         361,   362,   363,   364,   365,   366,   367,   368,   369,\n",
              "         370,   371,   372,   373,   374,   375,   376,   377,   378,\n",
              "         379,   380,   381,   382,   383,   384,   385,   386,   387,\n",
              "         388,   389,   390,   391,   392,   393,   394,   395,   396,\n",
              "         397,   398,   399,   400,   401,   402,   403,   404,   405,\n",
              "         406,   407,   408,   409,   410,   411,   412,   413,   414,\n",
              "         415,   416,   417,   418,   419,   420,   421,   422,   423,\n",
              "         424,   425,   426,   427,   428,   429,   430,   431,   432,\n",
              "         433,   434,   435,   436,   437,   438,   439,   440,   441,\n",
              "         442,   443,   444,   445,   446,   447,   448,   449,   450,\n",
              "         451,   452,   453,   454,   455,   456,   457,   458,   459,\n",
              "         460,   461,   462,   463,   464,   465,   466,   467,   468,\n",
              "         469,   470,   471,   472,   473,   474,   475,   476,   477,\n",
              "         478,   479,   480,   481,   482,   483,   484,   485,   486,\n",
              "         487,   488,   489,   490,   491,   492,   493,   494,   495,\n",
              "         496,   497,   498,   499,   500,   501,   502,   503,   504,\n",
              "         505,   506,   507,   508,   509,   510,   511,   512,   513,\n",
              "         514,   515,   516,   517,   518,   519,   520,   521,   522,\n",
              "         523,   524,   525,   526,   527,   528,   529,   530,   531,\n",
              "         532,   533,   534,   535,   536,   537,   538,   539,   540,\n",
              "         541,   542,   543,   544,   545,   546,   547,   548,   549,\n",
              "         550,   551,   552,   553,   554,   555,   556,   557,   558,\n",
              "         559,   560,   561,   562,   563,   564,   565,   566,   567,\n",
              "         568,   569,   570,   571,   572,   573,   574,   575,   576,\n",
              "         577,   578,   579,   580,   581,   582,   583,   584,   585,\n",
              "         586,   587,   588,   589,   590,   591,   592,   593,   594,\n",
              "         595,   596,   597,   598,   599,   600,   601,   602,   603,\n",
              "         604,   605,   606,   607,   608,   609,   610,   611,   612,\n",
              "         613,   614,   615,   616,   617,   618,   619,   620,   621,\n",
              "         622,   623,   624,   625,   626,   627,   628,   629,   630,\n",
              "         631,   632,   633,   634,   635,   636,  7894,  7895,  7896,\n",
              "        7897,  7898,  7899,  7900,  7901,  7902,  7903,  7904,  7905,\n",
              "        7906,  7907,  7908,  7909,  7910,  7911,  7912,  7913,  7914,\n",
              "        7915,  7916,  7917,  7918,  7919,  7920,  7921,  7922,  7923,\n",
              "        7924,  7925,  7926,  7927,  7928,  7929,  7930,  7931,  7932,\n",
              "        7933,  7934,  7935,  7936,  7937,  7938,  7939,  7940,  7941,\n",
              "        7942,  7943,  7944,  7945,  7946,  7947,  7948,  7949,  7950,\n",
              "        7951,  7952,  7953, 11137, 11138, 11139, 11140, 11141, 11142,\n",
              "       11143, 11144, 11145, 11146, 11147, 11148, 11149, 11150, 11151,\n",
              "       11152, 11153, 11309, 11310, 11311, 11312, 11313, 11314, 11315,\n",
              "       11316, 11317, 11318, 11319, 11320, 11321, 11322, 11323, 11324,\n",
              "       11325, 11326, 11327, 11328, 11329, 11330, 11331, 11332, 11333,\n",
              "       11334, 11335, 11336, 11337, 11338, 11339, 11340, 11341, 11342,\n",
              "       11343, 11344, 11345, 11346, 11347, 11412, 11413, 11414, 11415])"
            ]
          },
          "execution_count": 49,
          "metadata": {},
          "output_type": "execute_result"
        }
      ],
      "source": [
        "unique_matches = deliveries_df.match_id.unique()\n",
        "unique_matches"
      ]
    },
    {
      "cell_type": "code",
      "execution_count": null,
      "metadata": {
        "id": "IP80bQMS-4Ua"
      },
      "outputs": [],
      "source": [
        "class Process():\n",
        "    team_runs_df = pd.DataFrame(columns = ['match_id','inning','team_name','extra_runs','total_runs','players_dismissed'])\n",
        "    def __init__(self,unique_matches,deliveries_df):\n",
        "        self.unique = unique_matches\n",
        "        self.df = deliveries_df\n",
        "        self.create_df()\n",
        "\n",
        "    def create_df(self):\n",
        "        for m_id in self.unique:\n",
        "            if m_id in self.team_runs_df[\"match_id\"]:\n",
        "                temp = self.team_runs_df[self.team_runs_df[\"match_id\"] == m_id].inning\n",
        "                if 1 in temp and 0 in temp:\n",
        "                    continue\n",
        "            match_df = self.df[self.df['match_id'] == m_id].copy()\n",
        "            team1 = match_df[match_df['inning'] == 1].copy()\n",
        "            team2 = match_df[match_df['inning'] == 2].copy()\n",
        "            i=0\n",
        "            for team in team1,team2:\n",
        "                runs = team['total_runs'].sum()\n",
        "                wickets = team['player_dismissed'].notnull().sum()\n",
        "                extras = team['extra_runs'].sum()\n",
        "                te = team.batting_team.unique()\n",
        "                if len(te) > 0:\n",
        "                    te = te[0]\n",
        "                df2 = {'match_id': m_id,'inning' : i+1,'team_name' : te,'extra_runs' : extras ,'total_runs' : runs,'players_dismissed' : wickets}\n",
        "                i+=1\n",
        "                self.team_runs_df = self.team_runs_df.append(df2,ignore_index = True)\n",
        "\n",
        "    def get_team_stats(self):\n",
        "        return self.team_runs_df"
      ]
    },
    {
      "cell_type": "code",
      "execution_count": null,
      "metadata": {
        "id": "GOXCaAN7-4Ua"
      },
      "outputs": [],
      "source": [
        "obj = Process(unique_matches,deliveries_df)\n",
        "team_stats_df = obj.get_team_stats()"
      ]
    },
    {
      "cell_type": "code",
      "execution_count": null,
      "metadata": {
        "id": "ZLintmky-4Ub",
        "outputId": "1b2852d5-d3f1-48b6-9f5f-83e05f8944bc"
      },
      "outputs": [
        {
          "data": {
            "text/html": [
              "<div>\n",
              "<style scoped>\n",
              "    .dataframe tbody tr th:only-of-type {\n",
              "        vertical-align: middle;\n",
              "    }\n",
              "\n",
              "    .dataframe tbody tr th {\n",
              "        vertical-align: top;\n",
              "    }\n",
              "\n",
              "    .dataframe thead th {\n",
              "        text-align: right;\n",
              "    }\n",
              "</style>\n",
              "<table border=\"1\" class=\"dataframe\">\n",
              "  <thead>\n",
              "    <tr style=\"text-align: right;\">\n",
              "      <th></th>\n",
              "      <th>match_id</th>\n",
              "      <th>inning</th>\n",
              "      <th>team_name</th>\n",
              "      <th>extra_runs</th>\n",
              "      <th>total_runs</th>\n",
              "      <th>players_dismissed</th>\n",
              "    </tr>\n",
              "  </thead>\n",
              "  <tbody>\n",
              "    <tr>\n",
              "      <th>0</th>\n",
              "      <td>1</td>\n",
              "      <td>1</td>\n",
              "      <td>Sunrisers Hyderabad</td>\n",
              "      <td>7</td>\n",
              "      <td>207</td>\n",
              "      <td>4</td>\n",
              "    </tr>\n",
              "    <tr>\n",
              "      <th>1</th>\n",
              "      <td>1</td>\n",
              "      <td>2</td>\n",
              "      <td>Royal Challengers Bangalore</td>\n",
              "      <td>6</td>\n",
              "      <td>172</td>\n",
              "      <td>10</td>\n",
              "    </tr>\n",
              "    <tr>\n",
              "      <th>2</th>\n",
              "      <td>2</td>\n",
              "      <td>1</td>\n",
              "      <td>Mumbai Indians</td>\n",
              "      <td>8</td>\n",
              "      <td>184</td>\n",
              "      <td>8</td>\n",
              "    </tr>\n",
              "    <tr>\n",
              "      <th>3</th>\n",
              "      <td>2</td>\n",
              "      <td>2</td>\n",
              "      <td>Rising Pune Supergiant</td>\n",
              "      <td>4</td>\n",
              "      <td>187</td>\n",
              "      <td>3</td>\n",
              "    </tr>\n",
              "    <tr>\n",
              "      <th>4</th>\n",
              "      <td>3</td>\n",
              "      <td>1</td>\n",
              "      <td>Gujarat Lions</td>\n",
              "      <td>4</td>\n",
              "      <td>183</td>\n",
              "      <td>4</td>\n",
              "    </tr>\n",
              "    <tr>\n",
              "      <th>...</th>\n",
              "      <td>...</td>\n",
              "      <td>...</td>\n",
              "      <td>...</td>\n",
              "      <td>...</td>\n",
              "      <td>...</td>\n",
              "      <td>...</td>\n",
              "    </tr>\n",
              "    <tr>\n",
              "      <th>1507</th>\n",
              "      <td>11413</td>\n",
              "      <td>2</td>\n",
              "      <td>Delhi Capitals</td>\n",
              "      <td>5</td>\n",
              "      <td>170</td>\n",
              "      <td>7</td>\n",
              "    </tr>\n",
              "    <tr>\n",
              "      <th>1508</th>\n",
              "      <td>11414</td>\n",
              "      <td>1</td>\n",
              "      <td>Delhi Capitals</td>\n",
              "      <td>8</td>\n",
              "      <td>155</td>\n",
              "      <td>9</td>\n",
              "    </tr>\n",
              "    <tr>\n",
              "      <th>1509</th>\n",
              "      <td>11414</td>\n",
              "      <td>2</td>\n",
              "      <td>Chennai Super Kings</td>\n",
              "      <td>11</td>\n",
              "      <td>162</td>\n",
              "      <td>4</td>\n",
              "    </tr>\n",
              "    <tr>\n",
              "      <th>1510</th>\n",
              "      <td>11415</td>\n",
              "      <td>1</td>\n",
              "      <td>Mumbai Indians</td>\n",
              "      <td>3</td>\n",
              "      <td>152</td>\n",
              "      <td>8</td>\n",
              "    </tr>\n",
              "    <tr>\n",
              "      <th>1511</th>\n",
              "      <td>11415</td>\n",
              "      <td>2</td>\n",
              "      <td>Chennai Super Kings</td>\n",
              "      <td>9</td>\n",
              "      <td>157</td>\n",
              "      <td>7</td>\n",
              "    </tr>\n",
              "  </tbody>\n",
              "</table>\n",
              "<p>1512 rows × 6 columns</p>\n",
              "</div>"
            ],
            "text/plain": [
              "     match_id inning                    team_name extra_runs total_runs  \\\n",
              "0           1      1          Sunrisers Hyderabad          7        207   \n",
              "1           1      2  Royal Challengers Bangalore          6        172   \n",
              "2           2      1               Mumbai Indians          8        184   \n",
              "3           2      2       Rising Pune Supergiant          4        187   \n",
              "4           3      1                Gujarat Lions          4        183   \n",
              "...       ...    ...                          ...        ...        ...   \n",
              "1507    11413      2               Delhi Capitals          5        170   \n",
              "1508    11414      1               Delhi Capitals          8        155   \n",
              "1509    11414      2          Chennai Super Kings         11        162   \n",
              "1510    11415      1               Mumbai Indians          3        152   \n",
              "1511    11415      2          Chennai Super Kings          9        157   \n",
              "\n",
              "     players_dismissed  \n",
              "0                    4  \n",
              "1                   10  \n",
              "2                    8  \n",
              "3                    3  \n",
              "4                    4  \n",
              "...                ...  \n",
              "1507                 7  \n",
              "1508                 9  \n",
              "1509                 4  \n",
              "1510                 8  \n",
              "1511                 7  \n",
              "\n",
              "[1512 rows x 6 columns]"
            ]
          },
          "execution_count": 52,
          "metadata": {},
          "output_type": "execute_result"
        }
      ],
      "source": [
        "team_stats_df"
      ]
    },
    {
      "cell_type": "code",
      "execution_count": null,
      "metadata": {
        "id": "hzfXSpqq-4Ub",
        "outputId": "86e19666-5f17-4e34-cede-9246e0de7836"
      },
      "outputs": [
        {
          "name": "stdout",
          "output_type": "stream",
          "text": [
            "<class 'pandas.core.frame.DataFrame'>\n",
            "RangeIndex: 1512 entries, 0 to 1511\n",
            "Data columns (total 6 columns):\n",
            " #   Column             Non-Null Count  Dtype \n",
            "---  ------             --------------  ----- \n",
            " 0   match_id           1512 non-null   object\n",
            " 1   inning             1512 non-null   object\n",
            " 2   team_name          1512 non-null   object\n",
            " 3   extra_runs         1512 non-null   object\n",
            " 4   total_runs         1512 non-null   object\n",
            " 5   players_dismissed  1512 non-null   object\n",
            "dtypes: object(6)\n",
            "memory usage: 71.0+ KB\n"
          ]
        }
      ],
      "source": [
        "team_stats_df.info()"
      ]
    },
    {
      "cell_type": "code",
      "execution_count": null,
      "metadata": {
        "id": "xT3ph1kj-4Uc"
      },
      "outputs": [],
      "source": [
        "# We need to convert match_id,inning,extra_runs,total_runs and players_dismissed to int64 dtype\n",
        "team_stats_df = team_stats_df.astype({\"match_id\":int,'inning':int,'extra_runs':int,'total_runs':int,'players_dismissed':int})"
      ]
    },
    {
      "cell_type": "code",
      "execution_count": null,
      "metadata": {
        "id": "88EYcUq5-4Uc",
        "outputId": "dc166ea5-d0fd-4877-93b5-2b7d3a023a22"
      },
      "outputs": [
        {
          "name": "stdout",
          "output_type": "stream",
          "text": [
            "<class 'pandas.core.frame.DataFrame'>\n",
            "RangeIndex: 1512 entries, 0 to 1511\n",
            "Data columns (total 6 columns):\n",
            " #   Column             Non-Null Count  Dtype \n",
            "---  ------             --------------  ----- \n",
            " 0   match_id           1512 non-null   int64 \n",
            " 1   inning             1512 non-null   int64 \n",
            " 2   team_name          1512 non-null   object\n",
            " 3   extra_runs         1512 non-null   int64 \n",
            " 4   total_runs         1512 non-null   int64 \n",
            " 5   players_dismissed  1512 non-null   int64 \n",
            "dtypes: int64(5), object(1)\n",
            "memory usage: 71.0+ KB\n"
          ]
        }
      ],
      "source": [
        "team_stats_df.info()"
      ]
    },
    {
      "cell_type": "code",
      "execution_count": null,
      "metadata": {
        "id": "eFkqTdel-4Ud"
      },
      "outputs": [],
      "source": [
        "# Copying our dataframe into a CSV file Team_stats.csv\n",
        "team_stats_df.to_csv(\"Team_stats.csv\")"
      ]
    },
    {
      "cell_type": "markdown",
      "metadata": {
        "id": "UcSQa5K5-4Ud"
      },
      "source": [
        "Making a dataframe of batsman having all players name , total runs, average runs, balls played, dismissal and strike rate of each players."
      ]
    },
    {
      "cell_type": "code",
      "execution_count": null,
      "metadata": {
        "id": "sb9LidOl-4Ud",
        "outputId": "a6394fcb-8a9a-4d94-d52e-00ad48449970"
      },
      "outputs": [
        {
          "data": {
            "text/plain": [
              "array(['DA Warner', 'S Dhawan', 'MC Henriques', 'Yuvraj Singh',\n",
              "       'DJ Hooda', 'BCJ Cutting', 'CH Gayle', 'Mandeep Singh', 'TM Head',\n",
              "       'KM Jadhav', 'SR Watson', 'Sachin Baby', 'STR Binny', 'S Aravind',\n",
              "       'YS Chahal', 'TS Mills', 'A Choudhary', 'PA Patel', 'JC Buttler',\n",
              "       'RG Sharma', 'N Rana', 'AT Rayudu', 'KH Pandya', 'KA Pollard',\n",
              "       'HH Pandya', 'TG Southee', 'AM Rahane', 'MA Agarwal', 'SPD Smith',\n",
              "       'BA Stokes', 'MS Dhoni', 'JJ Roy', 'BB McCullum', 'SK Raina',\n",
              "       'AJ Finch', 'KD Karthik', 'G Gambhir', 'CA Lynn', 'MK Tiwary',\n",
              "       'DT Christian', 'HM Amla', 'M Vohra', 'WP Saha', 'AR Patel',\n",
              "       'GJ Maxwell', 'DA Miller', 'Vishnu Vinod', 'Iqbal Abdulla',\n",
              "       'P Negi', 'AP Tare', 'SW Billings', 'KK Nair', 'SV Samson',\n",
              "       'RR Pant', 'CH Morris', 'CR Brathwaite', 'PJ Cummins', 'A Mishra',\n",
              "       'S Nadeem', 'Z Khan', 'DR Smith', 'DS Kulkarni', 'P Kumar',\n",
              "       'Basil Thampi', 'RV Uthappa', 'MK Pandey', 'YK Pathan', 'SA Yadav',\n",
              "       'CR Woakes', 'SP Narine', 'Harbhajan Singh', 'AB de Villiers',\n",
              "       'CJ Anderson', 'F du Plessis', 'RA Tripathi', 'R Bhatia',\n",
              "       'DL Chahar', 'A Zampa', 'AB Dinda', 'Imran Tahir', 'NV Ojha',\n",
              "       'V Shankar', 'Rashid Khan', 'B Kumar', 'MP Stoinis', 'MM Sharma',\n",
              "       'VR Aaron', 'V Kohli', 'MJ McClenaghan', 'Ankit Sharma',\n",
              "       'SN Thakur', 'RD Chahar', 'LH Ferguson', 'C de Grandhomme',\n",
              "       'Bipul Sharma', 'SS Iyer', 'EJG Morgan', 'KC Cariappa',\n",
              "       'Sandeep Sharma', 'Ishan Kishan', 'JD Unadkat', 'AF Milne',\n",
              "       'S Badree', 'AD Mathews', 'Mohammed Shami', 'Mohammad Nabi',\n",
              "       'I Sharma', 'RA Jadeja', 'AJ Tye', 'KS Williamson', 'SE Marsh',\n",
              "       'Shakib Al Hasan', 'JP Faulkner', 'MG Johnson', 'K Rabada',\n",
              "       'AD Nath', 'NM Coulter-Nile', 'Kuldeep Yadav', 'UT Yadav',\n",
              "       'Washington Sundar', 'KV Sharma', 'DM Bravo', 'AR Bawne',\n",
              "       'SP Jackson', 'MJ Guptill', 'Anureet Singh', 'IK Pathan',\n",
              "       'Ankit Soni', 'JJ Bumrah', 'SL Malinga', 'PJ Sangwan', 'S Kaul',\n",
              "       'LMP Simmons', 'MN Samuels', 'Swapnil Singh', 'R Tewatia',\n",
              "       'MM Patel', 'SS Tiwary', 'TA Boult', 'CJ Jordan', 'IR Jaggi',\n",
              "       'PP Chawla', 'AS Rajpoot', 'SC Ganguly', 'RT Ponting', 'DJ Hussey',\n",
              "       'Mohammad Hafeez', 'R Dravid', 'W Jaffer', 'JH Kallis', 'CL White',\n",
              "       'MV Boucher', 'B Akhil', 'AA Noffke', 'SB Joshi', 'ML Hayden',\n",
              "       'MEK Hussey', 'JDP Oram', 'S Badrinath', 'K Goel', 'JR Hopes',\n",
              "       'KC Sangakkara', 'SM Katich', 'T Kohli', 'M Kaif', 'DS Lehmann',\n",
              "       'M Rawat', 'D Salunkhe', 'SK Warne', 'SK Trivedi', 'V Sehwag',\n",
              "       'L Ronchi', 'ST Jayasuriya', 'DJ Thornely', 'PR Shah', 'AM Nayar',\n",
              "       'SM Pollock', 'S Chanderpaul', 'LRPL Taylor', 'AC Gilchrist',\n",
              "       'Y Venugopal Rao', 'VVS Laxman', 'A Symonds', 'SB Styris',\n",
              "       'AS Yadav', 'SB Bangar', 'WPUJC Vaas', 'RP Singh', 'LR Shukla',\n",
              "       'DPMD Jayawardene', 'S Sohal', 'B Lee', 'WA Mota', 'Kamran Akmal',\n",
              "       'Shahid Afridi', 'DJ Bravo', 'MA Khote', 'A Nehra', 'GC Smith',\n",
              "       'Pankaj Singh', 'RR Sarwan', 'S Sreesanth', 'VRV Singh',\n",
              "       'R Vinay Kumar', 'AB Agarkar', 'M Kartik', 'Shoaib Malik',\n",
              "       'MF Maharoof', 'VY Mahesh', 'TM Srivastava', 'B Chipli',\n",
              "       'DW Steyn', 'DB Das', 'HH Gibbs', 'DNT Zoysa', 'D Kalyankrishna',\n",
              "       'SA Asnodkar', 'Sohail Tanvir', 'Salman Butt', 'BJ Hodge',\n",
              "       'Umar Gul', 'SP Fleming', 'S Vidyut', 'JA Morkel', 'LPC Silva',\n",
              "       'DB Ravi Teja', 'Misbah-ul-Haq', 'YV Takawale', 'RR Raje',\n",
              "       'Mohammad Asif', 'GD McGrath', 'Joginder Sharma', 'MS Gony',\n",
              "       'M Muralitharan', 'M Ntini', 'DT Patil', 'A Kumble', 'S Anirudha',\n",
              "       'CK Kapugedera', 'A Chopra', 'T Taibu', 'J Arunkumar', 'PP Ojha',\n",
              "       'SP Goswami', 'SR Tendulkar', 'U Kaul', 'TM Dilshan',\n",
              "       'AD Mascarenhas', 'Niraj Patel', 'LA Pomersbach', 'Younis Khan',\n",
              "       'PM Sarvesh Kumar', 'DP Vijaykumar', 'Shoaib Akhtar',\n",
              "       'Abdur Razzak', 'H Das', 'SD Chitnis', 'CRD Fernando',\n",
              "       'VS Yeligati', 'L Balaji', 'A Mukund', 'RR Powar', 'JP Duminy',\n",
              "       'A Flintoff', 'T Thushara', 'JD Ryder', 'KP Pietersen',\n",
              "       'T Henderson', 'Kamran Khan', 'RS Bopara', 'R Bishnoi',\n",
              "       'FH Edwards', 'PC Valthaty', 'RJ Quiney', 'AS Raut',\n",
              "       'Yashpal Singh', 'M Manhas', 'AA Bilakhia', 'AN Ghosh',\n",
              "       'BAW Mendis', 'DL Vettori', 'MN van Wyk', 'RE van der Merwe',\n",
              "       'TL Suman', 'Shoaib Ahmed', 'GR Napier', 'KP Appanna',\n",
              "       'LA Carseldine', 'SM Harwood', 'M Vijay', 'SB Jakati', 'RJ Harris',\n",
              "       'D du Preez', 'M Morkel', 'J Botha', 'C Nanda', 'Mashrafe Mortaza',\n",
              "       'A Singh', 'GJ Bailey', 'AB McDonald', 'Y Nagar', 'SS Shaikh',\n",
              "       'R Ashwin', 'Mohammad Ashraful', 'CA Pujara', 'OA Shah',\n",
              "       'Anirudh Singh', 'Jaskaran Singh', 'R Sathish', 'R McLaren',\n",
              "       'AA Jhunjhunwala', 'P Dogra', 'A Uniyal', 'MS Bisla', 'YA Abdulla',\n",
              "       'JM Kemp', 'S Tyagi', 'RS Gavaskar', 'SE Bond', 'S Ladda',\n",
              "       'DP Nannes', 'MJ Lumb', 'DR Martyn', 'S Narwal', 'AB Barath',\n",
              "       'FY Fazal', 'AC Voges', 'MD Mishra', 'J Theron', 'SJ Srivastava',\n",
              "       'R Sharma', 'SW Tait', 'KB Arun Karthik', 'KAJ Roach',\n",
              "       'PD Collingwood', 'CK Langeveldt', 'VS Malik', 'A Mithun',\n",
              "       'AP Dole', 'AN Ahmed', 'RS Sodhi', 'DE Bollinger', 'S Sriram',\n",
              "       'B Sumanth', 'C Madan', 'AG Paunikar', 'MR Marsh', 'Harmeet Singh',\n",
              "       'RV Gomez', 'AUK Pathan', 'UBT Chand', 'DJ Jacobs', 'Sunny Singh',\n",
              "       'NJ Rimmington', 'AL Menaria', 'WD Parnell', 'JJ van der Wath',\n",
              "       'R Ninan', 'MS Wade', 'TD Paine', 'SB Wagh', 'AC Thomas',\n",
              "       'JEC Franklin', 'DH Yagnik', 'S Randiv', 'BJ Haddin',\n",
              "       'NLTC Perera', 'NL McCullum', 'JE Taylor', 'J Syed Mohammad',\n",
              "       'RN ten Doeschate', 'TR Birt', 'AG Murtaza', 'Harpreet Singh',\n",
              "       'M Klinger', 'AC Blizzard', 'I Malhotra', 'L Ablish', 'CA Ingram',\n",
              "       'P Parameswaran', 'CJ Ferguson', 'AA Chavan', 'ND Doshi',\n",
              "       'Y Gnaneswara Rao', 'S Rana', 'BA Bhatt', 'RE Levi', 'KK Cooper',\n",
              "       'HV Patel', 'DAJ Bracewell', 'DJ Harris', 'GB Hogg', 'RR Bhatkal',\n",
              "       'CJ McKay', 'N Saini', 'Azhar Mahmood', 'RJ Peterson',\n",
              "       'KMDN Kulasekara', 'A Ashish Reddy', 'V Pratap Singh',\n",
              "       'BB Samantray', 'MJ Clarke', 'Gurkeerat Singh', 'AP Majumdar',\n",
              "       'PA Reddy', 'K Upadhyay', 'P Awana', 'AD Russell', 'A Chandila',\n",
              "       'Sunny Gupta', 'MC Juneja', 'GH Vihari', 'MDKJ Perera', 'R Shukla',\n",
              "       'B Laughlin', 'BMAJ Mendis', 'R Rampaul', 'SMSM Senanayake',\n",
              "       'BJ Rohrer', 'KL Rahul', 'Q de Kock', 'R Dhawan', 'LJ Wright',\n",
              "       'IC Pandey', 'CM Gautam', 'X Thalaivan Sargunam', 'DJG Sammy',\n",
              "       'KW Richardson', 'UA Birla', 'Parvez Rasool', 'PV Tambe',\n",
              "       'NJ Maddinson', 'JDS Neesham', 'MA Starc', 'BR Dunk', 'RR Rossouw',\n",
              "       'Shivam Sharma', 'VH Zol', 'BE Hendricks', 'S Gopal', 'M de Lange',\n",
              "       'JO Holder', 'Karanveer Singh', 'SA Abbott', 'J Suchith',\n",
              "       'RG More', 'D Wiese', 'SN Khan', 'DJ Muthuswami', 'C Munro',\n",
              "       'P Sahu', 'KJ Abbott', 'M Ashwin', 'NS Naik', 'PSP Handscomb',\n",
              "       'J Yadav', 'UT Khawaja', 'F Behardien', 'BB Sran', 'S Kaushik',\n",
              "       'ER Dwivedi', 'E Lewis', 'M Wood', 'R Singh', 'D Short',\n",
              "       'K Gowtham', 'T Curran', 'M Markande', 'B Stanlake', 'M Ur Rahman',\n",
              "       'A Dananjaya', 'S Gill', 'S Mavi', 'Mohammed Siraj', 'H Klaasen',\n",
              "       'R Bhui', 'J Archer', 'P Shaw', 'L Plunkett', 'Mustafizur Rahman',\n",
              "       'A Hales', 'M Lomror', 'D Shorey', 'M Ali', 'P Krishna',\n",
              "       'P Chopra', 'J Searles', 'I Sodhi', 'S Hetmyer', 'S Dube',\n",
              "       'J Bairstow', 'C Ingram', 'K Paul', 'R Salam', 'N Pooran',\n",
              "       'N Naik', 'H Vihari', 'P R Barman', 'S Curran', 'H Viljoen',\n",
              "       'Avesh Khan', 'S Lamichhane', 'S Sharma', 'H Gurney', 'SD Lad',\n",
              "       'A Joseph', 'R Parag', 'M Santner', 'J Denly', 'L Livingstone',\n",
              "       'K Ahmed', 'A Turner', 'H Brar', 'S Rutherford', 'P Raj',\n",
              "       'S Singh'], dtype=object)"
            ]
          },
          "execution_count": 59,
          "metadata": {},
          "output_type": "execute_result"
        }
      ],
      "source": [
        "players = deliveries_df.batsman.unique()\n",
        "players"
      ]
    },
    {
      "cell_type": "code",
      "execution_count": null,
      "metadata": {
        "id": "8oeEja0c-4Ud"
      },
      "outputs": [],
      "source": [
        "class Batsman():\n",
        "    batsman_df = pd.DataFrame(columns=['player_name','total_runs','outs','balls_played','average_runs','strike_rate'])\n",
        "    def __init__(self,players,deliveries_df):\n",
        "        self.players = players\n",
        "        self.df = deliveries_df.copy()\n",
        "\n",
        "    def create_df(self):\n",
        "        for player in self.players:\n",
        "            run = int(self.df[self.df[\"batsman\"] == player].batsman_runs.sum())\n",
        "            balls = int((self.df[\"batsman\"] == player).sum())\n",
        "            #print(balls)\n",
        "            out = int((self.df[\"player_dismissed\"] == player).sum())\n",
        "            try:\n",
        "                avg_run = run/out # average runs = Total runs divided by total outs\n",
        "            except:\n",
        "                avg_run = 0\n",
        "            try:\n",
        "                strk_rate = (run * 100)/balls # strike rate = run scored per 100 balls\n",
        "            except:\n",
        "                strk_rate = 0\n",
        "            df2 = {'player_name':player,'total_runs': int(run),'outs':int(out),'balls_played': int(balls),'average_runs':avg_run,'strike_rate': strk_rate}\n",
        "            self.batsman_df = self.batsman_df.append(df2,ignore_index =True)\n",
        "        return self.batsman_df"
      ]
    },
    {
      "cell_type": "code",
      "execution_count": null,
      "metadata": {
        "id": "KZwUUC0U-4Ue"
      },
      "outputs": [],
      "source": [
        "# Let us use the raw df for this dataframe as some values might be missing if the raw df is not used.\n",
        "batsman_df = Batsman(players,deliveries_df).create_df()"
      ]
    },
    {
      "cell_type": "code",
      "execution_count": null,
      "metadata": {
        "id": "mt2RBNsP-4Ue",
        "outputId": "16a2c3a9-4aa2-4ac6-c427-b1a396f718dc"
      },
      "outputs": [
        {
          "data": {
            "text/html": [
              "<div>\n",
              "<style scoped>\n",
              "    .dataframe tbody tr th:only-of-type {\n",
              "        vertical-align: middle;\n",
              "    }\n",
              "\n",
              "    .dataframe tbody tr th {\n",
              "        vertical-align: top;\n",
              "    }\n",
              "\n",
              "    .dataframe thead th {\n",
              "        text-align: right;\n",
              "    }\n",
              "</style>\n",
              "<table border=\"1\" class=\"dataframe\">\n",
              "  <thead>\n",
              "    <tr style=\"text-align: right;\">\n",
              "      <th></th>\n",
              "      <th>player_name</th>\n",
              "      <th>total_runs</th>\n",
              "      <th>outs</th>\n",
              "      <th>balls_played</th>\n",
              "      <th>average_runs</th>\n",
              "      <th>strike_rate</th>\n",
              "    </tr>\n",
              "  </thead>\n",
              "  <tbody>\n",
              "    <tr>\n",
              "      <th>0</th>\n",
              "      <td>DA Warner</td>\n",
              "      <td>4741</td>\n",
              "      <td>109</td>\n",
              "      <td>3397</td>\n",
              "      <td>43.495413</td>\n",
              "      <td>139.564321</td>\n",
              "    </tr>\n",
              "    <tr>\n",
              "      <th>1</th>\n",
              "      <td>S Dhawan</td>\n",
              "      <td>4632</td>\n",
              "      <td>137</td>\n",
              "      <td>3776</td>\n",
              "      <td>33.810219</td>\n",
              "      <td>122.669492</td>\n",
              "    </tr>\n",
              "    <tr>\n",
              "      <th>2</th>\n",
              "      <td>MC Henriques</td>\n",
              "      <td>969</td>\n",
              "      <td>34</td>\n",
              "      <td>769</td>\n",
              "      <td>28.500000</td>\n",
              "      <td>126.007802</td>\n",
              "    </tr>\n",
              "    <tr>\n",
              "      <th>3</th>\n",
              "      <td>Yuvraj Singh</td>\n",
              "      <td>2761</td>\n",
              "      <td>111</td>\n",
              "      <td>2205</td>\n",
              "      <td>24.873874</td>\n",
              "      <td>125.215420</td>\n",
              "    </tr>\n",
              "    <tr>\n",
              "      <th>4</th>\n",
              "      <td>DJ Hooda</td>\n",
              "      <td>535</td>\n",
              "      <td>35</td>\n",
              "      <td>431</td>\n",
              "      <td>15.285714</td>\n",
              "      <td>124.129930</td>\n",
              "    </tr>\n",
              "    <tr>\n",
              "      <th>...</th>\n",
              "      <td>...</td>\n",
              "      <td>...</td>\n",
              "      <td>...</td>\n",
              "      <td>...</td>\n",
              "      <td>...</td>\n",
              "      <td>...</td>\n",
              "    </tr>\n",
              "    <tr>\n",
              "      <th>511</th>\n",
              "      <td>A Turner</td>\n",
              "      <td>4</td>\n",
              "      <td>3</td>\n",
              "      <td>11</td>\n",
              "      <td>1.333333</td>\n",
              "      <td>36.363636</td>\n",
              "    </tr>\n",
              "    <tr>\n",
              "      <th>512</th>\n",
              "      <td>H Brar</td>\n",
              "      <td>22</td>\n",
              "      <td>0</td>\n",
              "      <td>14</td>\n",
              "      <td>0.000000</td>\n",
              "      <td>157.142857</td>\n",
              "    </tr>\n",
              "    <tr>\n",
              "      <th>513</th>\n",
              "      <td>S Rutherford</td>\n",
              "      <td>82</td>\n",
              "      <td>5</td>\n",
              "      <td>55</td>\n",
              "      <td>16.400000</td>\n",
              "      <td>149.090909</td>\n",
              "    </tr>\n",
              "    <tr>\n",
              "      <th>514</th>\n",
              "      <td>P Raj</td>\n",
              "      <td>0</td>\n",
              "      <td>0</td>\n",
              "      <td>1</td>\n",
              "      <td>0.000000</td>\n",
              "      <td>0.000000</td>\n",
              "    </tr>\n",
              "    <tr>\n",
              "      <th>515</th>\n",
              "      <td>S Singh</td>\n",
              "      <td>17</td>\n",
              "      <td>1</td>\n",
              "      <td>18</td>\n",
              "      <td>17.000000</td>\n",
              "      <td>94.444444</td>\n",
              "    </tr>\n",
              "  </tbody>\n",
              "</table>\n",
              "<p>516 rows × 6 columns</p>\n",
              "</div>"
            ],
            "text/plain": [
              "      player_name total_runs outs balls_played  average_runs  strike_rate\n",
              "0       DA Warner       4741  109         3397     43.495413   139.564321\n",
              "1        S Dhawan       4632  137         3776     33.810219   122.669492\n",
              "2    MC Henriques        969   34          769     28.500000   126.007802\n",
              "3    Yuvraj Singh       2761  111         2205     24.873874   125.215420\n",
              "4        DJ Hooda        535   35          431     15.285714   124.129930\n",
              "..            ...        ...  ...          ...           ...          ...\n",
              "511      A Turner          4    3           11      1.333333    36.363636\n",
              "512        H Brar         22    0           14      0.000000   157.142857\n",
              "513  S Rutherford         82    5           55     16.400000   149.090909\n",
              "514         P Raj          0    0            1      0.000000     0.000000\n",
              "515       S Singh         17    1           18     17.000000    94.444444\n",
              "\n",
              "[516 rows x 6 columns]"
            ]
          },
          "execution_count": 63,
          "metadata": {},
          "output_type": "execute_result"
        }
      ],
      "source": [
        "batsman_df"
      ]
    },
    {
      "cell_type": "code",
      "execution_count": null,
      "metadata": {
        "id": "VSBjUZZp-4Ue",
        "outputId": "96b987f7-5c61-4528-daa3-5e28af977936"
      },
      "outputs": [
        {
          "name": "stdout",
          "output_type": "stream",
          "text": [
            "<class 'pandas.core.frame.DataFrame'>\n",
            "RangeIndex: 516 entries, 0 to 515\n",
            "Data columns (total 6 columns):\n",
            " #   Column        Non-Null Count  Dtype  \n",
            "---  ------        --------------  -----  \n",
            " 0   player_name   516 non-null    object \n",
            " 1   total_runs    516 non-null    object \n",
            " 2   outs          516 non-null    object \n",
            " 3   balls_played  516 non-null    object \n",
            " 4   average_runs  516 non-null    float64\n",
            " 5   strike_rate   516 non-null    float64\n",
            "dtypes: float64(2), object(4)\n",
            "memory usage: 24.3+ KB\n"
          ]
        }
      ],
      "source": [
        "batsman_df.info()"
      ]
    },
    {
      "cell_type": "markdown",
      "metadata": {
        "id": "4KFfDKTU-4Uf"
      },
      "source": [
        "We can see that total_runs,outs,balls_played column is not integer type , so lets convert it to integer first"
      ]
    },
    {
      "cell_type": "code",
      "execution_count": null,
      "metadata": {
        "id": "LBh9lV76-4Uf",
        "outputId": "b0613c16-546e-4f48-d195-56ca47dfecf5"
      },
      "outputs": [
        {
          "name": "stdout",
          "output_type": "stream",
          "text": [
            "<class 'pandas.core.frame.DataFrame'>\n",
            "RangeIndex: 516 entries, 0 to 515\n",
            "Data columns (total 6 columns):\n",
            " #   Column        Non-Null Count  Dtype  \n",
            "---  ------        --------------  -----  \n",
            " 0   player_name   516 non-null    object \n",
            " 1   total_runs    516 non-null    int64  \n",
            " 2   outs          516 non-null    int64  \n",
            " 3   balls_played  516 non-null    int64  \n",
            " 4   average_runs  516 non-null    float64\n",
            " 5   strike_rate   516 non-null    float64\n",
            "dtypes: float64(2), int64(3), object(1)\n",
            "memory usage: 24.3+ KB\n"
          ]
        }
      ],
      "source": [
        "batsman_df = batsman_df.astype({'total_runs':int,'outs':int,\"balls_played\":int})\n",
        "batsman_df.info()"
      ]
    },
    {
      "cell_type": "code",
      "execution_count": null,
      "metadata": {
        "id": "MNweJDYs-4Uf",
        "outputId": "9342193a-fc1a-4a1d-b135-ac02303a71ba"
      },
      "outputs": [
        {
          "data": {
            "text/html": [
              "<div>\n",
              "<style scoped>\n",
              "    .dataframe tbody tr th:only-of-type {\n",
              "        vertical-align: middle;\n",
              "    }\n",
              "\n",
              "    .dataframe tbody tr th {\n",
              "        vertical-align: top;\n",
              "    }\n",
              "\n",
              "    .dataframe thead th {\n",
              "        text-align: right;\n",
              "    }\n",
              "</style>\n",
              "<table border=\"1\" class=\"dataframe\">\n",
              "  <thead>\n",
              "    <tr style=\"text-align: right;\">\n",
              "      <th></th>\n",
              "      <th>player_name</th>\n",
              "      <th>total_runs</th>\n",
              "      <th>outs</th>\n",
              "      <th>balls_played</th>\n",
              "      <th>average_runs</th>\n",
              "      <th>strike_rate</th>\n",
              "    </tr>\n",
              "  </thead>\n",
              "  <tbody>\n",
              "    <tr>\n",
              "      <th>1</th>\n",
              "      <td>S Dhawan</td>\n",
              "      <td>4632</td>\n",
              "      <td>137</td>\n",
              "      <td>3776</td>\n",
              "      <td>33.810219</td>\n",
              "      <td>122.669492</td>\n",
              "    </tr>\n",
              "  </tbody>\n",
              "</table>\n",
              "</div>"
            ],
            "text/plain": [
              "  player_name  total_runs  outs  balls_played  average_runs  strike_rate\n",
              "1    S Dhawan        4632   137          3776     33.810219   122.669492"
            ]
          },
          "execution_count": 69,
          "metadata": {},
          "output_type": "execute_result"
        }
      ],
      "source": [
        "# Let's Choose a Player Name and see his stats (say 'V Kohli')\n",
        "batsman_df[batsman_df.player_name == 'S Dhawan']"
      ]
    },
    {
      "cell_type": "code",
      "execution_count": null,
      "metadata": {
        "id": "sviN4jQC-4Ug"
      },
      "outputs": [],
      "source": [
        "# Saving the dataframe into a .csv file (say player_batting_stats.csv) For future reference\n",
        "batsman_df.to_csv(\"Player_batting_stats.csv\")"
      ]
    },
    {
      "cell_type": "markdown",
      "metadata": {
        "id": "j2JcQteJ-4Ug"
      },
      "source": [
        "Here comes the end of our Processing of Data, we have done seen two raw tables matches and deliveries from where we have extracted the data , processed it and formed four new processed dataframe `matches_df`, `deliveries_df`,`team_stats_df` and `batsman_df`"
      ]
    },
    {
      "cell_type": "markdown",
      "metadata": {
        "id": "EZy1Semv-4Ug"
      },
      "source": [
        "### Exploratory Analysis and Visualization\n",
        "####  Batting\n",
        "\n",
        "Top 10 players with highest average runs.\n",
        "Top 10 players with highest strike rates.\n",
        "Top 10 players in the basis of runs scored till IPL 2019.\n",
        "Bowling\n",
        "\n",
        "Most balls bowled per season/Year.\n",
        "Top 10 highest wicket Taker of all time.\n",
        "Umpire\n",
        "\n",
        "Most used on-field umpire Per Season.\n",
        "Team Management\n",
        "\n",
        "Top 10 most used Stadium.\n",
        "No. of times each team have won a IPL Season."
      ]
    },
    {
      "cell_type": "markdown",
      "metadata": {
        "id": "d7Ik7G_h-4Uh"
      },
      "source": [
        "#### Batting\n",
        "\n",
        "In cricket batting is the act or skill of hitting the ball to score runs or to prevent from getting a wicket. Any player who is standing in the pitch and facing the bowler is considered to be a batsman. Let us get some visualization and analyzation of the best batsman charts in IPL 2008-2019."
      ]
    },
    {
      "cell_type": "markdown",
      "metadata": {
        "id": "LWdpZIgY-4Uh"
      },
      "source": [
        "### Top 10 players with highest Average Runs.\n",
        "To Visualize the top players with highest average runs we can use a bar graph. We will use the dataframe we previously made batsman_df to visualize this graph."
      ]
    },
    {
      "cell_type": "code",
      "execution_count": null,
      "metadata": {
        "id": "My8w5ds2-4Uh",
        "outputId": "3dfd54cc-4cb2-4e18-fd34-8b2177fa2db1"
      },
      "outputs": [
        {
          "data": {
            "text/html": [
              "<div>\n",
              "<style scoped>\n",
              "    .dataframe tbody tr th:only-of-type {\n",
              "        vertical-align: middle;\n",
              "    }\n",
              "\n",
              "    .dataframe tbody tr th {\n",
              "        vertical-align: top;\n",
              "    }\n",
              "\n",
              "    .dataframe thead th {\n",
              "        text-align: right;\n",
              "    }\n",
              "</style>\n",
              "<table border=\"1\" class=\"dataframe\">\n",
              "  <thead>\n",
              "    <tr style=\"text-align: right;\">\n",
              "      <th></th>\n",
              "      <th>player_name</th>\n",
              "      <th>total_runs</th>\n",
              "      <th>outs</th>\n",
              "      <th>balls_played</th>\n",
              "      <th>average_runs</th>\n",
              "      <th>strike_rate</th>\n",
              "    </tr>\n",
              "  </thead>\n",
              "  <tbody>\n",
              "    <tr>\n",
              "      <th>490</th>\n",
              "      <td>J Bairstow</td>\n",
              "      <td>468</td>\n",
              "      <td>8</td>\n",
              "      <td>293</td>\n",
              "      <td>58.500000</td>\n",
              "      <td>159.726962</td>\n",
              "    </tr>\n",
              "    <tr>\n",
              "      <th>281</th>\n",
              "      <td>MN van Wyk</td>\n",
              "      <td>167</td>\n",
              "      <td>3</td>\n",
              "      <td>135</td>\n",
              "      <td>55.666667</td>\n",
              "      <td>123.703704</td>\n",
              "    </tr>\n",
              "    <tr>\n",
              "      <th>326</th>\n",
              "      <td>AC Voges</td>\n",
              "      <td>181</td>\n",
              "      <td>4</td>\n",
              "      <td>143</td>\n",
              "      <td>45.250000</td>\n",
              "      <td>126.573427</td>\n",
              "    </tr>\n",
              "    <tr>\n",
              "      <th>40</th>\n",
              "      <td>HM Amla</td>\n",
              "      <td>577</td>\n",
              "      <td>13</td>\n",
              "      <td>418</td>\n",
              "      <td>44.384615</td>\n",
              "      <td>138.038278</td>\n",
              "    </tr>\n",
              "    <tr>\n",
              "      <th>47</th>\n",
              "      <td>Iqbal Abdulla</td>\n",
              "      <td>88</td>\n",
              "      <td>2</td>\n",
              "      <td>86</td>\n",
              "      <td>44.000000</td>\n",
              "      <td>102.325581</td>\n",
              "    </tr>\n",
              "    <tr>\n",
              "      <th>0</th>\n",
              "      <td>DA Warner</td>\n",
              "      <td>4741</td>\n",
              "      <td>109</td>\n",
              "      <td>3397</td>\n",
              "      <td>43.495413</td>\n",
              "      <td>139.564321</td>\n",
              "    </tr>\n",
              "    <tr>\n",
              "      <th>419</th>\n",
              "      <td>KL Rahul</td>\n",
              "      <td>2013</td>\n",
              "      <td>47</td>\n",
              "      <td>1465</td>\n",
              "      <td>42.829787</td>\n",
              "      <td>137.406143</td>\n",
              "    </tr>\n",
              "    <tr>\n",
              "      <th>30</th>\n",
              "      <td>MS Dhoni</td>\n",
              "      <td>4477</td>\n",
              "      <td>105</td>\n",
              "      <td>3318</td>\n",
              "      <td>42.638095</td>\n",
              "      <td>134.930681</td>\n",
              "    </tr>\n",
              "    <tr>\n",
              "      <th>6</th>\n",
              "      <td>CH Gayle</td>\n",
              "      <td>4535</td>\n",
              "      <td>108</td>\n",
              "      <td>3119</td>\n",
              "      <td>41.990741</td>\n",
              "      <td>145.399166</td>\n",
              "    </tr>\n",
              "    <tr>\n",
              "      <th>334</th>\n",
              "      <td>PD Collingwood</td>\n",
              "      <td>203</td>\n",
              "      <td>5</td>\n",
              "      <td>159</td>\n",
              "      <td>40.600000</td>\n",
              "      <td>127.672956</td>\n",
              "    </tr>\n",
              "  </tbody>\n",
              "</table>\n",
              "</div>"
            ],
            "text/plain": [
              "        player_name  total_runs  outs  balls_played  average_runs  strike_rate\n",
              "490      J Bairstow         468     8           293     58.500000   159.726962\n",
              "281      MN van Wyk         167     3           135     55.666667   123.703704\n",
              "326        AC Voges         181     4           143     45.250000   126.573427\n",
              "40          HM Amla         577    13           418     44.384615   138.038278\n",
              "47    Iqbal Abdulla          88     2            86     44.000000   102.325581\n",
              "0         DA Warner        4741   109          3397     43.495413   139.564321\n",
              "419        KL Rahul        2013    47          1465     42.829787   137.406143\n",
              "30         MS Dhoni        4477   105          3318     42.638095   134.930681\n",
              "6          CH Gayle        4535   108          3119     41.990741   145.399166\n",
              "334  PD Collingwood         203     5           159     40.600000   127.672956"
            ]
          },
          "execution_count": 71,
          "metadata": {},
          "output_type": "execute_result"
        }
      ],
      "source": [
        "top_ten_avg_score = batsman_df.sort_values(\"average_runs\",ascending = False).head(10)\n",
        "top_ten_avg_score"
      ]
    },
    {
      "cell_type": "code",
      "execution_count": null,
      "metadata": {
        "id": "OybQy6tw-4Ui",
        "outputId": "76f9167a-3020-4e63-e4f0-6e1649dcc576"
      },
      "outputs": [
        {
          "data": {
            "image/png": "[encoded data removed]",
            "text/plain": [
              "<Figure size 1008x576 with 1 Axes>"
            ]
          },
          "metadata": {
            "needs_background": "light"
          },
          "output_type": "display_data"
        }
      ],
      "source": [
        "plt.figure(figsize=(14,8))\n",
        "plt.grid(True)\n",
        "plt.xticks(rotation=75)\n",
        "plt.title(\"Average Score per Player\")\n",
        "sns.barplot(x=top_ten_avg_score.player_name, y=top_ten_avg_score.average_runs);"
      ]
    },
    {
      "cell_type": "markdown",
      "metadata": {
        "id": "KWBubR3f-4Ui"
      },
      "source": [
        "Formulae to calculate Average run is:\n",
        "\n",
        "Average Score = Total_Runs_Scored / Total_times_Dismissed\n",
        "\n",
        "We can observe the average runs of J Bairstow and MN van Wynk is higher and is nearly 55 while the others have an average score of nearly 45. Therfore we can assume that that these are the players stays in field for a longer time without getting dismissed and can help holding the wicket for a team.\n",
        "\n",
        "But to draw a conclusion from the above graph we need to consider the number of balls played, if a player have played too less matches his avg runs might be more then the players who deserved to be at the top spot, to really see whether a player a consistent with his average score let us consider all players who have at least played 30 overs(180 balls). We are selecting 30 overs assuming a consistent player gets to play atleast 30 overs even if he plays for just one season."
      ]
    },
    {
      "cell_type": "code",
      "execution_count": null,
      "metadata": {
        "id": "N7PDl5Wz-4Uj",
        "outputId": "a6244bda-fa0d-4e4b-f9a1-3df9e54aac8d"
      },
      "outputs": [
        {
          "data": {
            "image/png": "[encoded data removed]",
            "text/plain": [
              "<Figure size 1008x576 with 1 Axes>"
            ]
          },
          "metadata": {
            "needs_background": "light"
          },
          "output_type": "display_data"
        }
      ],
      "source": [
        "top_ten_avg_score = batsman_df[batsman_df.balls_played >= 180].sort_values(\"average_runs\",ascending = False).head(10)\n",
        "plt.figure(figsize=(14,8))\n",
        "plt.grid(True)\n",
        "plt.xticks(rotation=75)\n",
        "plt.title(\"Average Score vs Player Modified\")\n",
        "sns.barplot(x=top_ten_avg_score.player_name, y=top_ten_avg_score.average_runs);"
      ]
    },
    {
      "cell_type": "markdown",
      "metadata": {
        "id": "-eqS2cZQ-4Uj"
      },
      "source": [
        "Even in this graph we can see `J Bairstow` retains the top spot so we can say that he is a player who is good at holding the wicket and in T-20 format an average score 55+ is considered as very good avg runs, Also from the above table we can see that he has played for only 293 balls this show that he has not played a lot of matches in IPL."
      ]
    },
    {
      "cell_type": "markdown",
      "metadata": {
        "id": "UaN5aNP7-4Uj"
      },
      "source": [
        "#### Top 10 players with highest Strike Rate\n",
        "Strike Rate shows the real performance of a batsman in T20 format as for only 20 overs holding the wicket is not the only option for batsman , one have to keep up the scoreboard to give a good Competition to the team.\n",
        "\n",
        "Strike Rate is Total Runs per 100 balls played i.e : _Strike Rate = (Runs * 100) / Total_Balls_played_"
      ]
    },
    {
      "cell_type": "code",
      "execution_count": null,
      "metadata": {
        "id": "FbEx1DsW-4Uk",
        "outputId": "446dc6cc-f5e4-488f-e43d-a65072c9f638"
      },
      "outputs": [
        {
          "data": {
            "text/html": [
              "<div>\n",
              "<style scoped>\n",
              "    .dataframe tbody tr th:only-of-type {\n",
              "        vertical-align: middle;\n",
              "    }\n",
              "\n",
              "    .dataframe tbody tr th {\n",
              "        vertical-align: top;\n",
              "    }\n",
              "\n",
              "    .dataframe thead th {\n",
              "        text-align: right;\n",
              "    }\n",
              "</style>\n",
              "<table border=\"1\" class=\"dataframe\">\n",
              "  <thead>\n",
              "    <tr style=\"text-align: right;\">\n",
              "      <th></th>\n",
              "      <th>player_name</th>\n",
              "      <th>total_runs</th>\n",
              "      <th>outs</th>\n",
              "      <th>balls_played</th>\n",
              "      <th>average_runs</th>\n",
              "      <th>strike_rate</th>\n",
              "    </tr>\n",
              "  </thead>\n",
              "  <tbody>\n",
              "    <tr>\n",
              "      <th>468</th>\n",
              "      <td>B Stanlake</td>\n",
              "      <td>5</td>\n",
              "      <td>0</td>\n",
              "      <td>2</td>\n",
              "      <td>0.000000</td>\n",
              "      <td>250.000000</td>\n",
              "    </tr>\n",
              "    <tr>\n",
              "      <th>220</th>\n",
              "      <td>Umar Gul</td>\n",
              "      <td>39</td>\n",
              "      <td>3</td>\n",
              "      <td>19</td>\n",
              "      <td>13.000000</td>\n",
              "      <td>205.263158</td>\n",
              "    </tr>\n",
              "    <tr>\n",
              "      <th>502</th>\n",
              "      <td>S Sharma</td>\n",
              "      <td>8</td>\n",
              "      <td>0</td>\n",
              "      <td>4</td>\n",
              "      <td>0.000000</td>\n",
              "      <td>200.000000</td>\n",
              "    </tr>\n",
              "    <tr>\n",
              "      <th>340</th>\n",
              "      <td>RS Sodhi</td>\n",
              "      <td>4</td>\n",
              "      <td>0</td>\n",
              "      <td>2</td>\n",
              "      <td>0.000000</td>\n",
              "      <td>200.000000</td>\n",
              "    </tr>\n",
              "    <tr>\n",
              "      <th>407</th>\n",
              "      <td>AD Russell</td>\n",
              "      <td>1441</td>\n",
              "      <td>42</td>\n",
              "      <td>801</td>\n",
              "      <td>34.309524</td>\n",
              "      <td>179.900125</td>\n",
              "    </tr>\n",
              "  </tbody>\n",
              "</table>\n",
              "</div>"
            ],
            "text/plain": [
              "    player_name  total_runs  outs  balls_played  average_runs  strike_rate\n",
              "468  B Stanlake           5     0             2      0.000000   250.000000\n",
              "220    Umar Gul          39     3            19     13.000000   205.263158\n",
              "502    S Sharma           8     0             4      0.000000   200.000000\n",
              "340    RS Sodhi           4     0             2      0.000000   200.000000\n",
              "407  AD Russell        1441    42           801     34.309524   179.900125"
            ]
          },
          "execution_count": 77,
          "metadata": {},
          "output_type": "execute_result"
        }
      ],
      "source": [
        "# Lets check out the first 5 values first\n",
        "top_strk_rate = batsman_df.sort_values(\"strike_rate\",ascending = False).head(5)\n",
        "top_strk_rate"
      ]
    },
    {
      "cell_type": "markdown",
      "metadata": {
        "id": "dRH3kPuI-4Uk"
      },
      "source": [
        "From this table we can see that players who have managed to made some score without playing a lot of balls got the highest strike rates, even though mathematically the data is correct logically it would be unfair to consider the player who have not played a lot and got good stike rate.\n",
        "\n",
        "_To watch the trend how the strike rate varies with number of balls played lets plot a scatter plot._"
      ]
    },
    {
      "cell_type": "code",
      "execution_count": null,
      "metadata": {
        "id": "rq96HAw2-4Uk",
        "outputId": "f091776b-10df-42fe-cd30-1ca878306fd0"
      },
      "outputs": [
        {
          "data": {
            "image/png": "[encoded data removed]",
            "text/plain": [
              "<Figure size 864x576 with 1 Axes>"
            ]
          },
          "metadata": {
            "needs_background": "light"
          },
          "output_type": "display_data"
        }
      ],
      "source": [
        "plt.figure(figsize=(12,8 ))\n",
        "plt.title('Strike Rate vs Balls Played')\n",
        "\n",
        "sns.scatterplot(x=batsman_df.balls_played,\n",
        "                y=batsman_df.strike_rate,\n",
        "                s=60\n",
        "               );"
      ]
    },
    {
      "cell_type": "markdown",
      "metadata": {
        "id": "XN7hRbBI-4Ul"
      },
      "source": [
        "From the above graph we can see that for more numbers of ball played the srike rate of players tends to remains in the range 130 - 150 and varies a lot when the number of balls played is too less. This shows when players plays a lot of matches the strike rates gets fixed near a nearly constant value. To see the top players with best strike rates we will see only those players who have played at least 300 balls(50 overs)."
      ]
    },
    {
      "cell_type": "code",
      "execution_count": null,
      "metadata": {
        "id": "7isub4a5-4Ul",
        "outputId": "0ded3742-73f3-48f0-8817-583b3d438ba0"
      },
      "outputs": [
        {
          "data": {
            "text/plain": [
              "<AxesSubplot:title={'center':'Strike Rate per Player'}, xlabel='player_name', ylabel='strike_rate'>"
            ]
          },
          "execution_count": 80,
          "metadata": {},
          "output_type": "execute_result"
        },
        {
          "data": {
            "image/png": "[encoded data removed]",
            "text/plain": [
              "<Figure size 720x360 with 1 Axes>"
            ]
          },
          "metadata": {
            "needs_background": "light"
          },
          "output_type": "display_data"
        }
      ],
      "source": [
        "top_strk_rate = batsman_df[batsman_df.balls_played >=300].sort_values(\"strike_rate\",ascending = False).head(10)\n",
        "plt.figure(figsize=(10,5))\n",
        "plt.xticks(rotation=75)\n",
        "plt.title(\"Strike Rate per Player\")\n",
        "sns.barplot(x=top_strk_rate.player_name, y=top_strk_rate.strike_rate)"
      ]
    },
    {
      "cell_type": "markdown",
      "metadata": {
        "id": "Gbp3TVot-4Ul"
      },
      "source": [
        "#### Top 10 players in the basis of runs scored till IPL 2019\n",
        "Let us plot a bar graph of Total_Runs vs Player and see the result."
      ]
    },
    {
      "cell_type": "code",
      "execution_count": null,
      "metadata": {
        "id": "xasmU1lU-4Um",
        "outputId": "23a17d40-c341-4256-e2f9-a3a400375741"
      },
      "outputs": [
        {
          "data": {
            "text/html": [
              "<div>\n",
              "<style scoped>\n",
              "    .dataframe tbody tr th:only-of-type {\n",
              "        vertical-align: middle;\n",
              "    }\n",
              "\n",
              "    .dataframe tbody tr th {\n",
              "        vertical-align: top;\n",
              "    }\n",
              "\n",
              "    .dataframe thead th {\n",
              "        text-align: right;\n",
              "    }\n",
              "</style>\n",
              "<table border=\"1\" class=\"dataframe\">\n",
              "  <thead>\n",
              "    <tr style=\"text-align: right;\">\n",
              "      <th></th>\n",
              "      <th>player_name</th>\n",
              "      <th>total_runs</th>\n",
              "      <th>outs</th>\n",
              "      <th>balls_played</th>\n",
              "      <th>average_runs</th>\n",
              "      <th>strike_rate</th>\n",
              "    </tr>\n",
              "  </thead>\n",
              "  <tbody>\n",
              "    <tr>\n",
              "      <th>87</th>\n",
              "      <td>V Kohli</td>\n",
              "      <td>5429</td>\n",
              "      <td>143</td>\n",
              "      <td>4209</td>\n",
              "      <td>37.965035</td>\n",
              "      <td>128.985507</td>\n",
              "    </tr>\n",
              "    <tr>\n",
              "      <th>33</th>\n",
              "      <td>SK Raina</td>\n",
              "      <td>5407</td>\n",
              "      <td>161</td>\n",
              "      <td>4041</td>\n",
              "      <td>33.583851</td>\n",
              "      <td>133.803514</td>\n",
              "    </tr>\n",
              "    <tr>\n",
              "      <th>19</th>\n",
              "      <td>RG Sharma</td>\n",
              "      <td>4914</td>\n",
              "      <td>155</td>\n",
              "      <td>3816</td>\n",
              "      <td>31.703226</td>\n",
              "      <td>128.773585</td>\n",
              "    </tr>\n",
              "    <tr>\n",
              "      <th>0</th>\n",
              "      <td>DA Warner</td>\n",
              "      <td>4741</td>\n",
              "      <td>109</td>\n",
              "      <td>3397</td>\n",
              "      <td>43.495413</td>\n",
              "      <td>139.564321</td>\n",
              "    </tr>\n",
              "    <tr>\n",
              "      <th>1</th>\n",
              "      <td>S Dhawan</td>\n",
              "      <td>4632</td>\n",
              "      <td>137</td>\n",
              "      <td>3776</td>\n",
              "      <td>33.810219</td>\n",
              "      <td>122.669492</td>\n",
              "    </tr>\n",
              "    <tr>\n",
              "      <th>6</th>\n",
              "      <td>CH Gayle</td>\n",
              "      <td>4535</td>\n",
              "      <td>108</td>\n",
              "      <td>3119</td>\n",
              "      <td>41.990741</td>\n",
              "      <td>145.399166</td>\n",
              "    </tr>\n",
              "    <tr>\n",
              "      <th>30</th>\n",
              "      <td>MS Dhoni</td>\n",
              "      <td>4477</td>\n",
              "      <td>105</td>\n",
              "      <td>3318</td>\n",
              "      <td>42.638095</td>\n",
              "      <td>134.930681</td>\n",
              "    </tr>\n",
              "    <tr>\n",
              "      <th>64</th>\n",
              "      <td>RV Uthappa</td>\n",
              "      <td>4444</td>\n",
              "      <td>153</td>\n",
              "      <td>3490</td>\n",
              "      <td>29.045752</td>\n",
              "      <td>127.335244</td>\n",
              "    </tr>\n",
              "    <tr>\n",
              "      <th>71</th>\n",
              "      <td>AB de Villiers</td>\n",
              "      <td>4415</td>\n",
              "      <td>110</td>\n",
              "      <td>2973</td>\n",
              "      <td>40.136364</td>\n",
              "      <td>148.503195</td>\n",
              "    </tr>\n",
              "    <tr>\n",
              "      <th>36</th>\n",
              "      <td>G Gambhir</td>\n",
              "      <td>4223</td>\n",
              "      <td>136</td>\n",
              "      <td>3524</td>\n",
              "      <td>31.051471</td>\n",
              "      <td>119.835414</td>\n",
              "    </tr>\n",
              "  </tbody>\n",
              "</table>\n",
              "</div>"
            ],
            "text/plain": [
              "       player_name  total_runs  outs  balls_played  average_runs  strike_rate\n",
              "87         V Kohli        5429   143          4209     37.965035   128.985507\n",
              "33        SK Raina        5407   161          4041     33.583851   133.803514\n",
              "19       RG Sharma        4914   155          3816     31.703226   128.773585\n",
              "0        DA Warner        4741   109          3397     43.495413   139.564321\n",
              "1         S Dhawan        4632   137          3776     33.810219   122.669492\n",
              "6         CH Gayle        4535   108          3119     41.990741   145.399166\n",
              "30        MS Dhoni        4477   105          3318     42.638095   134.930681\n",
              "64      RV Uthappa        4444   153          3490     29.045752   127.335244\n",
              "71  AB de Villiers        4415   110          2973     40.136364   148.503195\n",
              "36       G Gambhir        4223   136          3524     31.051471   119.835414"
            ]
          },
          "execution_count": 81,
          "metadata": {},
          "output_type": "execute_result"
        }
      ],
      "source": [
        "highest_run = batsman_df.sort_values('total_runs',ascending = False).head(10)\n",
        "highest_run"
      ]
    },
    {
      "cell_type": "code",
      "execution_count": null,
      "metadata": {
        "id": "DmphbdRf-4Um",
        "outputId": "1e726ba6-02e2-4c1b-90d0-93985744f98c"
      },
      "outputs": [
        {
          "data": {
            "image/png": "[encoded data removed]",
            "text/plain": [
              "<Figure size 1008x360 with 1 Axes>"
            ]
          },
          "metadata": {
            "needs_background": "light"
          },
          "output_type": "display_data"
        }
      ],
      "source": [
        "plt.figure(figsize= (14,5))\n",
        "plt.title(\"Total Runs vs Player.\")\n",
        "sns.barplot(x=highest_run.total_runs,y=highest_run.player_name);"
      ]
    },
    {
      "cell_type": "markdown",
      "metadata": {
        "id": "T6BwHxNA-4Um"
      },
      "source": [
        "We can see that all the players in this list has a good total runs of more than 4000 with `V Kohli` and `SK Raina`  having a total runs near to 5500 which is a great total , this plot can help us visualize the best player scores of all time in IPL."
      ]
    },
    {
      "cell_type": "markdown",
      "metadata": {
        "id": "4ALb5QH7-4Un"
      },
      "source": [
        "## Asking and Answering Questions\n",
        "\n",
        "### Questions\n",
        "1. Does Winning the toss plays a role in winning the match?\n",
        "2. What are the most common types of dismissals?\n",
        "3. Which team has won most matches of IPL till now?\n",
        "4. Do the teams with highest win counts also tops in the chart of highest win percentage?\n",
        "5. Does Batting first/Fielding first helps a team to win when DL is applied?\n",
        "6. Which Stadiums are suited for batting, balling or has a neutral pitch?\n",
        "7. Does giving more extra runs effects in the result of the game?\n",
        "8. Who won the orange Cap Award and Purple Cap Award each Year?\n",
        "9. Who are the top 5 Umpires to look over matches in IPL?"
      ]
    },
    {
      "cell_type": "markdown",
      "metadata": {
        "id": "WygWDFPu-4Un"
      },
      "source": [
        "### Q. Does Winning toss plays a role in winning the match?\n",
        "\n",
        "Let's answer this question by observing the dataframe ipl_matches_df. We will compare how many team won after winning toss and how many teams lost after winning the toss.\n"
      ]
    },
    {
      "cell_type": "code",
      "execution_count": null,
      "metadata": {
        "id": "PhCPkKZg-4Un"
      },
      "outputs": [],
      "source": [
        "won= 0\n",
        "lost=0\n",
        "for ind in ipl_matches_df.index:\n",
        "    if ipl_matches_df['toss_winner'][ind] == ipl_matches_df['winner'][ind]:\n",
        "        won+=1\n",
        "    else:\n",
        "        lost+=1"
      ]
    },
    {
      "cell_type": "code",
      "execution_count": null,
      "metadata": {
        "id": "N1UAsiVn-4Uo",
        "outputId": "3e21f0a8-f169-4d2c-c885-fc2f7e2d4751"
      },
      "outputs": [
        {
          "data": {
            "image/png": "[encoded data removed]",
            "text/plain": [
              "<Figure size 576x432 with 1 Axes>"
            ]
          },
          "metadata": {},
          "output_type": "display_data"
        }
      ],
      "source": [
        "plt.figure(figsize=(8,6))\n",
        "plt.title(\"Won vs Lost after winning toss\")\n",
        "plt.pie((lost,won), labels=(\"Lost the match\",\"Won the match\"), autopct='%1.3f%%', startangle=90);"
      ]
    },
    {
      "cell_type": "markdown",
      "metadata": {
        "id": "M9XfO-TQ-4Uo"
      },
      "source": [
        "From the above pie chart we can see that toss does play a little factor but thats not enough to win a match for a team, other factors like players form, venue, pitch conditions, humidity etc. can also lead to win or defeat a team."
      ]
    },
    {
      "cell_type": "code",
      "execution_count": null,
      "metadata": {
        "id": "bvwupYyE-4Uo"
      },
      "outputs": [],
      "source": []
    },
    {
      "cell_type": "code",
      "execution_count": null,
      "metadata": {
        "id": "TtksRe7S-4Uo"
      },
      "outputs": [],
      "source": []
    },
    {
      "cell_type": "code",
      "execution_count": null,
      "metadata": {
        "id": "7ACZyTXv-4Up"
      },
      "outputs": [],
      "source": []
    },
    {
      "cell_type": "code",
      "execution_count": null,
      "metadata": {
        "id": "iarJvlw_-4Up"
      },
      "outputs": [],
      "source": []
    },
    {
      "cell_type": "code",
      "execution_count": null,
      "metadata": {
        "id": "t4JCyoeq-4Up"
      },
      "outputs": [],
      "source": []
    },
    {
      "cell_type": "code",
      "execution_count": null,
      "metadata": {
        "id": "7NtxMKf6-4Up"
      },
      "outputs": [],
      "source": []
    },
    {
      "cell_type": "code",
      "execution_count": null,
      "metadata": {
        "id": "40q_f2d9-4Up"
      },
      "outputs": [],
      "source": []
    },
    {
      "cell_type": "markdown",
      "metadata": {
        "id": "b6finJz8-4Uq"
      },
      "source": [
        "### Q. What are the most common types of dismissals?\n"
      ]
    },
    {
      "cell_type": "code",
      "execution_count": null,
      "metadata": {
        "id": "FbC1VF9S-4Uq",
        "outputId": "bae062e8-3a51-4df0-e252-c2aea7f628c6"
      },
      "outputs": [
        {
          "data": {
            "text/plain": [
              "array([nan, 'caught', 'bowled', 'run out', 'lbw', 'caught and bowled',\n",
              "       'stumped', 'retired hurt', 'hit wicket', 'obstructing the field'],\n",
              "      dtype=object)"
            ]
          },
          "execution_count": 89,
          "metadata": {},
          "output_type": "execute_result"
        }
      ],
      "source": [
        "# Lets observe the unique datas in dismissal_kind column\n",
        "deliveries_df.dismissal_kind.unique()"
      ]
    },
    {
      "cell_type": "code",
      "execution_count": null,
      "metadata": {
        "id": "cUFnA8hD-4Ur",
        "outputId": "255b062e-b143-469f-d2cc-d2760d6fdbf7"
      },
      "outputs": [
        {
          "data": {
            "text/plain": [
              "array(['caught', 'bowled', 'run out', 'lbw', 'caught and bowled',\n",
              "       'stumped', 'retired hurt', 'hit wicket', 'obstructing the field'],\n",
              "      dtype=object)"
            ]
          },
          "execution_count": 90,
          "metadata": {},
          "output_type": "execute_result"
        }
      ],
      "source": [
        "# To get our answer we will first remove all the null values and save the rest in a variable\n",
        "demo_df = deliveries_df[deliveries_df.dismissal_kind.notnull()]\n",
        "demo_df.dismissal_kind.unique()"
      ]
    },
    {
      "cell_type": "code",
      "execution_count": null,
      "metadata": {
        "id": "ShOnrPJZ-4Ur",
        "outputId": "6f9f2342-0506-4291-b82a-89dece30b679"
      },
      "outputs": [
        {
          "data": {
            "image/png": "[encoded data removed]",
            "text/plain": [
              "<Figure size 1008x720 with 1 Axes>"
            ]
          },
          "metadata": {},
          "output_type": "display_data"
        }
      ],
      "source": [
        "# Now lets run the  code to observe our desired answer.\n",
        "di = dict(Counter(demo_df.dismissal_kind))\n",
        "to_rem = list()\n",
        "other = 0\n",
        "for item in di.keys():\n",
        "    if di[item] <=300:\n",
        "        other += di[item]\n",
        "        to_rem.append(item)\n",
        "di[\"others(C&B,stmpd,rtrd hrt,hit wckt,obstructing fld)\"] = other\n",
        "for i in to_rem:\n",
        "    di.pop(i)\n",
        "plt.figure(figsize=(14,10))\n",
        "plt.title(\"Types of Dismissals\")\n",
        "plt.pie(di.values(), labels=di.keys(), autopct='%1.3f%%', startangle=90);"
      ]
    },
    {
      "cell_type": "markdown",
      "metadata": {
        "id": "A22l50w_-4Us"
      },
      "source": [
        "From the above chart we can see the most common types of dismissals are `caught`,`bowled`,`run out` and `lbw`. All of these has a chance of nearly 95% and `CATCH OUT` being the most common type of dismissal among them. Approximately 6 out of every 10 Batsmen gets dismissed by type Catch out. There is only 5 % chance of getting a player dismissed by hit wicket, stumped, obstructing the field, Caught and Bowled and retired hurt(others)."
      ]
    },
    {
      "cell_type": "markdown",
      "metadata": {
        "id": "zpfwekgW-4Ut"
      },
      "source": [
        "### Q. Which team has won most matches of IPL till now?\n",
        "\n",
        "Before we saw who won most IPL seasons, now we will see the stats of which teams have won most match for the last 12 seasons. Though winning an IPL season cup is the biggest achievement for a team but winning most matches can also give us an idea about how good a team is, aren't you eager to know if its your favourite team on not? Let's Check\n",
        "\n",
        "\n",
        "\n"
      ]
    },
    {
      "cell_type": "code",
      "execution_count": null,
      "metadata": {
        "id": "XLC_qOZZ-4Ut",
        "outputId": "e27dbac9-56a0-4626-85cf-8da0626af03e"
      },
      "outputs": [
        {
          "data": {
            "text/html": [
              "<div>\n",
              "<style scoped>\n",
              "    .dataframe tbody tr th:only-of-type {\n",
              "        vertical-align: middle;\n",
              "    }\n",
              "\n",
              "    .dataframe tbody tr th {\n",
              "        vertical-align: top;\n",
              "    }\n",
              "\n",
              "    .dataframe thead th {\n",
              "        text-align: right;\n",
              "    }\n",
              "</style>\n",
              "<table border=\"1\" class=\"dataframe\">\n",
              "  <thead>\n",
              "    <tr style=\"text-align: right;\">\n",
              "      <th></th>\n",
              "      <th>Team Name</th>\n",
              "      <th>NO. Of Wins</th>\n",
              "    </tr>\n",
              "  </thead>\n",
              "  <tbody>\n",
              "    <tr>\n",
              "      <th>0</th>\n",
              "      <td>Mumbai Indians</td>\n",
              "      <td>107</td>\n",
              "    </tr>\n",
              "    <tr>\n",
              "      <th>1</th>\n",
              "      <td>Chennai Super Kings</td>\n",
              "      <td>100</td>\n",
              "    </tr>\n",
              "    <tr>\n",
              "      <th>2</th>\n",
              "      <td>Kolkata Knight Riders</td>\n",
              "      <td>92</td>\n",
              "    </tr>\n",
              "    <tr>\n",
              "      <th>3</th>\n",
              "      <td>Royal Challengers Bangalore</td>\n",
              "      <td>83</td>\n",
              "    </tr>\n",
              "    <tr>\n",
              "      <th>4</th>\n",
              "      <td>Kings XI Punjab</td>\n",
              "      <td>80</td>\n",
              "    </tr>\n",
              "  </tbody>\n",
              "</table>\n",
              "</div>"
            ],
            "text/plain": [
              "                     Team Name NO. Of Wins\n",
              "0               Mumbai Indians         107\n",
              "1          Chennai Super Kings         100\n",
              "2        Kolkata Knight Riders          92\n",
              "3  Royal Challengers Bangalore          83\n",
              "4              Kings XI Punjab          80"
            ]
          },
          "execution_count": 92,
          "metadata": {},
          "output_type": "execute_result"
        }
      ],
      "source": [
        "resulted_matches = ipl_matches_df[ipl_matches_df.result != \"tie\"].copy() #Omitting the tied matches\n",
        "most_win = pd.DataFrame(columns = {\"Team Name\",\"NO. Of Wins\"})\n",
        "teams = dict(Counter(resulted_matches[resulted_matches.winner.notnull()].winner))\n",
        "for i,v in teams.items():\n",
        "    most_win=most_win.append({\"Team Name\":i,\"NO. Of Wins\":v},ignore_index=True)\n",
        "most_win.sort_values(\"NO. Of Wins\",ascending = False,inplace = True)\n",
        "most_win.reset_index()[[\"Team Name\",\"NO. Of Wins\"]].head(5)"
      ]
    },
    {
      "cell_type": "markdown",
      "metadata": {
        "id": "3af5-v0Q-4Uu"
      },
      "source": [
        "We can see that both __Mumbai Indians__ won most number of matches with a total winning count of 107. __Chennai Super Kings__ (100 wins) is in the 2nd spot with respect to winnning matches followed by __Kolkata Knight Riders__ (92 wins).\n",
        "It's not surprising though because these are the teams who have won 4,3 and 2 ipl Seasons respectively. But in the 4th spot we see __Royal Challengers Bangalore__ which is preety surprising given the fact that they have never won any IPL seasons. This chart gives us an idea about why _RCB_ have a big fanbase inspite of never winning a single IPL Season.\n",
        "\n",
        "The above Table gives us an idea of how many matches each team has won in total but to get an idea of how well a team plays we have to compare how many matches each team has won vs total matches played which gives us an idea of the win ratio/win percentage of each team and is a more better way to compare the ability of a team. That brings us to our next Question.\n",
        "\n",
        "### Q. Do the teams with highest win counts also tops in the chart of highest win percentage?\n"
      ]
    },
    {
      "cell_type": "code",
      "execution_count": null,
      "metadata": {
        "id": "fnBB7ojY-4Uu",
        "outputId": "714305bc-033a-4bf5-b380-45e826ba37f1"
      },
      "outputs": [
        {
          "data": {
            "image/png": "[encoded data removed]",
            "text/plain": [
              "<Figure size 1008x432 with 1 Axes>"
            ]
          },
          "metadata": {
            "needs_background": "light"
          },
          "output_type": "display_data"
        }
      ],
      "source": [
        "resulted_matches = resulted_matches[resulted_matches.result != \"no result\"].copy() # Omitting the matches with no results\n",
        "teams_play_count = dict(Counter(resulted_matches.team1)+Counter(resulted_matches.team2)) #total matches played by a team\n",
        "teams = dict(Counter(resulted_matches[resulted_matches.winner.notnull()].winner)) # total wins per team\n",
        "for team in teams:\n",
        "    teams[team] = round((teams[team]*100)/teams_play_count[team],2)\n",
        "win_percentage = pd.DataFrame(columns = {\"Team Name\",\"Win Percentage\"})\n",
        "for i,v in teams.items():\n",
        "    win_percentage=win_percentage.append({\"Team Name\":i,\"Win Percentage\":v},ignore_index=True)\n",
        "win_percentage.sort_values(\"Win Percentage\",ascending = False,inplace = True)\n",
        "plt.figure(figsize= (14,6))\n",
        "plt.title(\"Win Percentage per Team\")\n",
        "plt.xticks(range(0,101,10))\n",
        "sns.barplot(y= win_percentage[\"Team Name\"] , x = win_percentage[\"Win Percentage\"]).set(xlim = (0,100));"
      ]
    },
    {
      "cell_type": "markdown",
      "metadata": {
        "id": "ymejYzFM-4Uu"
      },
      "source": [
        "From the graph we can see the highest win percentage is of the team `Rising Pune Supergiant` while `Chennai Super ` and `Mumbai Indians` still belongs in one of the top 5 teams in Win Percentage Table."
      ]
    },
    {
      "cell_type": "markdown",
      "metadata": {
        "id": "bRW_nY0S-4Uv"
      },
      "source": [
        "### Q. Does Batting first/Fielding first helps a team to win when DL is applied?\n",
        "\n",
        "D/L or the Duckworth–Lewis–Stern method is a mathematical formulation designed to calculate the target score for the team batting second in a limited overs cricket match interrupted by weather or other circumstances. The method was devised by two English statisticians, Frank Duckworth and Tony Lewis, and was formerly known as the Duckworth–Lewis method (D/L). It was introduced in 1997, and adopted officially by the ICC in 1999. After the retirements of Duckworth and Lewis, Professor Steven Stern became the custodian of the method and it was renamed to its current title in November 2014. Click here [Wikipedia](https://en.wikipedia.org/wiki/Duckworth–Lewis–Stern_method) to know about D/L method.\n"
      ]
    },
    {
      "cell_type": "code",
      "execution_count": null,
      "metadata": {
        "id": "vIMk0iDR-4Uv",
        "outputId": "1902c28d-fe29-48e3-a302-6d5160dd9c65"
      },
      "outputs": [
        {
          "name": "stdout",
          "output_type": "stream",
          "text": [
            "Total Matches in which D/L are applied in IPL till now : 19\n"
          ]
        }
      ],
      "source": [
        "fielding_first_won = 0\n",
        "batting_first_won = 0\n",
        "dl_matches = ipl_matches_df[ipl_matches_df.dl_applied == 1].copy()\n",
        "\n",
        "# First lets choose those teams who won toss and chose fielding first and won the game\n",
        "fielding_first_teams = dl_matches[dl_matches.toss_decision == \"field\"]\n",
        "fielding_first_teams.reset_index(inplace=True)\n",
        "for i in range(len(fielding_first_teams)):\n",
        "    # We will check if a team fielding first won or not\n",
        "    if fielding_first_teams[\"toss_winner\"][i] == fielding_first_teams[\"winner\"][i]:\n",
        "        fielding_first_won+=1\n",
        "    else:\n",
        "        batting_first_won+=1 # The maches in which a team did not won after choosing fielding first are the matches when batting first team won\n",
        "\n",
        "#Similarly we will do the same process for batting first teams\n",
        "batting_first_teams = dl_matches[dl_matches.toss_decision == \"bat\"]\n",
        "batting_first_teams.reset_index(inplace=True)\n",
        "for i in range(len(batting_first_teams)):\n",
        "    # We will check if a team fielding first won or not\n",
        "    if batting_first_teams[\"toss_winner\"][i] == batting_first_teams[\"winner\"][i]:\n",
        "        batting_first_won+=1 # The matches in which a team chose to bat first\n",
        "    else:\n",
        "        fielding_first_won+=1 # The matches in which a team chose to bat first but lost in those fielding first teams won\n",
        "print(\"Total Matches in which D/L are applied in IPL till now :\",len(dl_matches))"
      ]
    },
    {
      "cell_type": "code",
      "execution_count": null,
      "metadata": {
        "id": "sP8pOXno-4Uw",
        "outputId": "2f28db10-fd42-4758-be5a-adc92838ae5a"
      },
      "outputs": [
        {
          "data": {
            "image/png": "[encoded data removed]",
            "text/plain": [
              "<Figure size 432x432 with 1 Axes>"
            ]
          },
          "metadata": {},
          "output_type": "display_data"
        }
      ],
      "source": [
        "# Now let's plot and see the resuts\n",
        "plt.figure(figsize=(6,6))\n",
        "plt.title(\"Winning Teams for D/L Matches\")\n",
        "plt.pie((fielding_first_won,batting_first_won),labels=(\"Fielding First Teams\",\"Batting First Teams\"),autopct='%1.3f%%',startangle = 180);"
      ]
    },
    {
      "cell_type": "markdown",
      "metadata": {
        "id": "AvC6XUHj-4Ux"
      },
      "source": [
        "From the above pie chart we can see that team who chose or got _Fielding first_ or the chasing team has a clear advantage of winning on the days when DL's are applied.\n"
      ]
    },
    {
      "cell_type": "markdown",
      "metadata": {
        "id": "qr7XYZxB-4Uy"
      },
      "source": [
        "### Q. Which Stadiums are suited for batting, bowling or has a neutral pitch?\n",
        "\n"
      ]
    },
    {
      "cell_type": "code",
      "execution_count": null,
      "metadata": {
        "id": "jybmwRCP-4Uy",
        "outputId": "8687ec17-16e3-456f-da31-72d50e12d731"
      },
      "outputs": [
        {
          "data": {
            "text/html": [
              "<div>\n",
              "<style scoped>\n",
              "    .dataframe tbody tr th:only-of-type {\n",
              "        vertical-align: middle;\n",
              "    }\n",
              "\n",
              "    .dataframe tbody tr th {\n",
              "        vertical-align: top;\n",
              "    }\n",
              "\n",
              "    .dataframe thead th {\n",
              "        text-align: right;\n",
              "    }\n",
              "</style>\n",
              "<table border=\"1\" class=\"dataframe\">\n",
              "  <thead>\n",
              "    <tr style=\"text-align: right;\">\n",
              "      <th></th>\n",
              "      <th>match_id</th>\n",
              "      <th>inning</th>\n",
              "      <th>extra_runs</th>\n",
              "      <th>total_runs</th>\n",
              "      <th>players_dismissed</th>\n",
              "    </tr>\n",
              "  </thead>\n",
              "  <tbody>\n",
              "    <tr>\n",
              "      <th>count</th>\n",
              "      <td>1512.000000</td>\n",
              "      <td>1512.000000</td>\n",
              "      <td>1512.000000</td>\n",
              "      <td>1512.000000</td>\n",
              "      <td>1512.000000</td>\n",
              "    </tr>\n",
              "    <tr>\n",
              "      <th>mean</th>\n",
              "      <td>1792.178571</td>\n",
              "      <td>1.500000</td>\n",
              "      <td>7.932540</td>\n",
              "      <td>155.478836</td>\n",
              "      <td>5.833333</td>\n",
              "    </tr>\n",
              "    <tr>\n",
              "      <th>std</th>\n",
              "      <td>3463.331539</td>\n",
              "      <td>0.500165</td>\n",
              "      <td>4.235546</td>\n",
              "      <td>32.483497</td>\n",
              "      <td>2.473152</td>\n",
              "    </tr>\n",
              "    <tr>\n",
              "      <th>min</th>\n",
              "      <td>1.000000</td>\n",
              "      <td>1.000000</td>\n",
              "      <td>0.000000</td>\n",
              "      <td>0.000000</td>\n",
              "      <td>0.000000</td>\n",
              "    </tr>\n",
              "    <tr>\n",
              "      <th>25%</th>\n",
              "      <td>189.750000</td>\n",
              "      <td>1.000000</td>\n",
              "      <td>5.000000</td>\n",
              "      <td>136.000000</td>\n",
              "      <td>4.000000</td>\n",
              "    </tr>\n",
              "    <tr>\n",
              "      <th>50%</th>\n",
              "      <td>378.500000</td>\n",
              "      <td>1.500000</td>\n",
              "      <td>7.000000</td>\n",
              "      <td>158.000000</td>\n",
              "      <td>6.000000</td>\n",
              "    </tr>\n",
              "    <tr>\n",
              "      <th>75%</th>\n",
              "      <td>567.250000</td>\n",
              "      <td>2.000000</td>\n",
              "      <td>10.000000</td>\n",
              "      <td>178.000000</td>\n",
              "      <td>8.000000</td>\n",
              "    </tr>\n",
              "    <tr>\n",
              "      <th>max</th>\n",
              "      <td>11415.000000</td>\n",
              "      <td>2.000000</td>\n",
              "      <td>28.000000</td>\n",
              "      <td>263.000000</td>\n",
              "      <td>10.000000</td>\n",
              "    </tr>\n",
              "  </tbody>\n",
              "</table>\n",
              "</div>"
            ],
            "text/plain": [
              "           match_id       inning   extra_runs   total_runs  players_dismissed\n",
              "count   1512.000000  1512.000000  1512.000000  1512.000000        1512.000000\n",
              "mean    1792.178571     1.500000     7.932540   155.478836           5.833333\n",
              "std     3463.331539     0.500165     4.235546    32.483497           2.473152\n",
              "min        1.000000     1.000000     0.000000     0.000000           0.000000\n",
              "25%      189.750000     1.000000     5.000000   136.000000           4.000000\n",
              "50%      378.500000     1.500000     7.000000   158.000000           6.000000\n",
              "75%      567.250000     2.000000    10.000000   178.000000           8.000000\n",
              "max    11415.000000     2.000000    28.000000   263.000000          10.000000"
            ]
          },
          "execution_count": 97,
          "metadata": {},
          "output_type": "execute_result"
        }
      ],
      "source": [
        "team_stats_df.describe()"
      ]
    },
    {
      "cell_type": "markdown",
      "metadata": {
        "id": "jN4O-X7D-4Uz"
      },
      "source": [
        "From the above data we can see the average score of every team in IPL till now 2019 is 155.47. For our observation we will consider any ground who has average score more than 160 can be treated as Batting pitch, average score less than 145 will be treated as Balling Pitch and the rest as Neutral.\n",
        "\n",
        "For our observation at first we will add the venue column to the above table team_stats_df."
      ]
    },
    {
      "cell_type": "code",
      "execution_count": null,
      "metadata": {
        "id": "RgP5ZwiC-4Uz",
        "outputId": "bdacb4a2-dc27-4d76-f8d7-522d037c6287"
      },
      "outputs": [
        {
          "data": {
            "text/html": [
              "<div>\n",
              "<style scoped>\n",
              "    .dataframe tbody tr th:only-of-type {\n",
              "        vertical-align: middle;\n",
              "    }\n",
              "\n",
              "    .dataframe tbody tr th {\n",
              "        vertical-align: top;\n",
              "    }\n",
              "\n",
              "    .dataframe thead th {\n",
              "        text-align: right;\n",
              "    }\n",
              "</style>\n",
              "<table border=\"1\" class=\"dataframe\">\n",
              "  <thead>\n",
              "    <tr style=\"text-align: right;\">\n",
              "      <th></th>\n",
              "      <th>Stadium Name</th>\n",
              "      <th>Favoured Stadium Type</th>\n",
              "    </tr>\n",
              "  </thead>\n",
              "  <tbody>\n",
              "    <tr>\n",
              "      <th>0</th>\n",
              "      <td>Rajiv Gandhi International Stadium, Uppal</td>\n",
              "      <td>Neutral</td>\n",
              "    </tr>\n",
              "    <tr>\n",
              "      <th>1</th>\n",
              "      <td>Maharashtra Cricket Association Stadium</td>\n",
              "      <td>Batting</td>\n",
              "    </tr>\n",
              "    <tr>\n",
              "      <th>2</th>\n",
              "      <td>Saurashtra Cricket Association Stadium</td>\n",
              "      <td>Batting</td>\n",
              "    </tr>\n",
              "    <tr>\n",
              "      <th>3</th>\n",
              "      <td>Holkar Cricket Stadium</td>\n",
              "      <td>Batting</td>\n",
              "    </tr>\n",
              "    <tr>\n",
              "      <th>4</th>\n",
              "      <td>M Chinnaswamy Stadium</td>\n",
              "      <td>Neutral</td>\n",
              "    </tr>\n",
              "    <tr>\n",
              "      <th>5</th>\n",
              "      <td>Wankhede Stadium</td>\n",
              "      <td>Batting</td>\n",
              "    </tr>\n",
              "    <tr>\n",
              "      <th>6</th>\n",
              "      <td>Eden Gardens</td>\n",
              "      <td>Neutral</td>\n",
              "    </tr>\n",
              "    <tr>\n",
              "      <th>7</th>\n",
              "      <td>Feroz Shah Kotla</td>\n",
              "      <td>Neutral</td>\n",
              "    </tr>\n",
              "    <tr>\n",
              "      <th>8</th>\n",
              "      <td>Punjab Cricket Association IS Bindra Stadium, ...</td>\n",
              "      <td>Batting</td>\n",
              "    </tr>\n",
              "    <tr>\n",
              "      <th>9</th>\n",
              "      <td>Green Park</td>\n",
              "      <td>Batting</td>\n",
              "    </tr>\n",
              "    <tr>\n",
              "      <th>10</th>\n",
              "      <td>Punjab Cricket Association Stadium, Mohali</td>\n",
              "      <td>Neutral</td>\n",
              "    </tr>\n",
              "    <tr>\n",
              "      <th>11</th>\n",
              "      <td>Sawai Mansingh Stadium</td>\n",
              "      <td>Neutral</td>\n",
              "    </tr>\n",
              "    <tr>\n",
              "      <th>12</th>\n",
              "      <td>MA Chidambaram Stadium, Chepauk</td>\n",
              "      <td>Neutral</td>\n",
              "    </tr>\n",
              "    <tr>\n",
              "      <th>13</th>\n",
              "      <td>Dr DY Patil Sports Academy</td>\n",
              "      <td>Bowling</td>\n",
              "    </tr>\n",
              "    <tr>\n",
              "      <th>14</th>\n",
              "      <td>Newlands</td>\n",
              "      <td>Bowling</td>\n",
              "    </tr>\n",
              "    <tr>\n",
              "      <th>15</th>\n",
              "      <td>St George's Park</td>\n",
              "      <td>Neutral</td>\n",
              "    </tr>\n",
              "    <tr>\n",
              "      <th>16</th>\n",
              "      <td>Kingsmead</td>\n",
              "      <td>Neutral</td>\n",
              "    </tr>\n",
              "    <tr>\n",
              "      <th>17</th>\n",
              "      <td>SuperSport Park</td>\n",
              "      <td>Neutral</td>\n",
              "    </tr>\n",
              "    <tr>\n",
              "      <th>18</th>\n",
              "      <td>Buffalo Park</td>\n",
              "      <td>Bowling</td>\n",
              "    </tr>\n",
              "    <tr>\n",
              "      <th>19</th>\n",
              "      <td>New Wanderers Stadium</td>\n",
              "      <td>Bowling</td>\n",
              "    </tr>\n",
              "    <tr>\n",
              "      <th>20</th>\n",
              "      <td>De Beers Diamond Oval</td>\n",
              "      <td>Neutral</td>\n",
              "    </tr>\n",
              "    <tr>\n",
              "      <th>21</th>\n",
              "      <td>OUTsurance Oval</td>\n",
              "      <td>Bowling</td>\n",
              "    </tr>\n",
              "    <tr>\n",
              "      <th>22</th>\n",
              "      <td>Brabourne Stadium</td>\n",
              "      <td>Batting</td>\n",
              "    </tr>\n",
              "    <tr>\n",
              "      <th>23</th>\n",
              "      <td>Sardar Patel Stadium, Motera</td>\n",
              "      <td>Neutral</td>\n",
              "    </tr>\n",
              "    <tr>\n",
              "      <th>24</th>\n",
              "      <td>Barabati Stadium</td>\n",
              "      <td>Batting</td>\n",
              "    </tr>\n",
              "    <tr>\n",
              "      <th>25</th>\n",
              "      <td>Vidarbha Cricket Association Stadium, Jamtha</td>\n",
              "      <td>Neutral</td>\n",
              "    </tr>\n",
              "    <tr>\n",
              "      <th>26</th>\n",
              "      <td>Himachal Pradesh Cricket Association Stadium</td>\n",
              "      <td>Batting</td>\n",
              "    </tr>\n",
              "    <tr>\n",
              "      <th>27</th>\n",
              "      <td>Nehru Stadium</td>\n",
              "      <td>Bowling</td>\n",
              "    </tr>\n",
              "    <tr>\n",
              "      <th>28</th>\n",
              "      <td>Dr. Y.S. Rajasekhara Reddy ACA-VDCA Cricket St...</td>\n",
              "      <td>Bowling</td>\n",
              "    </tr>\n",
              "    <tr>\n",
              "      <th>29</th>\n",
              "      <td>Subrata Roy Sahara Stadium</td>\n",
              "      <td>Bowling</td>\n",
              "    </tr>\n",
              "    <tr>\n",
              "      <th>30</th>\n",
              "      <td>Shaheed Veer Narayan Singh International Stadium</td>\n",
              "      <td>Neutral</td>\n",
              "    </tr>\n",
              "    <tr>\n",
              "      <th>31</th>\n",
              "      <td>JSCA International Stadium Complex</td>\n",
              "      <td>Neutral</td>\n",
              "    </tr>\n",
              "    <tr>\n",
              "      <th>32</th>\n",
              "      <td>Sheikh Zayed Stadium</td>\n",
              "      <td>Bowling</td>\n",
              "    </tr>\n",
              "    <tr>\n",
              "      <th>33</th>\n",
              "      <td>Sharjah Cricket Stadium</td>\n",
              "      <td>Neutral</td>\n",
              "    </tr>\n",
              "    <tr>\n",
              "      <th>34</th>\n",
              "      <td>Dubai International Cricket Stadium</td>\n",
              "      <td>Neutral</td>\n",
              "    </tr>\n",
              "    <tr>\n",
              "      <th>35</th>\n",
              "      <td>M. A. Chidambaram Stadium</td>\n",
              "      <td>Bowling</td>\n",
              "    </tr>\n",
              "    <tr>\n",
              "      <th>36</th>\n",
              "      <td>Feroz Shah Kotla Ground</td>\n",
              "      <td>Batting</td>\n",
              "    </tr>\n",
              "    <tr>\n",
              "      <th>37</th>\n",
              "      <td>M. Chinnaswamy Stadium</td>\n",
              "      <td>Batting</td>\n",
              "    </tr>\n",
              "    <tr>\n",
              "      <th>38</th>\n",
              "      <td>Rajiv Gandhi Intl. Cricket Stadium</td>\n",
              "      <td>Batting</td>\n",
              "    </tr>\n",
              "    <tr>\n",
              "      <th>39</th>\n",
              "      <td>IS Bindra Stadium</td>\n",
              "      <td>Batting</td>\n",
              "    </tr>\n",
              "    <tr>\n",
              "      <th>40</th>\n",
              "      <td>ACA-VDCA Stadium</td>\n",
              "      <td>Batting</td>\n",
              "    </tr>\n",
              "  </tbody>\n",
              "</table>\n",
              "</div>"
            ],
            "text/plain": [
              "                                         Stadium Name Favoured Stadium Type\n",
              "0           Rajiv Gandhi International Stadium, Uppal               Neutral\n",
              "1             Maharashtra Cricket Association Stadium               Batting\n",
              "2              Saurashtra Cricket Association Stadium               Batting\n",
              "3                              Holkar Cricket Stadium               Batting\n",
              "4                               M Chinnaswamy Stadium               Neutral\n",
              "5                                    Wankhede Stadium               Batting\n",
              "6                                        Eden Gardens               Neutral\n",
              "7                                    Feroz Shah Kotla               Neutral\n",
              "8   Punjab Cricket Association IS Bindra Stadium, ...               Batting\n",
              "9                                          Green Park               Batting\n",
              "10         Punjab Cricket Association Stadium, Mohali               Neutral\n",
              "11                             Sawai Mansingh Stadium               Neutral\n",
              "12                    MA Chidambaram Stadium, Chepauk               Neutral\n",
              "13                         Dr DY Patil Sports Academy               Bowling\n",
              "14                                           Newlands               Bowling\n",
              "15                                   St George's Park               Neutral\n",
              "16                                          Kingsmead               Neutral\n",
              "17                                    SuperSport Park               Neutral\n",
              "18                                       Buffalo Park               Bowling\n",
              "19                              New Wanderers Stadium               Bowling\n",
              "20                              De Beers Diamond Oval               Neutral\n",
              "21                                    OUTsurance Oval               Bowling\n",
              "22                                  Brabourne Stadium               Batting\n",
              "23                       Sardar Patel Stadium, Motera               Neutral\n",
              "24                                   Barabati Stadium               Batting\n",
              "25       Vidarbha Cricket Association Stadium, Jamtha               Neutral\n",
              "26       Himachal Pradesh Cricket Association Stadium               Batting\n",
              "27                                      Nehru Stadium               Bowling\n",
              "28  Dr. Y.S. Rajasekhara Reddy ACA-VDCA Cricket St...               Bowling\n",
              "29                         Subrata Roy Sahara Stadium               Bowling\n",
              "30   Shaheed Veer Narayan Singh International Stadium               Neutral\n",
              "31                 JSCA International Stadium Complex               Neutral\n",
              "32                               Sheikh Zayed Stadium               Bowling\n",
              "33                            Sharjah Cricket Stadium               Neutral\n",
              "34                Dubai International Cricket Stadium               Neutral\n",
              "35                          M. A. Chidambaram Stadium               Bowling\n",
              "36                            Feroz Shah Kotla Ground               Batting\n",
              "37                             M. Chinnaswamy Stadium               Batting\n",
              "38                 Rajiv Gandhi Intl. Cricket Stadium               Batting\n",
              "39                                  IS Bindra Stadium               Batting\n",
              "40                                   ACA-VDCA Stadium               Batting"
            ]
          },
          "execution_count": 98,
          "metadata": {},
          "output_type": "execute_result"
        }
      ],
      "source": [
        "team_stats_with_ground = pd.merge(team_stats_df,ipl_matches_df[{'id','venue'}],left_on = 'match_id',right_on='id')\n",
        "stadiums = team_stats_with_ground.venue.unique()\n",
        "stadium_type_df = pd.DataFrame(columns = {\"Stadium Name\",\"Favoured Stadium Type\"})\n",
        "for stadium in stadiums:\n",
        "    temp_df = team_stats_with_ground[team_stats_with_ground.venue == stadium]\n",
        "    avg = temp_df.describe()[\"total_runs\"][\"mean\"]\n",
        "    if avg<=145:\n",
        "        stadium_type_df = stadium_type_df.append({\"Stadium Name\": stadium,\"Favoured Stadium Type\": \"Bowling\"},ignore_index =True)\n",
        "    elif avg>=160:\n",
        "        stadium_type_df = stadium_type_df.append({\"Stadium Name\": stadium,\"Favoured Stadium Type\": \"Batting\"},ignore_index =True)\n",
        "    else:\n",
        "        stadium_type_df = stadium_type_df.append({\"Stadium Name\": stadium,\"Favoured Stadium Type\": \"Neutral\"},ignore_index =True)\n",
        "\n",
        "stadium_type_df.index +=1\n",
        "stadium_type_df.reset_index()[[\"Stadium Name\",\"Favoured Stadium Type\"]]"
      ]
    },
    {
      "cell_type": "markdown",
      "metadata": {
        "id": "rdJViqXU-4U0"
      },
      "source": [
        "The above list contains all stadiums where IPL matches were played showing which stadiums are favoured for batting or bowling or has a neutral pitch."
      ]
    },
    {
      "cell_type": "code",
      "execution_count": null,
      "metadata": {
        "id": "TEpu3fRs-4U0",
        "outputId": "c97cfc9e-4440-4a56-d97b-b865f163b350"
      },
      "outputs": [
        {
          "data": {
            "image/png": "[encoded data removed]",
            "text/plain": [
              "<Figure size 432x432 with 1 Axes>"
            ]
          },
          "metadata": {},
          "output_type": "display_data"
        }
      ],
      "source": [
        "# Comparing how many Batting favoured, Bowling favoured and Neutral stadiums are there.\n",
        "cnt = dict(Counter(stadium_type_df[\"Favoured Stadium Type\"]))\n",
        "plt.figure(figsize=(6,6))\n",
        "plt.title(\"Types of Stadiums\")\n",
        "plt.pie(list(cnt.values()),labels=list(cnt.keys()),autopct='%1.3f%%',startangle = 180);"
      ]
    },
    {
      "cell_type": "markdown",
      "metadata": {
        "id": "1YcduD4X-4U0"
      },
      "source": [
        "### Q. Does giving more extra runs effects in the result of the game?\n",
        "\n",
        "Let's check this question by comparing those teams who have won by giving more extra runs and those who lost by the same."
      ]
    },
    {
      "cell_type": "code",
      "execution_count": null,
      "metadata": {
        "id": "BAwo-rqf-4U1"
      },
      "outputs": [],
      "source": [
        "# At first let us remove all those match with results as NO result or tie i.e consider only matches with Normal result\n",
        "considered = ipl_matches_df[ipl_matches_df.result == \"normal\"]\n",
        "considered.reset_index(inplace = True)\n",
        "# Lets make a dictionary of ids of matches to winner of match:\n",
        "ids_di = dict()\n",
        "for i in range(len(considered)):\n",
        "    ids_di[considered[\"id\"][i]] = considered[\"winner\"][i]\n",
        "extra_more_loss = 0 #Teams for which giving more extra resulted in their defeat\n",
        "extra_more_won = 0 # Teams who won even after giving more extras\n",
        "for i in ids_di.keys():\n",
        "    di = dict()\n",
        "    match = deliveries_df[deliveries_df.match_id == i]\n",
        "    inning1 = match[match.inning == 1]\n",
        "    inning2 = match[match.inning == 2]\n",
        "    di[inning1.extra_runs.sum()] = inning1.bowling_team.unique()[0]\n",
        "    di[inning2.extra_runs.sum()] = inning2.bowling_team.unique()[0]\n",
        "    # We need to skip those teams who gave equal extra runs\n",
        "    if len(di) == 1:\n",
        "        continue\n",
        "    ma = max(di.keys()) # Getting the teams who gave more extra run\n",
        "    # Now lets check if the team loose after giving more extra runs\n",
        "    if di[ma] != ids_di[i]:\n",
        "        # Number of teams for who giving more extra run cost the match\n",
        "        extra_more_loss +=1\n",
        "    else:\n",
        "        #Number of teams who won even after giving more extra runs\n",
        "        extra_more_won+= 1"
      ]
    },
    {
      "cell_type": "code",
      "execution_count": null,
      "metadata": {
        "id": "kcNuhCRn-4U1",
        "outputId": "ef682228-77b2-4d2d-a56a-7d10c6210c58"
      },
      "outputs": [
        {
          "data": {
            "image/png": "[encoded data removed]",
            "text/plain": [
              "<Figure size 432x432 with 1 Axes>"
            ]
          },
          "metadata": {},
          "output_type": "display_data"
        }
      ],
      "source": [
        "plt.figure(figsize=(6,6))\n",
        "plt.title(\"Effect of extra runs in IPL matches\")\n",
        "plt.pie((extra_more_won , extra_more_loss),labels=(\"Gave more extra runs still won match\",\"Gave more extra runs and lost match\"),autopct='%1.2f%%',startangle = 90);"
      ]
    },
    {
      "cell_type": "markdown",
      "metadata": {
        "id": "t_1xy2ff-4U2"
      },
      "source": [
        "In the above chart we can see approx 52% matches depended on extra runs i.e. In 52% matches of all match ever happened in IPL the teams which gave extra runs lost the match. This shows giving more extra runs can decide the result of the match, so a team must always prevent from giving extra runs."
      ]
    },
    {
      "cell_type": "markdown",
      "metadata": {
        "id": "QZqsp2tz-4U2"
      },
      "source": [
        "### Q. Who are the top 5 Umpires to look over matches in IPL?\n",
        "\n",
        "Let us wrap up our Analyzation by answering the last question about Umpires. As umpires play a great a role in cricket matches we will look at the top 5 umpires who umpired in IPL till now."
      ]
    },
    {
      "cell_type": "code",
      "execution_count": null,
      "metadata": {
        "id": "58h7St7N-4U3",
        "outputId": "8526354f-d757-48e3-abc4-d6defc78c93c"
      },
      "outputs": [
        {
          "data": {
            "image/png": "[encoded data removed]",
            "text/plain": [
              "<Figure size 720x216 with 1 Axes>"
            ]
          },
          "metadata": {
            "needs_background": "light"
          },
          "output_type": "display_data"
        }
      ],
      "source": [
        "umpires_count = dict(Counter(ipl_matches_df.umpire1)+Counter(ipl_matches_df.umpire2))\n",
        "umpire_df = pd.DataFrame(columns = {\"Umpire Name\",\"Matches Umpired\"})\n",
        "for umpire in umpires_count:\n",
        "    umpire_df = umpire_df.append({\"Umpire Name\":umpire,\"Matches Umpired\":umpires_count[umpire]},ignore_index = True)\n",
        "umpire_df.sort_values(\"Matches Umpired\",inplace=True,ascending = False)\n",
        "umpire_df\n",
        "plt.figure(figsize= (10,3))\n",
        "plt.title(\"Total Matches Umpired\")\n",
        "plt.xticks(range(0,120,10))\n",
        "sns.barplot(x=umpire_df[\"Matches Umpired\"],y= umpire_df[\"Umpire Name\"].head(5));"
      ]
    },
    {
      "cell_type": "code",
      "execution_count": null,
      "metadata": {
        "id": "SGZbhZ27-4U3"
      },
      "outputs": [],
      "source": []
    },
    {
      "cell_type": "code",
      "execution_count": null,
      "metadata": {
        "id": "KHMl_UtD-4U3"
      },
      "outputs": [],
      "source": []
    },
    {
      "cell_type": "code",
      "execution_count": null,
      "metadata": {
        "id": "OErc7wCM-4U3"
      },
      "outputs": [],
      "source": []
    },
    {
      "cell_type": "markdown",
      "metadata": {
        "id": "Lq1pZGMk-4U5"
      },
      "source": [
        "## Asking and Answering Questions\n",
        "\n",
        "TODO - write some explanation here.\n",
        "\n"
      ]
    },
    {
      "cell_type": "markdown",
      "metadata": {
        "id": "PolcSw-l-4U5"
      },
      "source": [
        "> Instructions (delete this cell)\n",
        ">\n",
        "> - Ask at least 5 interesting questions about your dataset\n",
        "> - Answer the questions either by computing the results using Numpy/Pandas or by plotting graphs using Matplotlib/Seaborn\n",
        "> - Create new columns, merge multiple dataset and perform grouping/aggregation wherever necessary\n",
        "> - Wherever you're using a library function from Pandas/Numpy/Matplotlib etc. explain briefly what it does\n",
        "\n"
      ]
    },
    {
      "cell_type": "markdown",
      "metadata": {
        "id": "si-CDE-V-4U5"
      },
      "source": [
        "#### Q1: TODO - ask a question here and answer it below"
      ]
    },
    {
      "cell_type": "code",
      "execution_count": null,
      "metadata": {
        "id": "-B4V7MPl-4U5"
      },
      "outputs": [],
      "source": []
    },
    {
      "cell_type": "code",
      "execution_count": null,
      "metadata": {
        "id": "Ta9cTeOL-4U5"
      },
      "outputs": [],
      "source": []
    },
    {
      "cell_type": "code",
      "execution_count": null,
      "metadata": {
        "id": "OTzGKSSh-4U5"
      },
      "outputs": [],
      "source": []
    },
    {
      "cell_type": "markdown",
      "metadata": {
        "id": "LSEGQ3An-4U6"
      },
      "source": [
        "#### Q2: TODO - ask a question here and answer it below"
      ]
    },
    {
      "cell_type": "code",
      "execution_count": null,
      "metadata": {
        "id": "tQTgaKWf-4U6"
      },
      "outputs": [],
      "source": []
    },
    {
      "cell_type": "code",
      "execution_count": null,
      "metadata": {
        "id": "ZiMvyhsp-4U6"
      },
      "outputs": [],
      "source": []
    },
    {
      "cell_type": "code",
      "execution_count": null,
      "metadata": {
        "id": "HE86pwZk-4U6"
      },
      "outputs": [],
      "source": []
    },
    {
      "cell_type": "markdown",
      "metadata": {
        "id": "Hyz0WC7z-4U6"
      },
      "source": [
        "#### Q3: TODO - ask a question here and answer it below"
      ]
    },
    {
      "cell_type": "code",
      "execution_count": null,
      "metadata": {
        "id": "riS1W-Cv-4U6"
      },
      "outputs": [],
      "source": []
    },
    {
      "cell_type": "code",
      "execution_count": null,
      "metadata": {
        "id": "528G15d1-4U7"
      },
      "outputs": [],
      "source": []
    },
    {
      "cell_type": "code",
      "execution_count": null,
      "metadata": {
        "id": "sFCy99Vq-4U7"
      },
      "outputs": [],
      "source": []
    },
    {
      "cell_type": "markdown",
      "metadata": {
        "id": "uBGTcZXs-4U7"
      },
      "source": [
        "#### Q4: TODO - ask a question here and answer it below"
      ]
    },
    {
      "cell_type": "code",
      "execution_count": null,
      "metadata": {
        "id": "mEtWbUCU-4U7"
      },
      "outputs": [],
      "source": []
    },
    {
      "cell_type": "code",
      "execution_count": null,
      "metadata": {
        "id": "6EZYLesZ-4U7"
      },
      "outputs": [],
      "source": []
    },
    {
      "cell_type": "code",
      "execution_count": null,
      "metadata": {
        "id": "ips3Uv7l-4U7"
      },
      "outputs": [],
      "source": []
    },
    {
      "cell_type": "markdown",
      "metadata": {
        "id": "3fUiTjyO-4U8"
      },
      "source": [
        "#### Q5: TODO - ask a question here and answer it below"
      ]
    },
    {
      "cell_type": "code",
      "execution_count": null,
      "metadata": {
        "id": "J0yT4h0u-4U8"
      },
      "outputs": [],
      "source": []
    },
    {
      "cell_type": "code",
      "execution_count": null,
      "metadata": {
        "id": "ePCHDMfn-4U8"
      },
      "outputs": [],
      "source": []
    },
    {
      "cell_type": "code",
      "execution_count": null,
      "metadata": {
        "id": "RgBxWv2V-4U9"
      },
      "outputs": [],
      "source": []
    },
    {
      "cell_type": "markdown",
      "metadata": {
        "id": "nRbHJMkD-4U9"
      },
      "source": [
        "Let us save and upload our work to Jovian before continuing."
      ]
    },
    {
      "cell_type": "markdown",
      "metadata": {
        "id": "CPEwum_3-4U-"
      },
      "source": [
        "## Inferences and Conclusion\n",
        "\n",
        "**TODO** - Write some explanation here: a summary of all the inferences drawn from the analysis, and any conclusions you may have drawn by answering various questions."
      ]
    },
    {
      "cell_type": "code",
      "execution_count": null,
      "metadata": {
        "id": "CZMKGNEF-4U-"
      },
      "outputs": [],
      "source": [
        "import jovian"
      ]
    },
    {
      "cell_type": "code",
      "execution_count": null,
      "metadata": {
        "id": "5sRpRVRM-4U-",
        "outputId": "369e3596-e7ea-4ed0-ea4c-b476bfd299f5"
      },
      "outputs": [
        {
          "data": {
            "application/javascript": "window.require && require([\"base/js/namespace\"],function(Jupyter){Jupyter.notebook.save_checkpoint()})",
            "text/plain": [
              "<IPython.core.display.Javascript object>"
            ]
          },
          "metadata": {},
          "output_type": "display_data"
        },
        {
          "name": "stdout",
          "output_type": "stream",
          "text": [
            "[jovian] Attempting to save notebook..\u001b[0m\n",
            "[jovian] Updating notebook \"aakashns/zerotopandas-course-project-starter\" on https://jovian.ml/\u001b[0m\n",
            "[jovian] Uploading notebook..\u001b[0m\n",
            "[jovian] Capturing environment..\u001b[0m\n",
            "[jovian] Committed successfully! https://jovian.ml/aakashns/zerotopandas-course-project-starter\u001b[0m\n"
          ]
        },
        {
          "data": {
            "text/plain": [
              "'https://jovian.ml/aakashns/zerotopandas-course-project-starter'"
            ]
          },
          "execution_count": 31,
          "metadata": {},
          "output_type": "execute_result"
        }
      ],
      "source": [
        "jovian.commit()"
      ]
    },
    {
      "cell_type": "markdown",
      "metadata": {
        "id": "k7OVk77u-4U_"
      },
      "source": [
        "## References and Future Work\n",
        "\n",
        "**TODO** - Write some explanation here: ideas for future projects using this dataset, and links to resources you found useful."
      ]
    },
    {
      "cell_type": "markdown",
      "metadata": {
        "id": "c_-Vingd-4U_"
      },
      "source": [
        "> Submission Instructions (delete this cell)\n",
        ">\n",
        "> - Upload your notebook to your Jovian.ml profile using `jovian.commit`.\n",
        "> - **Make a submission here**: https://jovian.ml/learn/data-analysis-with-python-zero-to-pandas/assignment/course-project\n",
        "> - Share your work on the forum: https://jovian.ml/forum/t/course-project-on-exploratory-data-analysis-discuss-and-share-your-work/11684\n",
        "> - Share your work on social media (Twitter, LinkedIn, Telegram etc.) and tag [@JovianML](https://twitter.com/jovianml)\n",
        ">\n",
        "> (Optional) Write a blog post\n",
        ">\n",
        "> - A blog post is a great way to present and showcase your work.  \n",
        "> - Sign up on [Medium.com](https://medium.com) to write a blog post for your project.\n",
        "> - Copy over the explanations from your Jupyter notebook into your blog post, and [embed code cells & outputs](https://medium.com/jovianml/share-and-embed-jupyter-notebooks-online-with-jovian-ml-df709a03064e)\n",
        "> - Check out the Jovian.ml Medium publication for inspiration: https://medium.com/jovianml\n",
        "\n",
        "\n"
      ]
    },
    {
      "cell_type": "code",
      "execution_count": null,
      "metadata": {
        "id": "T1k6y0VZ-4U_"
      },
      "outputs": [],
      "source": [
        "import jovian"
      ]
    },
    {
      "cell_type": "code",
      "execution_count": null,
      "metadata": {
        "id": "0KjNbrUP-4VA",
        "outputId": "c89b27bb-a21a-45da-cfed-f5fb13c849ad",
        "scrolled": true
      },
      "outputs": [
        {
          "data": {
            "application/javascript": "window.require && require([\"base/js/namespace\"],function(Jupyter){Jupyter.notebook.save_checkpoint()})",
            "text/plain": [
              "<IPython.core.display.Javascript object>"
            ]
          },
          "metadata": {},
          "output_type": "display_data"
        },
        {
          "name": "stdout",
          "output_type": "stream",
          "text": [
            "[jovian] Attempting to save notebook..\u001b[0m\n",
            "[jovian] Updating notebook \"aakashns/zerotopandas-course-project-starter\" on https://jovian.ml/\u001b[0m\n",
            "[jovian] Uploading notebook..\u001b[0m\n",
            "[jovian] Capturing environment..\u001b[0m\n",
            "[jovian] Committed successfully! https://jovian.ml/aakashns/zerotopandas-course-project-starter\u001b[0m\n"
          ]
        },
        {
          "data": {
            "text/plain": [
              "'https://jovian.ml/aakashns/zerotopandas-course-project-starter'"
            ]
          },
          "execution_count": 35,
          "metadata": {},
          "output_type": "execute_result"
        }
      ],
      "source": [
        "jovian.commit()"
      ]
    },
    {
      "cell_type": "code",
      "execution_count": null,
      "metadata": {
        "id": "KAH5-gby-4VA"
      },
      "outputs": [],
      "source": []
    }
  ],
  "metadata": {
    "colab": {
      "provenance": []
    },
    "kernelspec": {
      "display_name": "Python 3",
      "language": "python",
      "name": "python3"
    },
    "language_info": {
      "codemirror_mode": {
        "name": "ipython",
        "version": 3
      },
      "file_extension": ".py",
      "mimetype": "text/x-python",
      "name": "python",
      "nbconvert_exporter": "python",
      "pygments_lexer": "ipython3",
      "version": "3.12.5"
    }
  },
  "nbformat": 4,
  "nbformat_minor": 0
}
