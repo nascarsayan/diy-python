{
 "cells": [
  {
   "cell_type": "markdown",
   "metadata": {},
   "source": [
    "<a target=\"_blank\" href=\"https://colab.research.google.com/github/nascarsayan/diy-python/blob/master/day5.ipynb\">\n",
    "  <img src=\"https://colab.research.google.com/assets/colab-badge.svg\" alt=\"Open In Colab\"/>\n",
    "</a>"
   ]
  },
  {
   "cell_type": "markdown",
   "metadata": {},
   "source": [
    "### Handling HTTP requests and responses using standard library"
   ]
  },
  {
   "cell_type": "markdown",
   "metadata": {},
   "source": [
    "#### Before running the code here, start the python server\n",
    "\n",
    "1. Open the terminal / powershell\n",
    "2. Navigate to the directory where the files are located\n",
    "3. Run the following command to start the server\n",
    "    ```bash\n",
    "    python3 http-server.py\n",
    "    ```"
   ]
  },
  {
   "cell_type": "code",
   "execution_count": 1,
   "metadata": {},
   "outputs": [],
   "source": [
    "import urllib.request"
   ]
  },
  {
   "cell_type": "code",
   "execution_count": 19,
   "metadata": {},
   "outputs": [
    {
     "data": {
      "text/plain": [
       "'\\nGET http://localhost:8000/todos\\n\\n###\\n\\nGET http://localhost:8000/todos/1\\n\\n###\\n\\nPOST http://localhost:8000/todos\\nContent-Type: application/json\\n\\n{\\n  \"title\": \"New Todo\",\\n  \"completed\": false\\n}\\n\\n###\\n\\nPUT http://localhost:8000/todos/3\\nContent-Type: application/json\\n\\n{\\n  \"title\": \"Updated Todo\",\\n  \"completed\": true\\n}\\n\\n###\\n\\nPATCH http://localhost:8000/todos/3\\nContent-Type: application/json\\n\\n{\\n  \"completed\": false\\n}\\n\\n\\n###\\n\\nDELETE http://localhost:8000/todos/3\\n\\n'"
      ]
     },
     "execution_count": 19,
     "metadata": {},
     "output_type": "execute_result"
    }
   ],
   "source": [
    "\"\"\"\n",
    "GET http://localhost:8000/todos\n",
    "\n",
    "###\n",
    "\n",
    "GET http://localhost:8000/todos/1\n",
    "\n",
    "###\n",
    "\n",
    "POST http://localhost:8000/todos\n",
    "Content-Type: application/json\n",
    "\n",
    "{\n",
    "  \"title\": \"New Todo\",\n",
    "  \"completed\": false\n",
    "}\n",
    "\n",
    "###\n",
    "\n",
    "PUT http://localhost:8000/todos/3\n",
    "Content-Type: application/json\n",
    "\n",
    "{\n",
    "  \"title\": \"Updated Todo\",\n",
    "  \"completed\": true\n",
    "}\n",
    "\n",
    "###\n",
    "\n",
    "PATCH http://localhost:8000/todos/3\n",
    "Content-Type: application/json\n",
    "\n",
    "{\n",
    "  \"completed\": false\n",
    "}\n",
    "\n",
    "\n",
    "###\n",
    "\n",
    "DELETE http://localhost:8000/todos/3\n",
    "\n",
    "\"\"\""
   ]
  },
  {
   "cell_type": "code",
   "execution_count": 20,
   "metadata": {},
   "outputs": [],
   "source": [
    "baseUrl = \"http://localhost:8000\""
   ]
  },
  {
   "cell_type": "code",
   "execution_count": 28,
   "metadata": {},
   "outputs": [],
   "source": [
    "import json\n",
    "\n",
    "def invokeMethod(url: str, method: str, data: dict = None):\n",
    "  dataBytes = None\n",
    "  headers = {}\n",
    "  if data is not None:\n",
    "    dataStr = json.dumps(data)\n",
    "    dataBytes = dataStr.encode(\"utf-8\")\n",
    "    headers = {\n",
    "      \"Content-Type\": \"application/json\"\n",
    "    }\n",
    "  request = urllib.request.Request(\n",
    "    url,\n",
    "    data=dataBytes,\n",
    "    headers=headers,\n",
    "    method=method)\n",
    "  response = urllib.request.urlopen(request)\n",
    "  body = response.read()\n",
    "  bodyStr = body.decode(\"utf-8\")\n",
    "  bodyJson = json.loads(bodyStr)\n",
    "  print(json.dumps(bodyJson, indent=2))\n"
   ]
  },
  {
   "cell_type": "code",
   "execution_count": 29,
   "metadata": {},
   "outputs": [
    {
     "name": "stdout",
     "output_type": "stream",
     "text": [
      "[\n",
      "  {\n",
      "    \"id\": 1,\n",
      "    \"name\": \"buy groceries\",\n",
      "    \"done\": false\n",
      "  },\n",
      "  {\n",
      "    \"id\": 2,\n",
      "    \"name\": \"cook dinner\",\n",
      "    \"done\": false\n",
      "  }\n",
      "]\n"
     ]
    }
   ],
   "source": [
    "invokeMethod(f\"{baseUrl}/todos\", \"GET\")"
   ]
  },
  {
   "cell_type": "code",
   "execution_count": 30,
   "metadata": {},
   "outputs": [
    {
     "name": "stdout",
     "output_type": "stream",
     "text": [
      "{\n",
      "  \"id\": 1,\n",
      "  \"name\": \"buy groceries\",\n",
      "  \"done\": false\n",
      "}\n"
     ]
    }
   ],
   "source": [
    "invokeMethod(f\"{baseUrl}/todos/1\", \"GET\")"
   ]
  },
  {
   "cell_type": "code",
   "execution_count": 24,
   "metadata": {},
   "outputs": [
    {
     "name": "stdout",
     "output_type": "stream",
     "text": [
      "{\n",
      "  \"title\": \"New Todo\",\n",
      "  \"completed\": false,\n",
      "  \"id\": 3\n",
      "}\n"
     ]
    }
   ],
   "source": [
    "invokeMethod(f\"{baseUrl}/todos\", \"POST\", {\n",
    "  \"title\": \"New Todo\",\n",
    "  \"completed\": False\n",
    "})"
   ]
  },
  {
   "cell_type": "code",
   "execution_count": 25,
   "metadata": {},
   "outputs": [
    {
     "name": "stdout",
     "output_type": "stream",
     "text": [
      "{\n",
      "  \"title\": \"Updated Todo\",\n",
      "  \"completed\": true,\n",
      "  \"id\": 3\n",
      "}\n"
     ]
    }
   ],
   "source": [
    "invokeMethod(f\"{baseUrl}/todos/3\", \"PUT\", {\n",
    "  \"title\": \"Updated Todo\",\n",
    "  \"completed\": True\n",
    "})"
   ]
  },
  {
   "cell_type": "code",
   "execution_count": 26,
   "metadata": {},
   "outputs": [
    {
     "name": "stdout",
     "output_type": "stream",
     "text": [
      "{\n",
      "  \"title\": \"Updated Todo\",\n",
      "  \"completed\": false,\n",
      "  \"id\": 3\n",
      "}\n"
     ]
    }
   ],
   "source": [
    "invokeMethod(f\"{baseUrl}/todos/3\", \"PATCH\", {\n",
    "  \"completed\": False\n",
    "})"
   ]
  },
  {
   "cell_type": "code",
   "execution_count": 27,
   "metadata": {},
   "outputs": [
    {
     "name": "stdout",
     "output_type": "stream",
     "text": [
      "{\n",
      "  \"title\": \"Updated Todo\",\n",
      "  \"completed\": false,\n",
      "  \"id\": 3\n",
      "}\n"
     ]
    }
   ],
   "source": [
    "invokeMethod(f\"{baseUrl}/todos/3\", \"DELETE\")"
   ]
  },
  {
   "cell_type": "markdown",
   "metadata": {},
   "source": [
    "### Some python utility components"
   ]
  },
  {
   "cell_type": "code",
   "execution_count": 4,
   "metadata": {},
   "outputs": [
    {
     "name": "stdout",
     "output_type": "stream",
     "text": [
      "Counter({1: 3, 2: 2, 4: 2, 5: 2, 6: 1})\n",
      "[(1, 3), (2, 2)]\n",
      "dict_items([(1, 3), (2, 2), (4, 2), (5, 2), (6, 1)])\n"
     ]
    }
   ],
   "source": [
    "arr = [1, 1, 2, 4, 1, 5, 6, 2, 4, 5]\n",
    "from collections import Counter\n",
    "# this will give k: v \n",
    "# where k is the element and v is the count of that element\n",
    "\n",
    "c = Counter(arr)\n",
    "print(c)\n",
    "# We want to get the kth most common element\n",
    "# We can use the most_common method\n",
    "\n",
    "k = 2\n",
    "print(c.most_common(k))\n",
    "\n",
    "# We want (value, frequency) pair\n",
    "# We can use the items method\n",
    "print(c.items())"
   ]
  },
  {
   "cell_type": "code",
   "execution_count": 6,
   "metadata": {},
   "outputs": [
    {
     "name": "stdout",
     "output_type": "stream",
     "text": [
      "0\n",
      "[]\n",
      "0\n",
      "defaultdict(<function <lambda> at 0x0000025FD18D5080>, {1: defaultdict(<class 'int'>, {2: 3}), 3: defaultdict(<class 'int'>, {4: 0})})\n",
      "0\n",
      "defaultdict(<class 'int'>, {(1, 2): 3, (3, 4): 0})\n"
     ]
    }
   ],
   "source": [
    "from collections import defaultdict\n",
    "\n",
    "# defaultDict is a dictionary that has a default value for keys that are not present\n",
    "\n",
    "# creating a defaultDict with default value as 0\n",
    "d = defaultdict(int)\n",
    "\n",
    "# if we try to access a key that is not present in the dictionary\n",
    "# it will return the default value\n",
    "print(d[\"key\"]) # 0\n",
    "\n",
    "# creating a defaultDict with default value as list\n",
    "d = defaultdict(list)\n",
    "\n",
    "print(d[\"key\"]) # []\n",
    "\n",
    "# creating a defaultDict with lambda function as default value\n",
    "\n",
    "# suppose we want to create a graph, with [u][v] as the weight of the edge between u and v\n",
    "\n",
    "graph = defaultdict(lambda: defaultdict(int))\n",
    "graph[1][2] = 3 # edge between 1 and 2 has weight 3\n",
    "print(graph[3][4]) # 0\n",
    "print(graph)\n",
    "\n",
    "# Another option we have is to use tuples as keys\n",
    "\n",
    "graph2 = defaultdict(int)\n",
    "graph2[(1, 2)] = 3 # edge between 1 and 2 has weight 3\n",
    "print(graph2[(3, 4)]) # 0\n",
    "print(graph2)"
   ]
  },
  {
   "cell_type": "markdown",
   "metadata": {},
   "source": [
    "### Suppose we want to sort a list using custom comparator function\n"
   ]
  },
  {
   "cell_type": "code",
   "execution_count": 9,
   "metadata": {},
   "outputs": [
    {
     "name": "stdout",
     "output_type": "stream",
     "text": [
      "[\n",
      "  {\n",
      "    \"name\": \"Bob\",\n",
      "    \"age\": 22,\n",
      "    \"marks\": 90,\n",
      "    \"attendance\": 85\n",
      "  },\n",
      "  {\n",
      "    \"name\": \"John\",\n",
      "    \"age\": 20,\n",
      "    \"marks\": 80,\n",
      "    \"attendance\": 90\n",
      "  },\n",
      "  {\n",
      "    \"name\": \"Alice\",\n",
      "    \"age\": 20,\n",
      "    \"marks\": 80,\n",
      "    \"attendance\": 90\n",
      "  },\n",
      "  {\n",
      "    \"name\": \"Charlie\",\n",
      "    \"age\": 23,\n",
      "    \"marks\": 80,\n",
      "    \"attendance\": 80\n",
      "  }\n",
      "]\n"
     ]
    }
   ],
   "source": [
    "\n",
    "arr = [\n",
    "  {\"name\": \"John\", \"age\": 20, \"marks\": 80, \"attendance\": 90},\n",
    "  {\"name\": \"Alice\", \"age\": 20, \"marks\": 80, \"attendance\": 90},\n",
    "  {\"name\": \"Bob\", \"age\": 22, \"marks\": 90, \"attendance\": 85},\n",
    "  {\"name\": \"Charlie\", \"age\": 23, \"marks\": 80, \"attendance\": 80},\n",
    "]\n",
    "\n",
    "# We want to sort the list based on the following criteria\n",
    "# 1. Sort based on marks in descending order\n",
    "# 2. If marks are same, sort based on attendance in descending order\n",
    "# 3. If attendance is same, sort based on age in descending order\n",
    "# 4. If age is same, sort based on name in ascending order\n",
    "\n",
    "# We can define a custom comparator function, and convert it to a key function using functools.cmp_to_key\n",
    "\n",
    "from functools import cmp_to_key\n",
    "\n",
    "def compare(a, b):\n",
    "  \"\"\"\n",
    "  Returns negative if a < b\n",
    "  Returns positive if a > b\n",
    "  \"\"\"\n",
    "  if a[\"marks\"] != b[\"marks\"]:\n",
    "    return b[\"marks\"] - a[\"marks\"]\n",
    "  if a[\"attendance\"] != b[\"attendance\"]:\n",
    "    return b[\"attendance\"] - a[\"attendance\"]\n",
    "  if a[\"age\"] != b[\"age\"]:\n",
    "    return b[\"age\"] - a[\"age\"]\n",
    "  return a[\"name\"] < b[\"name\"]\n",
    "\n",
    "import json\n",
    "arr.sort(key=cmp_to_key(compare))\n",
    "print(json.dumps(arr, indent=2))"
   ]
  },
  {
   "cell_type": "code",
   "execution_count": 10,
   "metadata": {},
   "outputs": [],
   "source": [
    "# Can you write the correponding pandas code for the above problem?\n",
    "\n",
    "import pandas as pd\n",
    "# TODO"
   ]
  },
  {
   "cell_type": "code",
   "execution_count": 14,
   "metadata": {},
   "outputs": [
    {
     "name": "stdout",
     "output_type": "stream",
     "text": [
      "[1, 3, 2, 6, 4]\n",
      "1\n",
      "[2, 3, 4, 6]\n",
      "[1, 3, 2, 6, 4]\n",
      "[1, 2, 3]\n"
     ]
    }
   ],
   "source": [
    "# heapq module provides heap data structure\n",
    "# heapq is a binary heap\n",
    "# heapq is a min heap\n",
    "# If we want to use it as a max heap, we can insert the negative of the elements\n",
    "\n",
    "import heapq\n",
    "\n",
    "heap = []\n",
    "heapq.heappush(heap, 1)\n",
    "heapq.heappush(heap, 3)\n",
    "heapq.heappush(heap, 2)\n",
    "heapq.heappush(heap, 6)\n",
    "heapq.heappush(heap, 4)\n",
    "print(heap)\n",
    "\n",
    "# Minimum element is heap[0]\n",
    "# We can remove the minimum element (and get it as function return value) using heapq.heappop\n",
    "print(heapq.heappop(heap))\n",
    "print(heap)\n",
    "\n",
    "# We can convert a list into a heap in O(n) time using heapq.heapify\n",
    "arr = [1, 3, 2, 6, 4]\n",
    "heapq.heapify(arr)\n",
    "print(arr)\n",
    "\n",
    "# We can get the kth smallest element in O(k) time\n",
    "k = 3\n",
    "print(heapq.nsmallest(k, arr))"
   ]
  },
  {
   "cell_type": "code",
   "execution_count": null,
   "metadata": {},
   "outputs": [],
   "source": []
  }
 ],
 "metadata": {
  "kernelspec": {
   "display_name": ".venv",
   "language": "python",
   "name": "python3"
  },
  "language_info": {
   "codemirror_mode": {
    "name": "ipython",
    "version": 3
   },
   "file_extension": ".py",
   "mimetype": "text/x-python",
   "name": "python",
   "nbconvert_exporter": "python",
   "pygments_lexer": "ipython3",
   "version": "3.12.5"
  }
 },
 "nbformat": 4,
 "nbformat_minor": 2
}
