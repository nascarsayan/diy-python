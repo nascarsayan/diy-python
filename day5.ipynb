{
 "cells": [
  {
   "cell_type": "markdown",
   "metadata": {},
   "source": [
    "<a target=\"_blank\" href=\"https://colab.research.google.com/github/nascarsayan/diy-python/blob/master/day5.ipynb\">\n",
    "  <img src=\"https://colab.research.google.com/assets/colab-badge.svg\" alt=\"Open In Colab\"/>\n",
    "</a>"
   ]
  },
  {
   "cell_type": "markdown",
   "metadata": {},
   "source": [
    "### Handling HTTP requests and responses using standard library"
   ]
  },
  {
   "cell_type": "markdown",
   "metadata": {},
   "source": [
    "#### Before running the code here, start the python server\n",
    "\n",
    "1. Open the terminal / powershell\n",
    "2. Navigate to the directory where the files are located\n",
    "3. Run the following command to start the server\n",
    "    ```bash\n",
    "    python3 http-server.py\n",
    "    ```"
   ]
  },
  {
   "cell_type": "code",
   "execution_count": 1,
   "metadata": {},
   "outputs": [],
   "source": [
    "import urllib.request"
   ]
  },
  {
   "cell_type": "code",
   "execution_count": 19,
   "metadata": {},
   "outputs": [
    {
     "data": {
      "text/plain": [
       "'\\nGET http://localhost:8000/todos\\n\\n###\\n\\nGET http://localhost:8000/todos/1\\n\\n###\\n\\nPOST http://localhost:8000/todos\\nContent-Type: application/json\\n\\n{\\n  \"title\": \"New Todo\",\\n  \"completed\": false\\n}\\n\\n###\\n\\nPUT http://localhost:8000/todos/3\\nContent-Type: application/json\\n\\n{\\n  \"title\": \"Updated Todo\",\\n  \"completed\": true\\n}\\n\\n###\\n\\nPATCH http://localhost:8000/todos/3\\nContent-Type: application/json\\n\\n{\\n  \"completed\": false\\n}\\n\\n\\n###\\n\\nDELETE http://localhost:8000/todos/3\\n\\n'"
      ]
     },
     "execution_count": 19,
     "metadata": {},
     "output_type": "execute_result"
    }
   ],
   "source": [
    "\"\"\"\n",
    "GET http://localhost:8000/todos\n",
    "\n",
    "###\n",
    "\n",
    "GET http://localhost:8000/todos/1\n",
    "\n",
    "###\n",
    "\n",
    "POST http://localhost:8000/todos\n",
    "Content-Type: application/json\n",
    "\n",
    "{\n",
    "  \"title\": \"New Todo\",\n",
    "  \"completed\": false\n",
    "}\n",
    "\n",
    "###\n",
    "\n",
    "PUT http://localhost:8000/todos/3\n",
    "Content-Type: application/json\n",
    "\n",
    "{\n",
    "  \"title\": \"Updated Todo\",\n",
    "  \"completed\": true\n",
    "}\n",
    "\n",
    "###\n",
    "\n",
    "PATCH http://localhost:8000/todos/3\n",
    "Content-Type: application/json\n",
    "\n",
    "{\n",
    "  \"completed\": false\n",
    "}\n",
    "\n",
    "\n",
    "###\n",
    "\n",
    "DELETE http://localhost:8000/todos/3\n",
    "\n",
    "\"\"\""
   ]
  },
  {
   "cell_type": "code",
   "execution_count": 20,
   "metadata": {},
   "outputs": [],
   "source": [
    "baseUrl = \"http://localhost:8000\""
   ]
  },
  {
   "cell_type": "code",
   "execution_count": 28,
   "metadata": {},
   "outputs": [],
   "source": [
    "import json\n",
    "\n",
    "def invokeMethod(url: str, method: str, data: dict = None):\n",
    "  dataBytes = None\n",
    "  headers = {}\n",
    "  if data is not None:\n",
    "    dataStr = json.dumps(data)\n",
    "    dataBytes = dataStr.encode(\"utf-8\")\n",
    "    headers = {\n",
    "      \"Content-Type\": \"application/json\"\n",
    "    }\n",
    "  request = urllib.request.Request(\n",
    "    url,\n",
    "    data=dataBytes,\n",
    "    headers=headers,\n",
    "    method=method)\n",
    "  response = urllib.request.urlopen(request)\n",
    "  body = response.read()\n",
    "  bodyStr = body.decode(\"utf-8\")\n",
    "  bodyJson = json.loads(bodyStr)\n",
    "  print(json.dumps(bodyJson, indent=2))\n"
   ]
  },
  {
   "cell_type": "code",
   "execution_count": 29,
   "metadata": {},
   "outputs": [
    {
     "name": "stdout",
     "output_type": "stream",
     "text": [
      "[\n",
      "  {\n",
      "    \"id\": 1,\n",
      "    \"name\": \"buy groceries\",\n",
      "    \"done\": false\n",
      "  },\n",
      "  {\n",
      "    \"id\": 2,\n",
      "    \"name\": \"cook dinner\",\n",
      "    \"done\": false\n",
      "  }\n",
      "]\n"
     ]
    }
   ],
   "source": [
    "invokeMethod(f\"{baseUrl}/todos\", \"GET\")"
   ]
  },
  {
   "cell_type": "code",
   "execution_count": 30,
   "metadata": {},
   "outputs": [
    {
     "name": "stdout",
     "output_type": "stream",
     "text": [
      "{\n",
      "  \"id\": 1,\n",
      "  \"name\": \"buy groceries\",\n",
      "  \"done\": false\n",
      "}\n"
     ]
    }
   ],
   "source": [
    "invokeMethod(f\"{baseUrl}/todos/1\", \"GET\")"
   ]
  },
  {
   "cell_type": "code",
   "execution_count": 24,
   "metadata": {},
   "outputs": [
    {
     "name": "stdout",
     "output_type": "stream",
     "text": [
      "{\n",
      "  \"title\": \"New Todo\",\n",
      "  \"completed\": false,\n",
      "  \"id\": 3\n",
      "}\n"
     ]
    }
   ],
   "source": [
    "invokeMethod(f\"{baseUrl}/todos\", \"POST\", {\n",
    "  \"title\": \"New Todo\",\n",
    "  \"completed\": False\n",
    "})"
   ]
  },
  {
   "cell_type": "code",
   "execution_count": 25,
   "metadata": {},
   "outputs": [
    {
     "name": "stdout",
     "output_type": "stream",
     "text": [
      "{\n",
      "  \"title\": \"Updated Todo\",\n",
      "  \"completed\": true,\n",
      "  \"id\": 3\n",
      "}\n"
     ]
    }
   ],
   "source": [
    "invokeMethod(f\"{baseUrl}/todos/3\", \"PUT\", {\n",
    "  \"title\": \"Updated Todo\",\n",
    "  \"completed\": True\n",
    "})"
   ]
  },
  {
   "cell_type": "code",
   "execution_count": 26,
   "metadata": {},
   "outputs": [
    {
     "name": "stdout",
     "output_type": "stream",
     "text": [
      "{\n",
      "  \"title\": \"Updated Todo\",\n",
      "  \"completed\": false,\n",
      "  \"id\": 3\n",
      "}\n"
     ]
    }
   ],
   "source": [
    "invokeMethod(f\"{baseUrl}/todos/3\", \"PATCH\", {\n",
    "  \"completed\": False\n",
    "})"
   ]
  },
  {
   "cell_type": "code",
   "execution_count": 27,
   "metadata": {},
   "outputs": [
    {
     "name": "stdout",
     "output_type": "stream",
     "text": [
      "{\n",
      "  \"title\": \"Updated Todo\",\n",
      "  \"completed\": false,\n",
      "  \"id\": 3\n",
      "}\n"
     ]
    }
   ],
   "source": [
    "invokeMethod(f\"{baseUrl}/todos/3\", \"DELETE\")"
   ]
  },
  {
   "cell_type": "code",
   "execution_count": null,
   "metadata": {},
   "outputs": [],
   "source": []
  }
 ],
 "metadata": {
  "kernelspec": {
   "display_name": ".venv",
   "language": "python",
   "name": "python3"
  },
  "language_info": {
   "codemirror_mode": {
    "name": "ipython",
    "version": 3
   },
   "file_extension": ".py",
   "mimetype": "text/x-python",
   "name": "python",
   "nbconvert_exporter": "python",
   "pygments_lexer": "ipython3",
   "version": "3.12.5"
  }
 },
 "nbformat": 4,
 "nbformat_minor": 2
}
