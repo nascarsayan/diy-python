{
 "cells": [
  {
   "attachments": {},
   "cell_type": "markdown",
   "metadata": {},
   "source": [
    "# Baking with the Gemini API\n",
    "\n",
    "To get started, [get an API key](https://g.co/ai/idxGetGeminiKey) and replace the word `TODO` below with your API key:"
   ]
  },
  {
   "cell_type": "code",
   "execution_count": 7,
   "metadata": {},
   "outputs": [],
   "source": [
    "API_KEY = 'TODO'"
   ]
  },
  {
   "attachments": {},
   "cell_type": "markdown",
   "metadata": {},
   "source": [
    "Once you're done, create a text prompt here:"
   ]
  },
  {
   "cell_type": "code",
   "execution_count": 22,
   "metadata": {},
   "outputs": [],
   "source": [
    "prompt = 'Provide an example recipe for the baked goods in the image'"
   ]
  },
  {
   "cell_type": "markdown",
   "metadata": {},
   "source": [
    "And load an image with PIL:"
   ]
  },
  {
   "cell_type": "code",
   "execution_count": null,
   "metadata": {},
   "outputs": [],
   "source": [
    "import PIL.Image\n",
    "img = PIL.Image.open('baked_goods_1.jpg')\n",
    "# img = PIL.Image.open('baked_goods_2.jpg')\n",
    "# img = PIL.Image.open('baked_goods_3.jpg')\n",
    "img"
   ]
  },
  {
   "attachments": {},
   "cell_type": "markdown",
   "metadata": {},
   "source": [
    "And finally, call the Gemini API using the Python client library. [See the docs](https://developers.generativeai.google/guide)"
   ]
  },
  {
   "cell_type": "code",
   "execution_count": 30,
   "metadata": {},
   "outputs": [
    {
     "data": {
      "text/markdown": [
       " Ingredients:\n",
       "\n",
       "* 2 1/4 cups all-purpose flour\n",
       "* 1 teaspoon baking soda\n",
       "* 1 teaspoon salt\n",
       "* 1 cup (2 sticks) unsalted butter, softened\n",
       "* 3/4 cup granulated sugar\n",
       "* 3/4 cup packed light brown sugar\n",
       "* 1 teaspoon vanilla extract\n",
       "* 2 large eggs\n",
       "* 1 cup semisweet chocolate chips\n",
       "\n",
       "Instructions:\n",
       "\n",
       "1. Preheat oven to 375 degrees F (190 degrees C).\n",
       "2. Line a baking sheet with parchment paper.\n",
       "3. In a medium bowl, whisk together the flour, baking soda, and salt.\n",
       "4. In a large bowl, cream together the butter, granulated sugar, and brown sugar until light and fluffy.\n",
       "5. Beat in the eggs one at a time, then stir in the vanilla.\n",
       "6. Gradually add the dry ingredients to the wet ingredients, mixing until just combined.\n",
       "7. Fold in the chocolate chips.\n",
       "8. Drop the dough by rounded tablespoons onto the prepared baking sheet, spacing them about 2 inches apart.\n",
       "9. Bake for 10-12 minutes, or until the edges are golden brown and the centers are set.\n",
       "10. Let cool on the baking sheet for a few minutes before transferring to a wire rack to cool completely."
      ],
      "text/plain": [
       "<IPython.core.display.Markdown object>"
      ]
     },
     "metadata": {},
     "output_type": "display_data"
    }
   ],
   "source": [
    "import google.generativeai as genai\n",
    "from IPython.display import Markdown, clear_output, display\n",
    "\n",
    "genai.configure(api_key=API_KEY)\n",
    "\n",
    "model = genai.GenerativeModel(model_name='gemini-1.5-flash')  # or gemini-1.5-pro\n",
    "response = model.generate_content([prompt, img], stream=True)\n",
    "\n",
    "buffer = []\n",
    "for chunk in response:\n",
    "    for part in chunk.parts:\n",
    "        buffer.append(part.text)\n",
    "    clear_output()\n",
    "    display(Markdown(''.join(buffer)))"
   ]
  }
 ],
 "metadata": {
  "kernelspec": {
   "display_name": "out",
   "language": "python",
   "name": "python3"
  },
  "language_info": {
   "codemirror_mode": {
    "name": "ipython",
    "version": 3
   },
   "file_extension": ".py",
   "mimetype": "text/x-python",
   "name": "python",
   "nbconvert_exporter": "python",
   "pygments_lexer": "ipython3",
   "version": "3.11.5"
  },
  "orig_nbformat": 4
 },
 "nbformat": 4,
 "nbformat_minor": 2
}
