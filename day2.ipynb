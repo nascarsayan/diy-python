{
  "cells": [
    {
      "cell_type": "markdown",
      "metadata": {},
      "source": [
        "## Day 2: Data Structures and Functions"
      ]
    },
    {
      "cell_type": "markdown",
      "metadata": {},
      "source": [
        "### Session 1: Lists and Tuples"
      ]
    },
    {
      "cell_type": "markdown",
      "metadata": {},
      "source": [
        "#### 1.1 Lists\n",
        "\n",
        "Lists are ordered, mutable collections of items. They can contain elements of different data types."
      ]
    },
    {
      "cell_type": "code",
      "execution_count": null,
      "metadata": {},
      "outputs": [
        {
          "ename": "",
          "evalue": "",
          "output_type": "error",
          "traceback": [
            "\u001b[1;31mRunning cells with 'Python 3.11.3' requires the ipykernel package.\n",
            "\u001b[1;31mRun the following command to install 'ipykernel' into the Python environment. \n",
            "\u001b[1;31mCommand: '/Users/nascarsayan/.pyenv/versions/3.11.3/bin/python -m pip install ipykernel -U --force-reinstall'"
          ]
        }
      ],
      "source": [
        "# Creating a list\n",
        "my_list = [1, 2, 3, \"Python\", True]\n",
        "print(my_list)"
      ]
    },
    {
      "cell_type": "markdown",
      "metadata": {},
      "source": [
        "#### 1.2 Accessing List Elements"
      ]
    },
    {
      "cell_type": "code",
      "execution_count": null,
      "metadata": {},
      "outputs": [],
      "source": [
        "# Accessing elements\n",
        "first_element = my_list[0]\n",
        "last_element = my_list[-1]\n",
        "print(\"First Element:\", first_element)\n",
        "print(\"Last Element:\", last_element)"
      ]
    },
    {
      "cell_type": "markdown",
      "metadata": {},
      "source": [
        "#### 1.3 List Methods and Operations"
      ]
    },
    {
      "cell_type": "code",
      "execution_count": null,
      "metadata": {},
      "outputs": [],
      "source": [
        "# List methods and operations\n",
        "my_list.append(\"New Element\")\n",
        "my_list.insert(1, \"Inserted Element\")\n",
        "print(my_list)\n",
        "concatenated_list = my_list + [\"Another List\"]\n",
        "sliced_list = my_list[1:4]\n",
        "print(\"Concatenated List:\", concatenated_list)\n",
        "print(\"Sliced List:\", sliced_list)"
      ]
    },
    {
      "cell_type": "markdown",
      "metadata": {},
      "source": [
        "#### 1.4 Tuples\n",
        "\n",
        "Tuples are ordered, immutable collections of items. They are similar to lists but cannot be modified after creation."
      ]
    },
    {
      "cell_type": "code",
      "execution_count": null,
      "metadata": {},
      "outputs": [],
      "source": [
        "# Creating a tuple\n",
        "my_tuple = (1, 2, 3, \"Python\", True)\n",
        "print(my_tuple)\n",
        "# Accessing elements\n",
        "print(\"First Element:\", my_tuple[0])\n",
        "print(\"Last Element:\", my_tuple[-1])"
      ]
    },
    {
      "cell_type": "markdown",
      "metadata": {},
      "source": [
        "### Session 2: Dictionaries and Sets"
      ]
    },
    {
      "cell_type": "markdown",
      "metadata": {},
      "source": [
        "#### 2.1 Dictionaries\n",
        "\n",
        "Dictionaries are collections of key-value pairs. They are unordered and mutable."
      ]
    },
    {
      "cell_type": "code",
      "execution_count": null,
      "metadata": {},
      "outputs": [],
      "source": [
        "# Creating a dictionary\n",
        "my_dict = {\"name\": \"John\", \"age\": 25}\n",
        "print(my_dict)\n",
        "# Accessing elements\n",
        "name = my_dict[\"name\"]\n",
        "age = my_dict.get(\"age\")\n",
        "print(\"Name:\", name)\n",
        "print(\"Age:\", age)\n",
        "# Adding/Modifying elements\n",
        "my_dict[\"address\"] = \"New York\"\n",
        "print(my_dict)"
      ]
    },
    {
      "cell_type": "markdown",
      "metadata": {},
      "source": [
        "#### 2.2 Dictionary Methods and Operations"
      ]
    },
    {
      "cell_type": "code",
      "execution_count": null,
      "metadata": {},
      "outputs": [],
      "source": [
        "# Dictionary methods\n",
        "keys = my_dict.keys()\n",
        "values = my_dict.values()\n",
        "items = my_dict.items()\n",
        "print(\"Keys:\", keys)\n",
        "print(\"Values:\", values)\n",
        "print(\"Items:\", items)\n",
        "# Checking for keys\n",
        "print(\"Is 'name' in dictionary?\", 'name' in my_dict)"
      ]
    },
    {
      "cell_type": "markdown",
      "metadata": {},
      "source": [
        "#### 2.3 Sets\n",
        "\n",
        "Sets are unordered collections of unique elements."
      ]
    },
    {
      "cell_type": "code",
      "execution_count": null,
      "metadata": {},
      "outputs": [],
      "source": [
        "# Creating a set\n",
        "my_set = {1, 2, 3, 4}\n",
        "print(my_set)\n",
        "# Set operations\n",
        "union_set = my_set | {3, 4, 5, 6}\n",
        "intersection_set = my_set & {3, 4, 5, 6}\n",
        "difference_set = my_set - {3, 4, 5, 6}\n",
        "print(\"Union:\", union_set)\n",
        "print(\"Intersection:\", intersection_set)\n",
        "print(\"Difference:\", difference_set)"
      ]
    },
    {
      "cell_type": "markdown",
      "metadata": {},
      "source": [
        "### Session 2: Functions"
      ]
    },
    {
      "cell_type": "markdown",
      "metadata": {},
      "source": [
        "#### 3.1 Defining and Calling Functions"
      ]
    },
    {
      "cell_type": "code",
      "execution_count": null,
      "metadata": {},
      "outputs": [],
      "source": [
        "# Defining a function\n",
        "def greet(name):\n",
        "    return \"Hello, \" + name\n",
        "# Calling a function\n",
        "print(greet(\"Alice\"))"
      ]
    },
    {
      "cell_type": "markdown",
      "metadata": {},
      "source": [
        "#### 3.2 Function Arguments and Return Values"
      ]
    },
    {
      "cell_type": "code",
      "execution_count": null,
      "metadata": {},
      "outputs": [],
      "source": [
        "# Positional arguments\n",
        "def add(a, b):\n",
        "    return a + b\n",
        "# Keyword arguments\n",
        "def greet(name=\"Guest\"):\n",
        "    return \"Hello, \" + name\n",
        "# Using the functions\n",
        "print(add(2, 3))\n",
        "print(greet())\n",
        "print(greet(\"Bob\"))"
      ]
    },
    {
      "cell_type": "markdown",
      "metadata": {},
      "source": [
        "#### 3.3 Lambda Functions"
      ]
    },
    {
      "cell_type": "code",
      "execution_count": null,
      "metadata": {},
      "outputs": [],
      "source": [
        "# Lambda function\n",
        "square = lambda x: x ** 2\n",
        "print(square(5))"
      ]
    },
    {
      "cell_type": "markdown",
      "metadata": {},
      "source": [
        "#### 3.4 map(), filter(), and reduce() Functions"
      ]
    },
    {
      "cell_type": "code",
      "execution_count": null,
      "metadata": {},
      "outputs": [],
      "source": [
        "from functools import reduce\n",
        "# map() function\n",
        "map_example = map(lambda x: x*2, [1, 2, 3])\n",
        "print(list(map_example))\n",
        "# filter() function\n",
        "filter_example = filter(lambda x: x > 1, [1, 2, 3])\n",
        "print(list(filter_example))\n",
        "# reduce() function\n",
        "reduce_example = reduce(lambda x, y: x + y, [1, 2, 3])\n",
        "print(reduce_example)"
      ]
    },
    {
      "cell_type": "markdown",
      "metadata": {},
      "source": [
        "### Session 3: List Comprehensions"
      ]
    },
    {
      "cell_type": "markdown",
      "metadata": {},
      "source": [
        "#### 4.1 Basic List Comprehensions"
      ]
    },
    {
      "cell_type": "code",
      "execution_count": null,
      "metadata": {},
      "outputs": [],
      "source": [
        "# Basic list comprehension\n",
        "squares = [x**2 for x in range(10)]\n",
        "print(squares)"
      ]
    },
    {
      "cell_type": "markdown",
      "metadata": {},
      "source": [
        "#### 4.2 Nested List Comprehensions"
      ]
    },
    {
      "cell_type": "code",
      "execution_count": null,
      "metadata": {},
      "outputs": [],
      "source": [
        "# Nested list comprehension\n",
        "matrix = [[row * col for col in range(3)] for row in range(3)]\n",
        "print(matrix)"
      ]
    },
    {
      "cell_type": "markdown",
      "metadata": {},
      "source": [
        "### Assignment"
      ]
    },
    {
      "cell_type": "markdown",
      "metadata": {},
      "source": [
        "#### Task 1: Create a list of numbers and use list methods to perform various operations."
      ]
    },
    {
      "cell_type": "code",
      "execution_count": null,
      "metadata": {},
      "outputs": [],
      "source": [
        "# Create a list of numbers\n",
        "numbers = [1, 2, 3, 4, 5]\n",
        "\n",
        "# Append an element to the list\n",
        "numbers.append(6)\n",
        "\n",
        "# Insert an element at a specific index\n",
        "numbers.insert(0, 0)\n",
        "\n",
        "# Remove an element from the list\n",
        "numbers.remove(3)\n",
        "\n",
        "# Get the index of an element\n",
        "index = numbers.index(4)\n",
        "\n",
        "# Count the occurrences of an element\n",
        "count = numbers.count(2)\n",
        "\n",
        "# Sort the list in ascending order\n",
        "numbers.sort()\n",
        "\n",
        "# Reverse the order of the list\n",
        "numbers.reverse()\n",
        "\n",
        "# Get the length of the list\n",
        "length = len(numbers)\n",
        "\n",
        "# Print the list and the results of the operations\n",
        "print(numbers)\n",
        "print(\"Index of 4:\", index)\n",
        "print(\"Count of 2:\", count)\n",
        "print(\"Length of the list:\", length)"
      ]
    },
    {
      "cell_type": "markdown",
      "metadata": {},
      "source": [
        "#### Task 2: Write a function to find the factorial of a number."
      ]
    },
    {
      "cell_type": "code",
      "execution_count": null,
      "metadata": {},
      "outputs": [],
      "source": [
        "def factorial(n: int):\n",
        "  pass"
      ]
    },
    {
      "cell_type": "markdown",
      "metadata": {},
      "source": [
        "#### Task 3: Create a dictionary to store student names and their grades, then perform various dictionary operations."
      ]
    },
    {
      "cell_type": "code",
      "execution_count": null,
      "metadata": {},
      "outputs": [],
      "source": [
        "# Create a dictionary to store student names and grades\n",
        "student_grades = {\n",
        "  \"Alice\": 85,\n",
        "  \"Bob\": 92,\n",
        "  \"Charlie\": 78\n",
        "}\n",
        "\n",
        "# Print the dictionary\n",
        "print(student_grades)\n",
        "\n",
        "# Access the value for a specific key\n",
        "alice_grade = student_grades[\"Alice\"]\n",
        "\n",
        "# Update the value for a specific key\n",
        "student_grades[\"Alice\"] = 88\n",
        "\n",
        "# Add a new key-value pair\n",
        "student_grades[\"David\"] = 90\n",
        "\n",
        "# Remove a key-value pair\n",
        "del student_grades[\"Charlie\"]\n",
        "\n",
        "# Check if a key exists in the dictionary\n",
        "is_bob_present = \"Bob\" in student_grades\n",
        "\n",
        "# Get the number of key-value pairs in the dictionary\n",
        "num_students = len(student_grades)\n",
        "\n",
        "# Print the dictionary and the results of the operations\n",
        "print(student_grades)"
      ]
    },
    {
      "cell_type": "markdown",
      "metadata": {},
      "source": [
        "#### Task 4: Use list comprehensions to generate a list of squares of numbers from 1 to 10."
      ]
    },
    {
      "cell_type": "code",
      "execution_count": null,
      "metadata": {},
      "outputs": [],
      "source": [
        "pass"
      ]
    }
  ],
  "metadata": {
    "kernelspec": {
      "display_name": "Python 3",
      "language": "python",
      "name": "python3"
    },
    "language_info": {
      "codemirror_mode": {
        "name": "ipython",
        "version": 3
      },
      "file_extension": ".py",
      "mimetype": "text/x-python",
      "name": "python",
      "nbconvert_exporter": "python",
      "pygments_lexer": "ipython3",
      "version": "3.11.3"
    }
  },
  "nbformat": 4,
  "nbformat_minor": 4
}
