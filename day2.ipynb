{
  "cells": [
    {
      "cell_type": "markdown",
      "metadata": {},
      "source": [
        "## Day 2: Data Structures and Functions"
      ]
    },
    {
      "cell_type": "markdown",
      "metadata": {},
      "source": [
        "<a target=\"_blank\" href=\"https://colab.research.google.com/github/nascarsayan/diy-python/blob/master/day2.ipynb\">\n",
        "  <img src=\"https://colab.research.google.com/assets/colab-badge.svg\" alt=\"Open In Colab\"/>\n",
        "</a>"
      ]
    },
    {
      "cell_type": "markdown",
      "metadata": {},
      "source": [
        "### Session 1: Lists and Tuples"
      ]
    },
    {
      "cell_type": "markdown",
      "metadata": {},
      "source": [
        "#### 1.1 Lists\n",
        "\n",
        "Lists are ordered, mutable collections of items. They can contain elements of different data types."
      ]
    },
    {
      "cell_type": "code",
      "execution_count": 1,
      "metadata": {},
      "outputs": [
        {
          "name": "stdout",
          "output_type": "stream",
          "text": [
            "[1, 2, 3, 'Python', True]\n"
          ]
        }
      ],
      "source": [
        "# Creating a list\n",
        "my_list = [1, 2, 3, \"Python\", True]\n",
        "print(my_list)"
      ]
    },
    {
      "cell_type": "markdown",
      "metadata": {},
      "source": [
        "#### 1.2 Accessing List Elements"
      ]
    },
    {
      "cell_type": "code",
      "execution_count": 2,
      "metadata": {},
      "outputs": [
        {
          "name": "stdout",
          "output_type": "stream",
          "text": [
            "First Element: 1\n",
            "Last Element: True\n"
          ]
        }
      ],
      "source": [
        "# Accessing elements\n",
        "first_element = my_list[0]\n",
        "last_element = my_list[-1]\n",
        "print(\"First Element:\", first_element)\n",
        "print(\"Last Element:\", last_element)"
      ]
    },
    {
      "cell_type": "markdown",
      "metadata": {},
      "source": [
        "#### 1.3 List Methods and Operations"
      ]
    },
    {
      "cell_type": "code",
      "execution_count": 3,
      "metadata": {},
      "outputs": [
        {
          "name": "stdout",
          "output_type": "stream",
          "text": [
            "[1, 'Inserted Element', 2, 3, 'Python', True, 'New Element']\n",
            "Concatenated List: [1, 'Inserted Element', 2, 3, 'Python', True, 'New Element', 'Another List']\n",
            "Sliced List: ['Inserted Element', 2, 3]\n",
            "[1, 2, 3, 4, 5, 6]\n"
          ]
        }
      ],
      "source": [
        "# List methods and operations\n",
        "my_list.append(\"New Element\")\n",
        "my_list.insert(1, \"Inserted Element\")\n",
        "print(my_list)\n",
        "concatenated_list = my_list + [\"Another List\"]\n",
        "sliced_list = my_list[1:4]\n",
        "print(\"Concatenated List:\", concatenated_list)\n",
        "print(\"Sliced List:\", sliced_list)\n",
        "a = [1, 2, 3]\n",
        "b = [4, 5, 6]\n",
        "print(a + b)"
      ]
    },
    {
      "cell_type": "markdown",
      "metadata": {},
      "source": [
        "#### 1.4 Tuples\n",
        "\n",
        "Tuples are ordered, immutable collections of items. They are similar to lists but cannot be modified after creation."
      ]
    },
    {
      "cell_type": "code",
      "execution_count": 4,
      "metadata": {},
      "outputs": [
        {
          "name": "stdout",
          "output_type": "stream",
          "text": [
            "(1, 2, 3, 'Python', True)\n",
            "First Element: 1\n",
            "Last Element: True\n"
          ]
        }
      ],
      "source": [
        "# Creating a tuple\n",
        "my_tuple = (1, 2, 3, \"Python\", True)\n",
        "print(my_tuple)\n",
        "# Accessing elements\n",
        "print(\"First Element:\", my_tuple[0])\n",
        "print(\"Last Element:\", my_tuple[-1])\n",
        "\n"
      ]
    },
    {
      "cell_type": "code",
      "execution_count": 5,
      "metadata": {},
      "outputs": [
        {
          "name": "stdout",
          "output_type": "stream",
          "text": [
            "[0, 1, 4, 9, 16, 25]\n",
            "<class 'tuple'> (0, 1, 4, 9, 16, 25)\n"
          ]
        }
      ],
      "source": [
        "squares = []\n",
        "for i in range(6):\n",
        "    squares.append(i ** 2)\n",
        "print(squares)\n",
        "tup = tuple(squares)\n",
        "print(type(tup), tup)"
      ]
    },
    {
      "cell_type": "code",
      "execution_count": null,
      "metadata": {},
      "outputs": [],
      "source": []
    },
    {
      "cell_type": "code",
      "execution_count": 6,
      "metadata": {},
      "outputs": [],
      "source": [
        "a, b = (0 , 2)"
      ]
    },
    {
      "cell_type": "markdown",
      "metadata": {},
      "source": [
        "### Session 2: Dictionaries and Sets"
      ]
    },
    {
      "cell_type": "markdown",
      "metadata": {},
      "source": [
        "#### 2.1 Dictionaries\n",
        "\n",
        "Dictionaries are collections of key-value pairs. They are unordered and mutable."
      ]
    },
    {
      "cell_type": "code",
      "execution_count": 7,
      "metadata": {},
      "outputs": [
        {
          "name": "stdout",
          "output_type": "stream",
          "text": [
            "{'name': 'John', 'age': 25}\n",
            "Name: John\n",
            "Age: 25\n",
            "{'name': 'John', 'age': 25, 'address': 'New York'}\n"
          ]
        }
      ],
      "source": [
        "# Creating a dictionary\n",
        "my_dict = {\"name\": \"John\", \"age\": 25}\n",
        "print(my_dict)\n",
        "# Accessing elements\n",
        "name = my_dict[\"name\"]\n",
        "age = my_dict.get(\"age\", \"default-value\")\n",
        "print(\"Name:\", name)\n",
        "print(\"Age:\", age)\n",
        "# Adding/Modifying elements\n",
        "my_dict[\"address\"] = \"New York\"\n",
        "print(my_dict)"
      ]
    },
    {
      "cell_type": "markdown",
      "metadata": {},
      "source": [
        "#### 2.2 Dictionary Methods and Operations"
      ]
    },
    {
      "cell_type": "code",
      "execution_count": 8,
      "metadata": {},
      "outputs": [
        {
          "name": "stdout",
          "output_type": "stream",
          "text": [
            "Keys: dict_keys(['name', 'age', 'address'])\n",
            "Values: dict_values(['John', 25, 'New York'])\n",
            "Items: dict_items([('name', 'John'), ('age', 25), ('address', 'New York')])\n",
            "Is 'name' in dictionary? True\n"
          ]
        }
      ],
      "source": [
        "# Dictionary methods\n",
        "keys = my_dict.keys()\n",
        "values = my_dict.values()\n",
        "items = my_dict.items()\n",
        "print(\"Keys:\", keys)\n",
        "print(\"Values:\", values)\n",
        "print(\"Items:\", items)\n",
        "# Checking for keys\n",
        "print(\"Is 'name' in dictionary?\", 'name' in my_dict)"
      ]
    },
    {
      "cell_type": "code",
      "execution_count": 9,
      "metadata": {},
      "outputs": [
        {
          "name": "stdout",
          "output_type": "stream",
          "text": [
            "Key is name ; value is John\n",
            "Key is age ; value is 25\n",
            "Key is address ; value is New York\n"
          ]
        }
      ],
      "source": [
        "# itearate over all elements in dict\n",
        "for k, v in my_dict.items():\n",
        "    print(f\"Key is {k} ; value is {v}\")"
      ]
    },
    {
      "cell_type": "markdown",
      "metadata": {},
      "source": [
        "#### 2.3 Sets\n",
        "\n",
        "Sets are unordered collections of unique elements."
      ]
    },
    {
      "cell_type": "code",
      "execution_count": 10,
      "metadata": {},
      "outputs": [
        {
          "name": "stdout",
          "output_type": "stream",
          "text": [
            "{1, 2, 3, 4}\n",
            "Union: {1, 2, 3, 4, 5, 6}\n",
            "Intersection: {3, 4}\n",
            "Difference: {1, 2}\n"
          ]
        }
      ],
      "source": [
        "# Creating a set\n",
        "my_set = {1, 2, 3, 4}\n",
        "print(my_set)\n",
        "# Set operations\n",
        "union_set = my_set | {3, 4, 5, 6}\n",
        "intersection_set = my_set & {3, 4, 5, 6}\n",
        "difference_set = my_set - {3, 4, 5, 6}\n",
        "print(\"Union:\", union_set)\n",
        "print(\"Intersection:\", intersection_set)\n",
        "print(\"Difference:\", difference_set)"
      ]
    },
    {
      "cell_type": "markdown",
      "metadata": {},
      "source": [
        "### Session 2: Functions"
      ]
    },
    {
      "cell_type": "markdown",
      "metadata": {},
      "source": [
        "#### 3.1 Defining and Calling Functions"
      ]
    },
    {
      "cell_type": "code",
      "execution_count": 11,
      "metadata": {},
      "outputs": [
        {
          "name": "stdout",
          "output_type": "stream",
          "text": [
            "Hello, Alice\n"
          ]
        }
      ],
      "source": [
        "# Defining a function\n",
        "def greet(name):\n",
        "    return \"Hello, \" + name\n",
        "# Calling a function\n",
        "print(greet(\"Alice\"))"
      ]
    },
    {
      "cell_type": "markdown",
      "metadata": {},
      "source": [
        "#### 3.2 Function Arguments and Return Values"
      ]
    },
    {
      "cell_type": "code",
      "execution_count": 12,
      "metadata": {},
      "outputs": [
        {
          "name": "stdout",
          "output_type": "stream",
          "text": [
            "5\n",
            "Hello, Guest\n",
            "Hello, Bob\n"
          ]
        }
      ],
      "source": [
        "# Positional arguments\n",
        "def add(a, b):\n",
        "    return a + b\n",
        "# Keyword arguments\n",
        "def greet(name=\"Guest\"):\n",
        "    return \"Hello, \" + name\n",
        "# Using the functions\n",
        "print(add(2, 3))\n",
        "print(greet())\n",
        "print(greet(\"Bob\"))"
      ]
    },
    {
      "cell_type": "markdown",
      "metadata": {},
      "source": [
        "#### 3.3 Lambda Functions"
      ]
    },
    {
      "cell_type": "code",
      "execution_count": 13,
      "metadata": {},
      "outputs": [
        {
          "name": "stdout",
          "output_type": "stream",
          "text": [
            "25\n"
          ]
        }
      ],
      "source": [
        "# Lambda function\n",
        "square = lambda x: x ** 2\n",
        "print(square(5))"
      ]
    },
    {
      "cell_type": "markdown",
      "metadata": {},
      "source": [
        "#### 3.4 map(), filter(), and reduce() Functions"
      ]
    },
    {
      "cell_type": "code",
      "execution_count": 14,
      "metadata": {},
      "outputs": [
        {
          "name": "stdout",
          "output_type": "stream",
          "text": [
            "[2, 4, 6]\n",
            "[2, 3]\n",
            "6\n"
          ]
        }
      ],
      "source": [
        "from functools import reduce\n",
        "# map() function\n",
        "map_example = map(lambda x: x*2, [1, 2, 3])\n",
        "print(list(map_example))\n",
        "# filter() function\n",
        "filter_example = filter(lambda x: x > 1, [1, 2, 3])\n",
        "print(list(filter_example))\n",
        "# reduce() function\n",
        "reduce_example = reduce(lambda x, y: x + y, [1, 2, 3])\n",
        "print(reduce_example)"
      ]
    },
    {
      "cell_type": "code",
      "execution_count": 16,
      "metadata": {},
      "outputs": [
        {
          "name": "stdout",
          "output_type": "stream",
          "text": [
            "[1, 4, 9]\n",
            "[1, 3]\n"
          ]
        }
      ],
      "source": [
        "l = [1, 2, 3]\n",
        "def sq(x):\n",
        "    return x ** 2\n",
        "squared_el = list(map(sq, l))\n",
        "print(squared_el)\n",
        "\n",
        "def only_odd(x):\n",
        "    return x % 2 == 1\n",
        "\n",
        "odd_el = list(filter(only_odd, l))\n",
        "print(odd_el)"
      ]
    },
    {
      "cell_type": "markdown",
      "metadata": {},
      "source": [
        "### Session 3: List Comprehensions"
      ]
    },
    {
      "cell_type": "markdown",
      "metadata": {},
      "source": [
        "#### 4.1 Basic List Comprehensions"
      ]
    },
    {
      "cell_type": "code",
      "execution_count": 17,
      "metadata": {},
      "outputs": [
        {
          "name": "stdout",
          "output_type": "stream",
          "text": [
            "[0, 1, 4, 9, 16, 25, 36, 49, 64, 81]\n"
          ]
        }
      ],
      "source": [
        "# Basic list comprehension\n",
        "squares = [x**2 for x in range(10)]\n",
        "print(squares)"
      ]
    },
    {
      "cell_type": "markdown",
      "metadata": {},
      "source": [
        "#### 4.2 Nested List Comprehensions"
      ]
    },
    {
      "cell_type": "code",
      "execution_count": 19,
      "metadata": {},
      "outputs": [
        {
          "name": "stdout",
          "output_type": "stream",
          "text": [
            "[[1, 2, 3, 4, 5], [2, 4, 6, 8, 10], [3, 6, 9, 12, 15]]\n"
          ]
        }
      ],
      "source": [
        "# Nested list comprehension\n",
        "matrix = [[(row + 1) * (col + 1) \n",
        "           for col in range(5)] for row in range(3)]\n",
        "print(matrix)"
      ]
    },
    {
      "cell_type": "markdown",
      "metadata": {},
      "source": [
        "### Assignment"
      ]
    },
    {
      "cell_type": "markdown",
      "metadata": {},
      "source": [
        "#### Task 1: Create a list of numbers and use list methods to perform various operations."
      ]
    },
    {
      "cell_type": "code",
      "execution_count": null,
      "metadata": {},
      "outputs": [],
      "source": [
        "# Create a list of numbers\n",
        "numbers = [1, 2, 3, 4, 5]\n",
        "\n",
        "# Append an element to the list\n",
        "numbers.append(6)\n",
        "\n",
        "# Insert an element at a specific index\n",
        "numbers.insert(0, 0)\n",
        "\n",
        "# Remove an element from the list\n",
        "numbers.remove(3)\n",
        "\n",
        "# Get the index of an element\n",
        "index = numbers.index(4)\n",
        "\n",
        "# Count the occurrences of an element\n",
        "count = numbers.count(2)\n",
        "\n",
        "# Sort the list in ascending order\n",
        "numbers.sort()\n",
        "\n",
        "# Reverse the order of the list\n",
        "numbers.reverse()\n",
        "\n",
        "# Get the length of the list\n",
        "length = len(numbers)\n",
        "\n",
        "# Print the list and the results of the operations\n",
        "print(numbers)\n",
        "print(\"Index of 4:\", index)\n",
        "print(\"Count of 2:\", count)\n",
        "print(\"Length of the list:\", length)"
      ]
    },
    {
      "cell_type": "markdown",
      "metadata": {},
      "source": [
        "#### Task 2: Write a function to find the factorial of a number."
      ]
    },
    {
      "cell_type": "code",
      "execution_count": null,
      "metadata": {},
      "outputs": [],
      "source": [
        "def factorial(n: int):\n",
        "  pass"
      ]
    },
    {
      "cell_type": "markdown",
      "metadata": {},
      "source": [
        "#### Task 3: Create a dictionary to store student names and their grades, then perform various dictionary operations."
      ]
    },
    {
      "cell_type": "code",
      "execution_count": null,
      "metadata": {},
      "outputs": [],
      "source": [
        "# Create a dictionary to store student names and grades\n",
        "student_grades = {\n",
        "  \"Alice\": 85,\n",
        "  \"Bob\": 92,\n",
        "  \"Charlie\": 78\n",
        "}\n",
        "\n",
        "# Print the dictionary\n",
        "print(student_grades)\n",
        "\n",
        "# Access the value for a specific key\n",
        "alice_grade = student_grades[\"Alice\"]\n",
        "\n",
        "# Update the value for a specific key\n",
        "student_grades[\"Alice\"] = 88\n",
        "\n",
        "# Add a new key-value pair\n",
        "student_grades[\"David\"] = 90\n",
        "\n",
        "# Remove a key-value pair\n",
        "del student_grades[\"Charlie\"]\n",
        "\n",
        "# Check if a key exists in the dictionary\n",
        "is_bob_present = \"Bob\" in student_grades\n",
        "\n",
        "# Get the number of key-value pairs in the dictionary\n",
        "num_students = len(student_grades)\n",
        "\n",
        "# Print the dictionary and the results of the operations\n",
        "print(student_grades)"
      ]
    },
    {
      "cell_type": "markdown",
      "metadata": {},
      "source": [
        "#### Task 4: Use list comprehensions to generate a list of squares of numbers from 1 to 10."
      ]
    },
    {
      "cell_type": "code",
      "execution_count": null,
      "metadata": {},
      "outputs": [],
      "source": [
        "pass"
      ]
    },
    {
      "cell_type": "code",
      "execution_count": 40,
      "metadata": {},
      "outputs": [],
      "source": [
        "# def fibonacci(n: int):\n",
        "#   f(0), f(1); f(n) = f(n - 1) + f(n - 2)\n",
        "\n",
        "from functools import cache\n",
        "@cache\n",
        "def fibo(n):\n",
        "    if n <= 0:\n",
        "        return 0\n",
        "    if n == 1:\n",
        "        return 1\n",
        "    return (fibo(n - 1) + fibo(n - 2)) % (10**9 + 7)"
      ]
    },
    {
      "cell_type": "code",
      "execution_count": 42,
      "metadata": {},
      "outputs": [
        {
          "data": {
            "text/plain": [
              "396503076"
            ]
          },
          "execution_count": 42,
          "metadata": {},
          "output_type": "execute_result"
        }
      ],
      "source": [
        "# for i in range(5):\n",
        "    # print(f\"i = {i}, fibo(i) = {fibo(i)}\")\n",
        "fibo(900)"
      ]
    },
    {
      "cell_type": "code",
      "execution_count": 43,
      "metadata": {},
      "outputs": [],
      "source": [
        "@cache\n",
        "def factorial(n):\n",
        "    if n <= 0:\n",
        "        return 1\n",
        "    return n * factorial(n-1)"
      ]
    },
    {
      "cell_type": "code",
      "execution_count": 44,
      "metadata": {},
      "outputs": [
        {
          "data": {
            "text/plain": [
              "6466855489220473672507304395536485253155359447828049608975952322944781961185526165512707047229268452925683969240398027149120740074042105844737747799459310029635780991774612983803150965145600000000000000000000000000000000"
            ]
          },
          "execution_count": 44,
          "metadata": {},
          "output_type": "execute_result"
        }
      ],
      "source": [
        "factorial(130)"
      ]
    },
    {
      "cell_type": "markdown",
      "metadata": {},
      "source": [
        "```\n",
        "*\n",
        "* *\n",
        "* * *\n",
        "* * * *\n",
        "* * * * *\n",
        "```"
      ]
    },
    {
      "cell_type": "code",
      "execution_count": 27,
      "metadata": {},
      "outputs": [
        {
          "name": "stdout",
          "output_type": "stream",
          "text": [
            "*\n",
            "* *\n",
            "* * *\n",
            "* * * *\n",
            "* * * * *\n"
          ]
        }
      ],
      "source": [
        "# Create a right angle triangle,\n",
        "#  right angle bottom left\n",
        "for i in range(5):\n",
        "    for j in range(i + 1):\n",
        "        print(\"*\", end=\"\" if i == j else \" \")\n",
        "    print()"
      ]
    },
    {
      "cell_type": "code",
      "execution_count": 32,
      "metadata": {},
      "outputs": [
        {
          "name": "stdout",
          "output_type": "stream",
          "text": [
            "          * \n",
            "        * * \n",
            "      * * * \n",
            "    * * * * \n",
            "  * * * * * \n"
          ]
        }
      ],
      "source": [
        "# Create a right angle triangle,\n",
        "#  right angle bottom right\n",
        "nr = 5\n",
        "for i in range(nr):\n",
        "    for j in range(nr - i):\n",
        "        print(\" \", end=\" \")\n",
        "    for j in range(nr - i, nr + 1):\n",
        "        print(\"*\", end=\" \")\n",
        "    print()"
      ]
    },
    {
      "cell_type": "code",
      "execution_count": 37,
      "metadata": {},
      "outputs": [
        {
          "name": "stdout",
          "output_type": "stream",
          "text": [
            "          *           \n",
            "        * * *         \n",
            "      * * * * *       \n",
            "    * * * * * * *     \n",
            "  * * * * * * * * *   \n"
          ]
        }
      ],
      "source": [
        "# Create an isoscales traingle\n",
        "nr = 5\n",
        "for i in range(nr):\n",
        "    for j in range(nr - i):\n",
        "        print(\" \", end=\" \")\n",
        "    for j in range(nr - i, nr + i + 1):\n",
        "        print(\"*\", end=\" \")\n",
        "    for j in range(nr - i):\n",
        "        print(\" \", end=\" \")\n",
        "    print()"
      ]
    },
    {
      "cell_type": "code",
      "execution_count": 39,
      "metadata": {},
      "outputs": [
        {
          "name": "stdout",
          "output_type": "stream",
          "text": [
            "                    *                     \n",
            "                  * * *                   \n",
            "                * * * * *                 \n",
            "              * * * * * * *               \n",
            "            * * * * * * * * *             \n",
            "              * * * * * * *               \n",
            "                * * * * *                 \n",
            "                  * * *                   \n",
            "                    *                     \n"
          ]
        }
      ],
      "source": [
        "# Create a 45 degree rotated square\n",
        "nr = 10\n",
        "for i in range(nr//2):\n",
        "    for j in range(nr - i):\n",
        "        print(\" \", end=\" \")\n",
        "    for j in range(nr - i, nr + i + 1):\n",
        "        print(\"*\", end=\" \")\n",
        "    for j in range(nr - i):\n",
        "        print(\" \", end=\" \")\n",
        "    print()\n",
        "for i in range(nr//2 - 2, -1, -1):\n",
        "    for j in range(nr - i):\n",
        "        print(\" \", end=\" \")\n",
        "    for j in range(nr - i, nr + i + 1):\n",
        "        print(\"*\", end=\" \")\n",
        "    for j in range(nr - i):\n",
        "        print(\" \", end=\" \")\n",
        "    print()"
      ]
    },
    {
      "cell_type": "code",
      "execution_count": 46,
      "metadata": {},
      "outputs": [
        {
          "name": "stdout",
          "output_type": "stream",
          "text": [
            "[1, 0, 0, 0, 0, 0, 0, 0]\n",
            "[1, 1, 0, 0, 0, 0, 0, 0]\n",
            "[1, 2, 1, 0, 0, 0, 0, 0]\n",
            "[1, 3, 3, 1, 0, 0, 0, 0]\n",
            "[1, 4, 6, 4, 1, 0, 0, 0]\n",
            "[1, 5, 10, 10, 5, 1, 0, 0]\n",
            "[1, 6, 15, 20, 15, 6, 1, 0]\n"
          ]
        }
      ],
      "source": [
        "# Pascal's triangle\n",
        "nr = 7\n",
        "nc = nr + 1\n",
        "arr = [1] + [0] * (nc - 1)\n",
        "for i in range(nr):\n",
        "    print(arr)\n",
        "    for i in range(nc - 1, -1, -1):\n",
        "        arr[i] = arr[i] + arr[i - 1]\n",
        "    print()"
      ]
    },
    {
      "cell_type": "code",
      "execution_count": 48,
      "metadata": {},
      "outputs": [
        {
          "data": {
            "text/plain": [
              "[[1], [1, 1], [1, 2, 1], [1, 3, 3, 1], [1, 4, 6, 4, 1]]"
            ]
          },
          "execution_count": 48,
          "metadata": {},
          "output_type": "execute_result"
        }
      ],
      "source": [
        "from typing import List\n",
        "class Solution:\n",
        "    def generate(self, nr: int) -> List[List[int]]:\n",
        "        res = []\n",
        "        nc = nr + 1\n",
        "        arr = [1] + [0] * (nc - 1)\n",
        "        for i in range(nr):\n",
        "            res.append(arr[:i + 1])\n",
        "            for i in range(nc - 1, -1, -1):\n",
        "                arr[i] = arr[i] + arr[i - 1]\n",
        "        return res\n",
        "\n",
        "Solution().generate(5)"
      ]
    },
    {
      "cell_type": "code",
      "execution_count": null,
      "metadata": {},
      "outputs": [],
      "source": []
    }
  ],
  "metadata": {
    "kernelspec": {
      "display_name": "Python 3",
      "language": "python",
      "name": "python3"
    },
    "language_info": {
      "codemirror_mode": {
        "name": "ipython",
        "version": 3
      },
      "file_extension": ".py",
      "mimetype": "text/x-python",
      "name": "python",
      "nbconvert_exporter": "python",
      "pygments_lexer": "ipython3",
      "version": "3.12.5"
    }
  },
  "nbformat": 4,
  "nbformat_minor": 4
}
