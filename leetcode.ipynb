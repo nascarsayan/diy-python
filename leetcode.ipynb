{
 "cells": [
  {
   "cell_type": "markdown",
   "metadata": {},
   "source": [
    "[35. Search Insert Position](https://leetcode.com/problems/search-insert-position/submissions/1355180391/)"
   ]
  },
  {
   "cell_type": "code",
   "execution_count": null,
   "metadata": {},
   "outputs": [],
   "source": [
    "import bisect\n",
    "from typing import List\n",
    "class Solution:\n",
    "  def searchInsert(self, nums: List[int], target: int) -> int:\n",
    "    return bisect.bisect_left(nums, target)"
   ]
  },
  {
   "cell_type": "markdown",
   "metadata": {},
   "source": [
    "[5. Longest Palindromic Substring](https://leetcode.com/problems/longest-palindromic-substring/)"
   ]
  },
  {
   "cell_type": "code",
   "execution_count": 2,
   "metadata": {},
   "outputs": [
    {
     "data": {
      "text/plain": [
       "'bb'"
      ]
     },
     "execution_count": 2,
     "metadata": {},
     "output_type": "execute_result"
    }
   ],
   "source": [
    "class Solution:\n",
    "  def longestPalindrome(self, s: str) -> str:\n",
    "    sz = len(s)\n",
    "    L, R = 0, 0\n",
    "    for i in range(sz):\n",
    "      l, r = i, i+1\n",
    "      while 0 <= l < r < sz:\n",
    "        if s[l] != s[r]: break\n",
    "        l, r = l-1, r+1\n",
    "      l, r = l+1, r-1\n",
    "      if r - l > R - L: L, R = l, r\n",
    "      l, r = i-1, i+1\n",
    "      while 0 <= l < r < sz:\n",
    "        if s[l] != s[r]: break\n",
    "        l, r = l-1, r+1\n",
    "      l, r = l+1, r-1\n",
    "      if r - l > R - L: L, R = l, r\n",
    "    return s[L:R+1]\n",
    "  \n",
    "Solution().longestPalindrome(\"cbbd\")"
   ]
  },
  {
   "cell_type": "code",
   "execution_count": 14,
   "metadata": {},
   "outputs": [
    {
     "data": {
      "text/plain": [
       "[1, 2, 3]"
      ]
     },
     "execution_count": 14,
     "metadata": {},
     "output_type": "execute_result"
    }
   ],
   "source": [
    "# TODO: fix\n",
    "from typing import List\n",
    "class Solution:\n",
    "  def nextPermutation(self, nums: List[int]) -> None:\n",
    "    numsT = tuple(nums)\n",
    "    from itertools import permutations\n",
    "    sortedNums = tuple(sorted(numsT))\n",
    "    x = permutations(sortedNums)\n",
    "    found = False\n",
    "    for numsPerm in x:\n",
    "      if found:\n",
    "        for j in range(len(nums)): nums[j] = numsPerm[j]\n",
    "        return\n",
    "      if numsPerm == numsT:\n",
    "        found = True\n",
    "    for j in range(len(nums)): nums[j] = sortedNums[j]\n",
    "      \n",
    "x = [3, 2, 1]\n",
    "Solution().nextPermutation(x)\n",
    "x"
   ]
  },
  {
   "cell_type": "code",
   "execution_count": 33,
   "metadata": {},
   "outputs": [
    {
     "data": {
      "text/plain": [
       "[[4, 33, 13, 32, 12, 2],\n",
       " [24, 1, 14, 33, 27, 29],\n",
       " [1, 20, 32, 32, 9, 20],\n",
       " [6, 7, 27, 2, 25, 26],\n",
       " [32, 21, 22, 28, 13, 16],\n",
       " [34, 7, 26, 14, 21, 28]]"
      ]
     },
     "execution_count": 33,
     "metadata": {},
     "output_type": "execute_result"
    }
   ],
   "source": [
    "class Solution:\n",
    "  def rotate(self, matrix: List[List[int]]) -> None:\n",
    "    sz = len(matrix)\n",
    "    done = set()\n",
    "    for i in range(sz // 2):\n",
    "      for j in range(i, sz-1-i):\n",
    "        newDone = {(i, j), (j, sz-1-i), (sz-1-i, sz-1-j), (sz-1-j, i)}\n",
    "        if done & newDone:\n",
    "          print(i, j)\n",
    "          print(done & newDone)\n",
    "        done = done | newDone\n",
    "        matrix[i][j], \\\n",
    "        matrix[j][sz-1-i], \\\n",
    "        matrix[sz-1-i][sz-1-j], \\\n",
    "        matrix[sz-1-j][i] = \\\n",
    "          matrix[sz-1-j][i], \\\n",
    "          matrix[i][j], \\\n",
    "          matrix[j][sz-1-i], \\\n",
    "          matrix[sz-1-i][sz-1-j]\n",
    "\n",
    "x = [[2,29,20,26,16,28],[12,27,9,25,13,21],[32,33,32,2,28,14],[13,14,32,27,22,26],[33,1,20,7,21,7],[4,24,1,6,32,34]]\n",
    "Solution().rotate(x)\n",
    "x"
   ]
  },
  {
   "cell_type": "markdown",
   "metadata": {},
   "source": [
    "[Spiral Matrix](https://leetcode.com/problems/spiral-matrix/)"
   ]
  },
  {
   "cell_type": "code",
   "execution_count": 38,
   "metadata": {},
   "outputs": [
    {
     "data": {
      "text/plain": [
       "[1, 2, 3, 6, 9, 8, 7, 4, 5]"
      ]
     },
     "execution_count": 38,
     "metadata": {},
     "output_type": "execute_result"
    }
   ],
   "source": [
    "class Solution:\n",
    "  def spiralOrder(self, matrix: List[List[int]]) -> List[int]:\n",
    "    dir = (0, 1)\n",
    "    nextDir = {\n",
    "      (0, 1): (1, 0),\n",
    "      (1, 0): (0, -1),\n",
    "      (0, -1): (-1, 0),\n",
    "      (-1, 0): (0, 1)\n",
    "    }\n",
    "    nr, nc = len(matrix), len(matrix[0])\n",
    "    taken = set()\n",
    "    res = []\n",
    "    i, j = 0, 0\n",
    "    while True:\n",
    "      res.append(matrix[i][j])\n",
    "      taken.add((i, j))\n",
    "      if not (0 <= i + dir[0] < nr and 0 <= j + dir[1] < nc and ((i + dir[0], j + dir[1]) not in taken)):\n",
    "        dir = nextDir[dir]\n",
    "      i, j = i + dir[0], j + dir[1]\n",
    "      if not (0 <= i < nr and 0 <= j < nc and ((i, j) not in taken)):\n",
    "        return res\n",
    "\n",
    "Solution().spiralOrder([[1,2,3],[4,5,6],[7,8,9]])"
   ]
  },
  {
   "cell_type": "code",
   "execution_count": 42,
   "metadata": {},
   "outputs": [
    {
     "data": {
      "text/plain": [
       "[[1, 5]]"
      ]
     },
     "execution_count": 42,
     "metadata": {},
     "output_type": "execute_result"
    }
   ],
   "source": [
    "class Solution:\n",
    "  def merge(self, intervals: List[List[int]]) -> List[List[int]]:\n",
    "    intervals.sort()\n",
    "    res = []\n",
    "    for s, e in intervals:\n",
    "      if res and res[-1][1] >= s:\n",
    "        res[-1][1] = max(res[-1][1], e)\n",
    "        continue\n",
    "      res.append([s, e])\n",
    "    return res\n",
    "  \n",
    "Solution().merge([[1,4],[4,5]])"
   ]
  },
  {
   "cell_type": "code",
   "execution_count": 45,
   "metadata": {},
   "outputs": [
    {
     "data": {
      "text/plain": [
       "7"
      ]
     },
     "execution_count": 45,
     "metadata": {},
     "output_type": "execute_result"
    }
   ],
   "source": [
    "# recursion with memo (dp)\n",
    "from functools import cache\n",
    "from typing import List\n",
    "class Solution:\n",
    "\n",
    "  @cache\n",
    "  def recurse(self, i, j):\n",
    "    if (i == 0 and j == 0): return self.grid[0][0]\n",
    "    if (i < 0 or j < 0 or i >= self.nr or j >= self.nc):\n",
    "      return float('inf')\n",
    "    return self.grid[i][j] + min(\n",
    "      self.recurse(i, j-1),\n",
    "      self.recurse(i-1, j))\n",
    "\n",
    "  def minPathSum(self, grid: List[List[int]]) -> int:\n",
    "    self.grid = grid\n",
    "    self.nr, self.nc = len(grid), len(grid[0])\n",
    "    return self.recurse(self.nr-1, self.nc-1)\n",
    "\n",
    "Solution().minPathSum([[1,3,1],[1,5,1],[4,2,1]])"
   ]
  },
  {
   "cell_type": "code",
   "execution_count": 46,
   "metadata": {},
   "outputs": [
    {
     "data": {
      "text/plain": [
       "3"
      ]
     },
     "execution_count": 46,
     "metadata": {},
     "output_type": "execute_result"
    }
   ],
   "source": [
    "# 72. Edit Distance\n",
    "# https://leetcode.com/problems/edit-distance/description/\n",
    "from functools import cache\n",
    "class Solution:\n",
    "  @cache\n",
    "  def minDistance(self, word1: str, word2: str) -> int:\n",
    "    if word1 == \"\": return len(word2)\n",
    "    if word2 == \"\": return len(word1)\n",
    "    if word1[-1] == word2[-1]:\n",
    "      return self.minDistance(word1[:-1], word2[:-1])\n",
    "    return min(\n",
    "      # delete word1[-1]\n",
    "      self.minDistance(word1[:-1], word2) + 1,\n",
    "      # insert word2[-1]\n",
    "      self.minDistance(word1, word2[:-1]) + 1,\n",
    "      # replace word1[-1] with word2[-1]\n",
    "      self.minDistance(word1[:-1], word2[:-1]) + 1,\n",
    "    )\n",
    "\n",
    "Solution().minDistance(\"horse\", \"ros\")"
   ]
  },
  {
   "cell_type": "code",
   "execution_count": 47,
   "metadata": {},
   "outputs": [],
   "source": [
    "from typing import Optional\n",
    "# 101. Symmetric Tree\n",
    "class TreeNode:\n",
    "  def __init__(self, val=0, left=None, right=None):\n",
    "    self.val = val\n",
    "    self.left = left\n",
    "    self.right = right\n",
    "\n",
    "class Solution:\n",
    "  def areMirrors(self, node1: Optional[TreeNode], node2: Optional[TreeNode]):\n",
    "    if node1 is None or node2 is None:\n",
    "      return node1 is None and node2 is None\n",
    "    if node1.val != node2.val:\n",
    "      return False\n",
    "    return self.areMirrors(node1.left, node2.right) and self.areMirrors(node1.right, node2.left)\n",
    "\n",
    "  def isSymmetric(self, root: Optional[TreeNode]) -> bool:\n",
    "    if not root: return True\n",
    "    return self.areMirrors(root.left, root.right)\n"
   ]
  },
  {
   "cell_type": "markdown",
   "metadata": {},
   "source": [
    "### Fun exercise: Backtracking\n",
    "\n",
    "[Playstore link for game](https://play.google.com/store/apps/details?id=zl.puzzle.riveriq&hl=en_IN)\n",
    "\n",
    "Code the solution to these games (using recursion / backtracking)"
   ]
  }
 ],
 "metadata": {
  "kernelspec": {
   "display_name": ".venv",
   "language": "python",
   "name": "python3"
  },
  "language_info": {
   "codemirror_mode": {
    "name": "ipython",
    "version": 3
   },
   "file_extension": ".py",
   "mimetype": "text/x-python",
   "name": "python",
   "nbconvert_exporter": "python",
   "pygments_lexer": "ipython3",
   "version": "3.12.4"
  }
 },
 "nbformat": 4,
 "nbformat_minor": 2
}
